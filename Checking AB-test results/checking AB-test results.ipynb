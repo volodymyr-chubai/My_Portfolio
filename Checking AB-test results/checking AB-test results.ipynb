{
 "cells": [
  {
   "cell_type": "markdown",
   "id": "673ca4e2",
   "metadata": {},
   "source": [
    "<h1>Проверка Результатов A/B теста</h1>"
   ]
  },
  {
   "cell_type": "markdown",
   "id": "e538993d",
   "metadata": {},
   "source": [
    "<h3>VOLODYMYR CHUBAI</h3>\n",
    "https://www.linkedin.com/in/volodymyr-chubai/"
   ]
  },
  {
   "cell_type": "markdown",
   "id": "cb11d58d",
   "metadata": {},
   "source": [
    "## Сценарий проекта\n",
    "Я Junior Data Analyst, работаю в команде аналитиков данных. Наша компания по продаже различных аксессуаров решила изменить дизайн сайта. Руководство компании считает, что картинки с котиками нужно убрать с главной страницы сайта, а ее оформление сделать более нейтральным. В этой ситуации нужно проверить эффективность нового дизайна в сравнении со старым. Меня попросили сосредоточиться на данных о результе A/B-тестирования, проведенного веб-сайтом электронной коммерции. Моя главная цель будет заключаться в том, чтобы решить, будут ли изменения работать лучше для компании или нет."
   ]
  },
  {
   "cell_type": "markdown",
   "id": "e6c7aa00",
   "metadata": {},
   "source": [
    "## 2. PREPARE\n",
    "### Источник данных\n",
    "Используемые данные были взяты из следующего общедоступного набора данных: [A/B testing](https://www.kaggle.com/zhangluyuan/ab-testing) \n",
    "\n",
    "Данные общедоступны на Kaggle и хранятся в 1 CSV-файле."
   ]
  },
  {
   "cell_type": "markdown",
   "id": "f78521a2",
   "metadata": {},
   "source": [
    "### Собранные данные включают\n",
    "`User ID` - Уникальный идентификатор пользователя.\n",
    "\n",
    "`TimeStamp` - Время начала сеанса для пользователя.\n",
    "\n",
    "`Group` - Содержит 2 разных значения в качестве контроля и обработки.\n",
    "\n",
    "`Landing Page` - Содержит 2 разных значения как 'old_page' и 'new_page'.\n",
    "\n",
    "`Converted` - Представляет поведение пользователя: совершил ли пользователь покупку (1) или нет (0)."
   ]
  },
  {
   "cell_type": "markdown",
   "id": "54e6002a",
   "metadata": {},
   "source": [
    "## 3. PROCESS\n",
    "### Подготовка рабочей среды\n",
    "Я буду использовать Python для очистки, преобразования и визуализации данных. Установлены следующие библиотеки:"
   ]
  },
  {
   "cell_type": "code",
   "execution_count": 84,
   "id": "0cb9ad73",
   "metadata": {},
   "outputs": [],
   "source": [
    "import pandas as pd\n",
    "import numpy as np\n",
    "import matplotlib.pyplot as plt\n",
    "import matplotlib.colors as mcolors\n",
    "import seaborn as sns\n",
    "%matplotlib inline"
   ]
  },
  {
   "cell_type": "code",
   "execution_count": 53,
   "id": "e4dcbf6a",
   "metadata": {},
   "outputs": [],
   "source": [
    "import statsmodels.stats.api as sms\n",
    "from statsmodels.stats.proportion import proportions_ztest\n",
    "from statsmodels.stats.proportion import proportion_confint\n",
    "import scipy.stats as stats\n",
    "from math import ceil"
   ]
  },
  {
   "cell_type": "markdown",
   "id": "5c7a6a48",
   "metadata": {},
   "source": [
    "### Импорт наборов данных"
   ]
  },
  {
   "cell_type": "code",
   "execution_count": 6,
   "id": "7a0fa44d",
   "metadata": {},
   "outputs": [],
   "source": [
    "data = pd.read_csv('/Users/volodymyrchubay/Desktop/A.B testing/Kaggle projects/Checking A.B test results/ab_data.csv')"
   ]
  },
  {
   "cell_type": "markdown",
   "id": "8cde83aa",
   "metadata": {},
   "source": [
    "### Просмотр данных"
   ]
  },
  {
   "cell_type": "code",
   "execution_count": 8,
   "id": "fdcbc5a4",
   "metadata": {},
   "outputs": [
    {
     "data": {
      "text/html": [
       "<div>\n",
       "<style scoped>\n",
       "    .dataframe tbody tr th:only-of-type {\n",
       "        vertical-align: middle;\n",
       "    }\n",
       "\n",
       "    .dataframe tbody tr th {\n",
       "        vertical-align: top;\n",
       "    }\n",
       "\n",
       "    .dataframe thead th {\n",
       "        text-align: right;\n",
       "    }\n",
       "</style>\n",
       "<table border=\"1\" class=\"dataframe\">\n",
       "  <thead>\n",
       "    <tr style=\"text-align: right;\">\n",
       "      <th></th>\n",
       "      <th>user_id</th>\n",
       "      <th>timestamp</th>\n",
       "      <th>group</th>\n",
       "      <th>landing_page</th>\n",
       "      <th>converted</th>\n",
       "    </tr>\n",
       "  </thead>\n",
       "  <tbody>\n",
       "    <tr>\n",
       "      <th>0</th>\n",
       "      <td>851104</td>\n",
       "      <td>2017-01-21 22:11:48.556739</td>\n",
       "      <td>control</td>\n",
       "      <td>old_page</td>\n",
       "      <td>0</td>\n",
       "    </tr>\n",
       "    <tr>\n",
       "      <th>1</th>\n",
       "      <td>804228</td>\n",
       "      <td>2017-01-12 08:01:45.159739</td>\n",
       "      <td>control</td>\n",
       "      <td>old_page</td>\n",
       "      <td>0</td>\n",
       "    </tr>\n",
       "    <tr>\n",
       "      <th>2</th>\n",
       "      <td>661590</td>\n",
       "      <td>2017-01-11 16:55:06.154213</td>\n",
       "      <td>treatment</td>\n",
       "      <td>new_page</td>\n",
       "      <td>0</td>\n",
       "    </tr>\n",
       "    <tr>\n",
       "      <th>3</th>\n",
       "      <td>853541</td>\n",
       "      <td>2017-01-08 18:28:03.143765</td>\n",
       "      <td>treatment</td>\n",
       "      <td>new_page</td>\n",
       "      <td>0</td>\n",
       "    </tr>\n",
       "    <tr>\n",
       "      <th>4</th>\n",
       "      <td>864975</td>\n",
       "      <td>2017-01-21 01:52:26.210827</td>\n",
       "      <td>control</td>\n",
       "      <td>old_page</td>\n",
       "      <td>1</td>\n",
       "    </tr>\n",
       "  </tbody>\n",
       "</table>\n",
       "</div>"
      ],
      "text/plain": [
       "   user_id                   timestamp      group landing_page  converted\n",
       "0   851104  2017-01-21 22:11:48.556739    control     old_page          0\n",
       "1   804228  2017-01-12 08:01:45.159739    control     old_page          0\n",
       "2   661590  2017-01-11 16:55:06.154213  treatment     new_page          0\n",
       "3   853541  2017-01-08 18:28:03.143765  treatment     new_page          0\n",
       "4   864975  2017-01-21 01:52:26.210827    control     old_page          1"
      ]
     },
     "execution_count": 8,
     "metadata": {},
     "output_type": "execute_result"
    }
   ],
   "source": [
    "data.head()"
   ]
  },
  {
   "cell_type": "markdown",
   "id": "32b19173",
   "metadata": {},
   "source": [
    "### Проверка данных"
   ]
  },
  {
   "cell_type": "code",
   "execution_count": 9,
   "id": "17aafa74",
   "metadata": {},
   "outputs": [
    {
     "data": {
      "text/plain": [
       "(294478, 5)"
      ]
     },
     "execution_count": 9,
     "metadata": {},
     "output_type": "execute_result"
    }
   ],
   "source": [
    "data.shape"
   ]
  },
  {
   "cell_type": "code",
   "execution_count": 11,
   "id": "a6fda1a8",
   "metadata": {},
   "outputs": [
    {
     "data": {
      "text/html": [
       "<div>\n",
       "<style scoped>\n",
       "    .dataframe tbody tr th:only-of-type {\n",
       "        vertical-align: middle;\n",
       "    }\n",
       "\n",
       "    .dataframe tbody tr th {\n",
       "        vertical-align: top;\n",
       "    }\n",
       "\n",
       "    .dataframe thead th {\n",
       "        text-align: right;\n",
       "    }\n",
       "</style>\n",
       "<table border=\"1\" class=\"dataframe\">\n",
       "  <thead>\n",
       "    <tr style=\"text-align: right;\">\n",
       "      <th></th>\n",
       "      <th>user_id</th>\n",
       "      <th>timestamp</th>\n",
       "      <th>group</th>\n",
       "      <th>landing_page</th>\n",
       "      <th>converted</th>\n",
       "    </tr>\n",
       "  </thead>\n",
       "  <tbody>\n",
       "    <tr>\n",
       "      <th>294476</th>\n",
       "      <td>697314</td>\n",
       "      <td>2017-01-15 01:20:28.957438</td>\n",
       "      <td>control</td>\n",
       "      <td>old_page</td>\n",
       "      <td>0</td>\n",
       "    </tr>\n",
       "    <tr>\n",
       "      <th>294477</th>\n",
       "      <td>715931</td>\n",
       "      <td>2017-01-16 12:40:24.467417</td>\n",
       "      <td>treatment</td>\n",
       "      <td>new_page</td>\n",
       "      <td>0</td>\n",
       "    </tr>\n",
       "  </tbody>\n",
       "</table>\n",
       "</div>"
      ],
      "text/plain": [
       "        user_id                   timestamp      group landing_page  converted\n",
       "294476   697314  2017-01-15 01:20:28.957438    control     old_page          0\n",
       "294477   715931  2017-01-16 12:40:24.467417  treatment     new_page          0"
      ]
     },
     "execution_count": 11,
     "metadata": {},
     "output_type": "execute_result"
    }
   ],
   "source": [
    "data.tail(2)"
   ]
  },
  {
   "cell_type": "code",
   "execution_count": 12,
   "id": "d8f60806",
   "metadata": {},
   "outputs": [
    {
     "name": "stdout",
     "output_type": "stream",
     "text": [
      "<class 'pandas.core.frame.DataFrame'>\n",
      "RangeIndex: 294478 entries, 0 to 294477\n",
      "Data columns (total 5 columns):\n",
      " #   Column        Non-Null Count   Dtype \n",
      "---  ------        --------------   ----- \n",
      " 0   user_id       294478 non-null  int64 \n",
      " 1   timestamp     294478 non-null  object\n",
      " 2   group         294478 non-null  object\n",
      " 3   landing_page  294478 non-null  object\n",
      " 4   converted     294478 non-null  int64 \n",
      "dtypes: int64(2), object(3)\n",
      "memory usage: 11.2+ MB\n"
     ]
    }
   ],
   "source": [
    "data.info()"
   ]
  },
  {
   "cell_type": "code",
   "execution_count": 14,
   "id": "82096e5c",
   "metadata": {},
   "outputs": [
    {
     "data": {
      "text/plain": [
       "Index(['user_id', 'timestamp', 'group', 'landing_page', 'converted'], dtype='object')"
      ]
     },
     "execution_count": 14,
     "metadata": {},
     "output_type": "execute_result"
    }
   ],
   "source": [
    "data.columns"
   ]
  },
  {
   "cell_type": "code",
   "execution_count": 35,
   "id": "acdc20de",
   "metadata": {},
   "outputs": [
    {
     "data": {
      "text/plain": [
       "290584"
      ]
     },
     "execution_count": 35,
     "metadata": {},
     "output_type": "execute_result"
    }
   ],
   "source": [
    "# проверка user ids на укикальность\n",
    "data.shape[0]\n",
    "data.user_id.nunique()"
   ]
  },
  {
   "cell_type": "code",
   "execution_count": 38,
   "id": "1374e05d",
   "metadata": {},
   "outputs": [
    {
     "name": "stdout",
     "output_type": "stream",
     "text": [
      "Group info:\n"
     ]
    },
    {
     "data": {
      "text/plain": [
       "treatment    147276\n",
       "control      147202\n",
       "Name: group, dtype: int64"
      ]
     },
     "execution_count": 38,
     "metadata": {},
     "output_type": "execute_result"
    }
   ],
   "source": [
    "print('Group info:')\n",
    "data['group'].value_counts()"
   ]
  },
  {
   "cell_type": "code",
   "execution_count": 40,
   "id": "681f7d24",
   "metadata": {},
   "outputs": [
    {
     "name": "stdout",
     "output_type": "stream",
     "text": [
      "Landing Page info:\n"
     ]
    },
    {
     "data": {
      "text/plain": [
       "old_page    147239\n",
       "new_page    147239\n",
       "Name: landing_page, dtype: int64"
      ]
     },
     "execution_count": 40,
     "metadata": {},
     "output_type": "execute_result"
    }
   ],
   "source": [
    "print('Landing Page info:',)\n",
    "data['landing_page'].value_counts()"
   ]
  },
  {
   "cell_type": "code",
   "execution_count": 41,
   "id": "fe152413",
   "metadata": {},
   "outputs": [
    {
     "data": {
      "text/html": [
       "<div>\n",
       "<style scoped>\n",
       "    .dataframe tbody tr th:only-of-type {\n",
       "        vertical-align: middle;\n",
       "    }\n",
       "\n",
       "    .dataframe tbody tr th {\n",
       "        vertical-align: top;\n",
       "    }\n",
       "\n",
       "    .dataframe thead th {\n",
       "        text-align: right;\n",
       "    }\n",
       "</style>\n",
       "<table border=\"1\" class=\"dataframe\">\n",
       "  <thead>\n",
       "    <tr style=\"text-align: right;\">\n",
       "      <th>landing_page</th>\n",
       "      <th>new_page</th>\n",
       "      <th>old_page</th>\n",
       "    </tr>\n",
       "    <tr>\n",
       "      <th>group</th>\n",
       "      <th></th>\n",
       "      <th></th>\n",
       "    </tr>\n",
       "  </thead>\n",
       "  <tbody>\n",
       "    <tr>\n",
       "      <th>control</th>\n",
       "      <td>1928</td>\n",
       "      <td>145274</td>\n",
       "    </tr>\n",
       "    <tr>\n",
       "      <th>treatment</th>\n",
       "      <td>145311</td>\n",
       "      <td>1965</td>\n",
       "    </tr>\n",
       "  </tbody>\n",
       "</table>\n",
       "</div>"
      ],
      "text/plain": [
       "landing_page  new_page  old_page\n",
       "group                           \n",
       "control           1928    145274\n",
       "treatment       145311      1965"
      ]
     },
     "execution_count": 41,
     "metadata": {},
     "output_type": "execute_result"
    }
   ],
   "source": [
    "pd.crosstab(data['group'], data['landing_page'])"
   ]
  },
  {
   "cell_type": "markdown",
   "id": "9e134a48",
   "metadata": {},
   "source": [
    "Ожидалось, что контрольная группа будет направлена на старую страницу, а экспериментальная группа - на новую. Группы отличаются по размеру, здесь что-то не так. Столбцы «group» и «landing_page» должны иметь одинаковый размер. Нужно избавится от записей, которые смущают нас."
   ]
  },
  {
   "cell_type": "markdown",
   "id": "844cb924",
   "metadata": {},
   "source": [
    "### Очистка данных\n",
    "Поиск нулевых значений"
   ]
  },
  {
   "cell_type": "code",
   "execution_count": 26,
   "id": "ef0a6acd",
   "metadata": {},
   "outputs": [
    {
     "data": {
      "text/plain": [
       "user_id         0\n",
       "timestamp       0\n",
       "group           0\n",
       "landing_page    0\n",
       "converted       0\n",
       "dtype: int64"
      ]
     },
     "execution_count": 26,
     "metadata": {},
     "output_type": "execute_result"
    }
   ],
   "source": [
    "# количество отсутствующих данных в каждом столбце\n",
    "data.isna().sum()"
   ]
  },
  {
   "cell_type": "markdown",
   "id": "569e253f",
   "metadata": {},
   "source": [
    "### Преобразование столбца 'timestamp' в datetime"
   ]
  },
  {
   "cell_type": "code",
   "execution_count": 27,
   "id": "fc2fa304",
   "metadata": {},
   "outputs": [
    {
     "data": {
      "text/plain": [
       "user_id          int64\n",
       "timestamp       object\n",
       "group           object\n",
       "landing_page    object\n",
       "converted        int64\n",
       "dtype: object"
      ]
     },
     "execution_count": 27,
     "metadata": {},
     "output_type": "execute_result"
    }
   ],
   "source": [
    "data.dtypes"
   ]
  },
  {
   "cell_type": "code",
   "execution_count": 29,
   "id": "168fdbc3",
   "metadata": {},
   "outputs": [],
   "source": [
    "data['timestamp'] = pd.to_datetime(data['timestamp'])"
   ]
  },
  {
   "cell_type": "code",
   "execution_count": 30,
   "id": "fa2aa9d7",
   "metadata": {},
   "outputs": [
    {
     "data": {
      "text/plain": [
       "user_id                  int64\n",
       "timestamp       datetime64[ns]\n",
       "group                   object\n",
       "landing_page            object\n",
       "converted                int64\n",
       "dtype: object"
      ]
     },
     "execution_count": 30,
     "metadata": {},
     "output_type": "execute_result"
    }
   ],
   "source": [
    "data.dtypes"
   ]
  },
  {
   "cell_type": "markdown",
   "id": "fada323d",
   "metadata": {},
   "source": [
    "### Преобразование столбца 'timestamp' в datetime"
   ]
  },
  {
   "cell_type": "code",
   "execution_count": 44,
   "id": "1e580803",
   "metadata": {},
   "outputs": [
    {
     "data": {
      "text/html": [
       "<div>\n",
       "<style scoped>\n",
       "    .dataframe tbody tr th:only-of-type {\n",
       "        vertical-align: middle;\n",
       "    }\n",
       "\n",
       "    .dataframe tbody tr th {\n",
       "        vertical-align: top;\n",
       "    }\n",
       "\n",
       "    .dataframe thead th {\n",
       "        text-align: right;\n",
       "    }\n",
       "</style>\n",
       "<table border=\"1\" class=\"dataframe\">\n",
       "  <thead>\n",
       "    <tr style=\"text-align: right;\">\n",
       "      <th></th>\n",
       "      <th>user_id</th>\n",
       "      <th>timestamp</th>\n",
       "      <th>group</th>\n",
       "      <th>landing_page</th>\n",
       "      <th>converted</th>\n",
       "      <th>check_page</th>\n",
       "    </tr>\n",
       "  </thead>\n",
       "  <tbody>\n",
       "    <tr>\n",
       "      <th>22</th>\n",
       "      <td>767017</td>\n",
       "      <td>2017-01-12 22:58:14.991443</td>\n",
       "      <td>control</td>\n",
       "      <td>new_page</td>\n",
       "      <td>0</td>\n",
       "      <td>treatment</td>\n",
       "    </tr>\n",
       "    <tr>\n",
       "      <th>240</th>\n",
       "      <td>733976</td>\n",
       "      <td>2017-01-11 15:11:16.407599</td>\n",
       "      <td>control</td>\n",
       "      <td>new_page</td>\n",
       "      <td>0</td>\n",
       "      <td>treatment</td>\n",
       "    </tr>\n",
       "    <tr>\n",
       "      <th>308</th>\n",
       "      <td>857184</td>\n",
       "      <td>2017-01-20 07:34:59.832626</td>\n",
       "      <td>treatment</td>\n",
       "      <td>old_page</td>\n",
       "      <td>0</td>\n",
       "      <td>control</td>\n",
       "    </tr>\n",
       "    <tr>\n",
       "      <th>327</th>\n",
       "      <td>686623</td>\n",
       "      <td>2017-01-09 14:26:40.734775</td>\n",
       "      <td>treatment</td>\n",
       "      <td>old_page</td>\n",
       "      <td>0</td>\n",
       "      <td>control</td>\n",
       "    </tr>\n",
       "    <tr>\n",
       "      <th>357</th>\n",
       "      <td>856078</td>\n",
       "      <td>2017-01-12 12:29:30.354835</td>\n",
       "      <td>treatment</td>\n",
       "      <td>old_page</td>\n",
       "      <td>0</td>\n",
       "      <td>control</td>\n",
       "    </tr>\n",
       "    <tr>\n",
       "      <th>...</th>\n",
       "      <td>...</td>\n",
       "      <td>...</td>\n",
       "      <td>...</td>\n",
       "      <td>...</td>\n",
       "      <td>...</td>\n",
       "      <td>...</td>\n",
       "    </tr>\n",
       "    <tr>\n",
       "      <th>294014</th>\n",
       "      <td>813406</td>\n",
       "      <td>2017-01-09 06:25:33.223301</td>\n",
       "      <td>treatment</td>\n",
       "      <td>old_page</td>\n",
       "      <td>0</td>\n",
       "      <td>control</td>\n",
       "    </tr>\n",
       "    <tr>\n",
       "      <th>294200</th>\n",
       "      <td>928506</td>\n",
       "      <td>2017-01-13 21:32:10.491309</td>\n",
       "      <td>control</td>\n",
       "      <td>new_page</td>\n",
       "      <td>0</td>\n",
       "      <td>treatment</td>\n",
       "    </tr>\n",
       "    <tr>\n",
       "      <th>294252</th>\n",
       "      <td>892498</td>\n",
       "      <td>2017-01-22 01:11:10.463211</td>\n",
       "      <td>treatment</td>\n",
       "      <td>old_page</td>\n",
       "      <td>0</td>\n",
       "      <td>control</td>\n",
       "    </tr>\n",
       "    <tr>\n",
       "      <th>294253</th>\n",
       "      <td>886135</td>\n",
       "      <td>2017-01-06 12:49:20.509403</td>\n",
       "      <td>control</td>\n",
       "      <td>new_page</td>\n",
       "      <td>0</td>\n",
       "      <td>treatment</td>\n",
       "    </tr>\n",
       "    <tr>\n",
       "      <th>294331</th>\n",
       "      <td>689637</td>\n",
       "      <td>2017-01-13 11:34:28.339532</td>\n",
       "      <td>control</td>\n",
       "      <td>new_page</td>\n",
       "      <td>0</td>\n",
       "      <td>treatment</td>\n",
       "    </tr>\n",
       "  </tbody>\n",
       "</table>\n",
       "<p>3893 rows × 6 columns</p>\n",
       "</div>"
      ],
      "text/plain": [
       "        user_id                  timestamp      group landing_page  converted  \\\n",
       "22       767017 2017-01-12 22:58:14.991443    control     new_page          0   \n",
       "240      733976 2017-01-11 15:11:16.407599    control     new_page          0   \n",
       "308      857184 2017-01-20 07:34:59.832626  treatment     old_page          0   \n",
       "327      686623 2017-01-09 14:26:40.734775  treatment     old_page          0   \n",
       "357      856078 2017-01-12 12:29:30.354835  treatment     old_page          0   \n",
       "...         ...                        ...        ...          ...        ...   \n",
       "294014   813406 2017-01-09 06:25:33.223301  treatment     old_page          0   \n",
       "294200   928506 2017-01-13 21:32:10.491309    control     new_page          0   \n",
       "294252   892498 2017-01-22 01:11:10.463211  treatment     old_page          0   \n",
       "294253   886135 2017-01-06 12:49:20.509403    control     new_page          0   \n",
       "294331   689637 2017-01-13 11:34:28.339532    control     new_page          0   \n",
       "\n",
       "       check_page  \n",
       "22      treatment  \n",
       "240     treatment  \n",
       "308       control  \n",
       "327       control  \n",
       "357       control  \n",
       "...           ...  \n",
       "294014    control  \n",
       "294200  treatment  \n",
       "294252    control  \n",
       "294253  treatment  \n",
       "294331  treatment  \n",
       "\n",
       "[3893 rows x 6 columns]"
      ]
     },
     "execution_count": 44,
     "metadata": {},
     "output_type": "execute_result"
    }
   ],
   "source": [
    "data['check_page'] = data['landing_page'].replace({'old_page':'control', 'new_page':'treatment'})\n",
    "data[data['group'] != data['check_page']]"
   ]
  },
  {
   "cell_type": "markdown",
   "id": "d4f6f162",
   "metadata": {},
   "source": [
    "Возможно проблема в пользователях. Это нужно проверить"
   ]
  },
  {
   "cell_type": "code",
   "execution_count": 45,
   "id": "e3483eb8",
   "metadata": {},
   "outputs": [
    {
     "data": {
      "text/plain": [
       "710039    2\n",
       "867226    2\n",
       "911040    2\n",
       "926754    2\n",
       "870710    2\n",
       "         ..\n",
       "917311    1\n",
       "930737    1\n",
       "630252    1\n",
       "913465    1\n",
       "920411    1\n",
       "Name: user_id, Length: 290584, dtype: int64"
      ]
     },
     "execution_count": 45,
     "metadata": {},
     "output_type": "execute_result"
    }
   ],
   "source": [
    "data = data.sort_values(by='timestamp')\n",
    "data['user_id'].value_counts()"
   ]
  },
  {
   "cell_type": "markdown",
   "id": "cf3e534b",
   "metadata": {},
   "source": [
    "Очень странно, одному пользователю показывалась одна и та же страница, но он был отнесен к разным группам. Другому пользователю были показаны другие страницы, но он был назначен в ту же группу. Если при А/Б тестировании одному пользователю показываются оба варианта, он должен принадлежать к разным группам, а если один вариант, то группа должна быть одна."
   ]
  },
  {
   "cell_type": "code",
   "execution_count": 46,
   "id": "70bf74bc",
   "metadata": {},
   "outputs": [
    {
     "data": {
      "text/html": [
       "<div>\n",
       "<style scoped>\n",
       "    .dataframe tbody tr th:only-of-type {\n",
       "        vertical-align: middle;\n",
       "    }\n",
       "\n",
       "    .dataframe tbody tr th {\n",
       "        vertical-align: top;\n",
       "    }\n",
       "\n",
       "    .dataframe thead th {\n",
       "        text-align: right;\n",
       "    }\n",
       "</style>\n",
       "<table border=\"1\" class=\"dataframe\">\n",
       "  <thead>\n",
       "    <tr style=\"text-align: right;\">\n",
       "      <th></th>\n",
       "      <th>user_id</th>\n",
       "      <th>timestamp</th>\n",
       "      <th>group</th>\n",
       "      <th>landing_page</th>\n",
       "      <th>converted</th>\n",
       "      <th>check_page</th>\n",
       "    </tr>\n",
       "  </thead>\n",
       "  <tbody>\n",
       "    <tr>\n",
       "      <th>90794</th>\n",
       "      <td>805339</td>\n",
       "      <td>2017-01-12 08:45:15.557052</td>\n",
       "      <td>treatment</td>\n",
       "      <td>old_page</td>\n",
       "      <td>0</td>\n",
       "      <td>control</td>\n",
       "    </tr>\n",
       "    <tr>\n",
       "      <th>234436</th>\n",
       "      <td>805339</td>\n",
       "      <td>2017-01-22 23:00:09.005288</td>\n",
       "      <td>control</td>\n",
       "      <td>old_page</td>\n",
       "      <td>0</td>\n",
       "      <td>control</td>\n",
       "    </tr>\n",
       "  </tbody>\n",
       "</table>\n",
       "</div>"
      ],
      "text/plain": [
       "        user_id                  timestamp      group landing_page  converted  \\\n",
       "90794    805339 2017-01-12 08:45:15.557052  treatment     old_page          0   \n",
       "234436   805339 2017-01-22 23:00:09.005288    control     old_page          0   \n",
       "\n",
       "       check_page  \n",
       "90794     control  \n",
       "234436    control  "
      ]
     },
     "execution_count": 46,
     "metadata": {},
     "output_type": "execute_result"
    }
   ],
   "source": [
    "data[data['user_id'] == 805339]"
   ]
  },
  {
   "cell_type": "code",
   "execution_count": 47,
   "id": "119387be",
   "metadata": {},
   "outputs": [
    {
     "data": {
      "text/html": [
       "<div>\n",
       "<style scoped>\n",
       "    .dataframe tbody tr th:only-of-type {\n",
       "        vertical-align: middle;\n",
       "    }\n",
       "\n",
       "    .dataframe tbody tr th {\n",
       "        vertical-align: top;\n",
       "    }\n",
       "\n",
       "    .dataframe thead th {\n",
       "        text-align: right;\n",
       "    }\n",
       "</style>\n",
       "<table border=\"1\" class=\"dataframe\">\n",
       "  <thead>\n",
       "    <tr style=\"text-align: right;\">\n",
       "      <th></th>\n",
       "      <th>user_id</th>\n",
       "      <th>timestamp</th>\n",
       "      <th>group</th>\n",
       "      <th>landing_page</th>\n",
       "      <th>converted</th>\n",
       "      <th>check_page</th>\n",
       "    </tr>\n",
       "  </thead>\n",
       "  <tbody>\n",
       "    <tr>\n",
       "      <th>245524</th>\n",
       "      <td>754884</td>\n",
       "      <td>2017-01-17 23:46:45.624036</td>\n",
       "      <td>treatment</td>\n",
       "      <td>new_page</td>\n",
       "      <td>0</td>\n",
       "      <td>treatment</td>\n",
       "    </tr>\n",
       "    <tr>\n",
       "      <th>236842</th>\n",
       "      <td>754884</td>\n",
       "      <td>2017-01-18 20:10:48.538515</td>\n",
       "      <td>treatment</td>\n",
       "      <td>old_page</td>\n",
       "      <td>0</td>\n",
       "      <td>control</td>\n",
       "    </tr>\n",
       "  </tbody>\n",
       "</table>\n",
       "</div>"
      ],
      "text/plain": [
       "        user_id                  timestamp      group landing_page  converted  \\\n",
       "245524   754884 2017-01-17 23:46:45.624036  treatment     new_page          0   \n",
       "236842   754884 2017-01-18 20:10:48.538515  treatment     old_page          0   \n",
       "\n",
       "       check_page  \n",
       "245524  treatment  \n",
       "236842    control  "
      ]
     },
     "execution_count": 47,
     "metadata": {},
     "output_type": "execute_result"
    }
   ],
   "source": [
    "data[data['user_id'] == 754884]"
   ]
  },
  {
   "cell_type": "code",
   "execution_count": 48,
   "id": "875cacbe",
   "metadata": {},
   "outputs": [
    {
     "data": {
      "text/html": [
       "<div>\n",
       "<style scoped>\n",
       "    .dataframe tbody tr th:only-of-type {\n",
       "        vertical-align: middle;\n",
       "    }\n",
       "\n",
       "    .dataframe tbody tr th {\n",
       "        vertical-align: top;\n",
       "    }\n",
       "\n",
       "    .dataframe thead th {\n",
       "        text-align: right;\n",
       "    }\n",
       "</style>\n",
       "<table border=\"1\" class=\"dataframe\">\n",
       "  <thead>\n",
       "    <tr style=\"text-align: right;\">\n",
       "      <th></th>\n",
       "      <th>user_id</th>\n",
       "      <th>timestamp</th>\n",
       "      <th>group</th>\n",
       "      <th>landing_page</th>\n",
       "      <th>converted</th>\n",
       "      <th>check_page</th>\n",
       "    </tr>\n",
       "  </thead>\n",
       "  <tbody>\n",
       "    <tr>\n",
       "      <th>262554</th>\n",
       "      <td>722274</td>\n",
       "      <td>2017-01-09 21:21:23.638444</td>\n",
       "      <td>control</td>\n",
       "      <td>new_page</td>\n",
       "      <td>0</td>\n",
       "      <td>treatment</td>\n",
       "    </tr>\n",
       "    <tr>\n",
       "      <th>105487</th>\n",
       "      <td>722274</td>\n",
       "      <td>2017-01-19 01:46:53.093257</td>\n",
       "      <td>control</td>\n",
       "      <td>old_page</td>\n",
       "      <td>0</td>\n",
       "      <td>control</td>\n",
       "    </tr>\n",
       "  </tbody>\n",
       "</table>\n",
       "</div>"
      ],
      "text/plain": [
       "        user_id                  timestamp    group landing_page  converted  \\\n",
       "262554   722274 2017-01-09 21:21:23.638444  control     new_page          0   \n",
       "105487   722274 2017-01-19 01:46:53.093257  control     old_page          0   \n",
       "\n",
       "       check_page  \n",
       "262554  treatment  \n",
       "105487    control  "
      ]
     },
     "execution_count": 48,
     "metadata": {},
     "output_type": "execute_result"
    }
   ],
   "source": [
    "data[data['user_id'] == 722274]"
   ]
  },
  {
   "cell_type": "markdown",
   "id": "6128085e",
   "metadata": {},
   "source": [
    "Если убрать все несоответствия, исчезнут все повторяющиеся пользователи (кроме одного)"
   ]
  },
  {
   "cell_type": "code",
   "execution_count": 49,
   "id": "d1c8503e",
   "metadata": {},
   "outputs": [
    {
     "data": {
      "text/plain": [
       "773192    2\n",
       "922696    1\n",
       "829063    1\n",
       "867327    1\n",
       "762358    1\n",
       "         ..\n",
       "655980    1\n",
       "861027    1\n",
       "887897    1\n",
       "924198    1\n",
       "920411    1\n",
       "Name: user_id, Length: 290584, dtype: int64"
      ]
     },
     "execution_count": 49,
     "metadata": {},
     "output_type": "execute_result"
    }
   ],
   "source": [
    "ab_data = data[data['group'] == data['check_page']]\n",
    "ab_data['user_id'].value_counts()"
   ]
  },
  {
   "cell_type": "code",
   "execution_count": 50,
   "id": "04b63a7e",
   "metadata": {},
   "outputs": [
    {
     "data": {
      "text/plain": [
       "new_page    145310\n",
       "old_page    145274\n",
       "Name: landing_page, dtype: int64"
      ]
     },
     "execution_count": 50,
     "metadata": {},
     "output_type": "execute_result"
    }
   ],
   "source": [
    "ab_data = ab_data.drop_duplicates(subset='user_id', keep='first')\n",
    "ab_data['landing_page'].value_counts()"
   ]
  },
  {
   "cell_type": "code",
   "execution_count": 51,
   "id": "740f2c2a",
   "metadata": {},
   "outputs": [
    {
     "data": {
      "text/plain": [
       "treatment    145310\n",
       "control      145274\n",
       "Name: group, dtype: int64"
      ]
     },
     "execution_count": 51,
     "metadata": {},
     "output_type": "execute_result"
    }
   ],
   "source": [
    "ab_data['group'].value_counts()"
   ]
  },
  {
   "cell_type": "markdown",
   "id": "6481295f",
   "metadata": {},
   "source": [
    "## 4. ANALYSE\n",
    "После обработки данных необходимо определить количество наблюдений, достаточное для проведения теста.\n",
    "\n",
    "Как всегда, мы проверим нулевую гипотезу Hₒ, которая утверждает, что нет существенных различий между новой и старой страницами. Мы также проверим альтернативную гипотезу Hₐ, утверждающую, что различия существуют\n",
    "\n",
    "Не вижу необходимости нарушать «золотой стандарт» и выбрал альфа = 0,05, мощность = 0,8. \n",
    "\n",
    "Функция ratio_effectsize вычисляет размер эффекта для теста, сравнивающего две пропорции. Коэффициент конверсии в настоящее время составляет 12%, с новой страницей мы ожидаем, что он увеличится на 2%. Нам нужно 4433 наблюдения для каждой группы"
   ]
  },
  {
   "cell_type": "code",
   "execution_count": 54,
   "id": "909551ed",
   "metadata": {},
   "outputs": [
    {
     "data": {
      "text/plain": [
       "4433"
      ]
     },
     "execution_count": 54,
     "metadata": {},
     "output_type": "execute_result"
    }
   ],
   "source": [
    "prop_effsize = sms.proportion_effectsize(0.12, 0.14)\n",
    "alpha = 0.05\n",
    "power = 0.8\n",
    "\n",
    "required_n = sms.NormalIndPower().solve_power(\n",
    "    prop_effsize,  \n",
    "    alpha=alpha,\n",
    "    power=power\n",
    "    )\n",
    "required_n = ceil(required_n)\n",
    "required_n"
   ]
  },
  {
   "cell_type": "markdown",
   "id": "a0f860db",
   "metadata": {},
   "source": [
    "Или же можно использовать калькулятор Евана Миллера 'Sample Size Calculator', определив значения:\n",
    "* Statistical power 1−β: 80%\n",
    "* Significance level α: 5%\n",
    "* Baseline conversion rate: 12%\n",
    "* Minimum Detectable Effect: 2%\n",
    "\n",
    "link: https://www.evanmiller.org/ab-testing/sample-size.html"
   ]
  },
  {
   "cell_type": "code",
   "execution_count": 56,
   "id": "2cd0ff5e",
   "metadata": {},
   "outputs": [
    {
     "data": {
      "text/html": [
       "<div>\n",
       "<style scoped>\n",
       "    .dataframe tbody tr th:only-of-type {\n",
       "        vertical-align: middle;\n",
       "    }\n",
       "\n",
       "    .dataframe tbody tr th {\n",
       "        vertical-align: top;\n",
       "    }\n",
       "\n",
       "    .dataframe thead th {\n",
       "        text-align: right;\n",
       "    }\n",
       "</style>\n",
       "<table border=\"1\" class=\"dataframe\">\n",
       "  <thead>\n",
       "    <tr style=\"text-align: right;\">\n",
       "      <th></th>\n",
       "      <th>user_id</th>\n",
       "      <th>timestamp</th>\n",
       "      <th>group</th>\n",
       "      <th>landing_page</th>\n",
       "      <th>converted</th>\n",
       "      <th>check_page</th>\n",
       "    </tr>\n",
       "  </thead>\n",
       "  <tbody>\n",
       "    <tr>\n",
       "      <th>0</th>\n",
       "      <td>781507</td>\n",
       "      <td>2017-01-02 13:42:15.234051</td>\n",
       "      <td>control</td>\n",
       "      <td>old_page</td>\n",
       "      <td>0</td>\n",
       "      <td>control</td>\n",
       "    </tr>\n",
       "    <tr>\n",
       "      <th>1</th>\n",
       "      <td>737319</td>\n",
       "      <td>2017-01-02 13:42:21.786186</td>\n",
       "      <td>control</td>\n",
       "      <td>old_page</td>\n",
       "      <td>0</td>\n",
       "      <td>control</td>\n",
       "    </tr>\n",
       "    <tr>\n",
       "      <th>2</th>\n",
       "      <td>799109</td>\n",
       "      <td>2017-01-02 13:42:45.219901</td>\n",
       "      <td>control</td>\n",
       "      <td>old_page</td>\n",
       "      <td>0</td>\n",
       "      <td>control</td>\n",
       "    </tr>\n",
       "    <tr>\n",
       "      <th>3</th>\n",
       "      <td>643921</td>\n",
       "      <td>2017-01-02 13:43:03.767329</td>\n",
       "      <td>control</td>\n",
       "      <td>old_page</td>\n",
       "      <td>1</td>\n",
       "      <td>control</td>\n",
       "    </tr>\n",
       "    <tr>\n",
       "      <th>4</th>\n",
       "      <td>677659</td>\n",
       "      <td>2017-01-02 13:43:32.744957</td>\n",
       "      <td>control</td>\n",
       "      <td>old_page</td>\n",
       "      <td>0</td>\n",
       "      <td>control</td>\n",
       "    </tr>\n",
       "    <tr>\n",
       "      <th>...</th>\n",
       "      <td>...</td>\n",
       "      <td>...</td>\n",
       "      <td>...</td>\n",
       "      <td>...</td>\n",
       "      <td>...</td>\n",
       "      <td>...</td>\n",
       "    </tr>\n",
       "    <tr>\n",
       "      <th>8861</th>\n",
       "      <td>816556</td>\n",
       "      <td>2017-01-03 05:39:04.377045</td>\n",
       "      <td>treatment</td>\n",
       "      <td>new_page</td>\n",
       "      <td>0</td>\n",
       "      <td>treatment</td>\n",
       "    </tr>\n",
       "    <tr>\n",
       "      <th>8862</th>\n",
       "      <td>706254</td>\n",
       "      <td>2017-01-03 05:39:46.805443</td>\n",
       "      <td>treatment</td>\n",
       "      <td>new_page</td>\n",
       "      <td>0</td>\n",
       "      <td>treatment</td>\n",
       "    </tr>\n",
       "    <tr>\n",
       "      <th>8863</th>\n",
       "      <td>872254</td>\n",
       "      <td>2017-01-03 05:40:18.166385</td>\n",
       "      <td>treatment</td>\n",
       "      <td>new_page</td>\n",
       "      <td>0</td>\n",
       "      <td>treatment</td>\n",
       "    </tr>\n",
       "    <tr>\n",
       "      <th>8864</th>\n",
       "      <td>832214</td>\n",
       "      <td>2017-01-03 05:40:27.946779</td>\n",
       "      <td>treatment</td>\n",
       "      <td>new_page</td>\n",
       "      <td>0</td>\n",
       "      <td>treatment</td>\n",
       "    </tr>\n",
       "    <tr>\n",
       "      <th>8865</th>\n",
       "      <td>660194</td>\n",
       "      <td>2017-01-03 05:40:38.227138</td>\n",
       "      <td>treatment</td>\n",
       "      <td>new_page</td>\n",
       "      <td>0</td>\n",
       "      <td>treatment</td>\n",
       "    </tr>\n",
       "  </tbody>\n",
       "</table>\n",
       "<p>8866 rows × 6 columns</p>\n",
       "</div>"
      ],
      "text/plain": [
       "      user_id                  timestamp      group landing_page  converted  \\\n",
       "0      781507 2017-01-02 13:42:15.234051    control     old_page          0   \n",
       "1      737319 2017-01-02 13:42:21.786186    control     old_page          0   \n",
       "2      799109 2017-01-02 13:42:45.219901    control     old_page          0   \n",
       "3      643921 2017-01-02 13:43:03.767329    control     old_page          1   \n",
       "4      677659 2017-01-02 13:43:32.744957    control     old_page          0   \n",
       "...       ...                        ...        ...          ...        ...   \n",
       "8861   816556 2017-01-03 05:39:04.377045  treatment     new_page          0   \n",
       "8862   706254 2017-01-03 05:39:46.805443  treatment     new_page          0   \n",
       "8863   872254 2017-01-03 05:40:18.166385  treatment     new_page          0   \n",
       "8864   832214 2017-01-03 05:40:27.946779  treatment     new_page          0   \n",
       "8865   660194 2017-01-03 05:40:38.227138  treatment     new_page          0   \n",
       "\n",
       "     check_page  \n",
       "0       control  \n",
       "1       control  \n",
       "2       control  \n",
       "3       control  \n",
       "4       control  \n",
       "...         ...  \n",
       "8861  treatment  \n",
       "8862  treatment  \n",
       "8863  treatment  \n",
       "8864  treatment  \n",
       "8865  treatment  \n",
       "\n",
       "[8866 rows x 6 columns]"
      ]
     },
     "execution_count": 56,
     "metadata": {},
     "output_type": "execute_result"
    }
   ],
   "source": [
    "# поместим необходимое количество наблюдений в отдельный фрейм данных\n",
    "ab_required = pd.concat([ab_data[ab_data['group'] == 'control'].head(required_n),\n",
    "                         ab_data[ab_data['group'] == 'treatment'].head(required_n)], ignore_index=True)\n",
    "\n",
    "ab_required"
   ]
  },
  {
   "cell_type": "markdown",
   "id": "01e98980",
   "metadata": {},
   "source": [
    "Чтобы оценить эффективность новой страницы, нам нужно рассчитать конверсию, стандартное отклонение и стандартную ошибку среднего значения для каждой группы. Основываясь на этих показателях будем делать вывод, относительно того, какая страница есть эффективней."
   ]
  },
  {
   "cell_type": "code",
   "execution_count": 57,
   "id": "c257523e",
   "metadata": {},
   "outputs": [
    {
     "data": {
      "text/html": [
       "<style type=\"text/css\">\n",
       "</style>\n",
       "<table id=\"T_d8b10\">\n",
       "  <thead>\n",
       "    <tr>\n",
       "      <th class=\"blank level0\" >&nbsp;</th>\n",
       "      <th id=\"T_d8b10_level0_col0\" class=\"col_heading level0 col0\" >conversion_rate</th>\n",
       "      <th id=\"T_d8b10_level0_col1\" class=\"col_heading level0 col1\" >std_deviation</th>\n",
       "      <th id=\"T_d8b10_level0_col2\" class=\"col_heading level0 col2\" >std_error</th>\n",
       "    </tr>\n",
       "    <tr>\n",
       "      <th class=\"index_name level0\" >group</th>\n",
       "      <th class=\"blank col0\" >&nbsp;</th>\n",
       "      <th class=\"blank col1\" >&nbsp;</th>\n",
       "      <th class=\"blank col2\" >&nbsp;</th>\n",
       "    </tr>\n",
       "  </thead>\n",
       "  <tbody>\n",
       "    <tr>\n",
       "      <th id=\"T_d8b10_level0_row0\" class=\"row_heading level0 row0\" >control</th>\n",
       "      <td id=\"T_d8b10_row0_col0\" class=\"data row0 col0\" >0.120</td>\n",
       "      <td id=\"T_d8b10_row0_col1\" class=\"data row0 col1\" >0.324</td>\n",
       "      <td id=\"T_d8b10_row0_col2\" class=\"data row0 col2\" >0.005</td>\n",
       "    </tr>\n",
       "    <tr>\n",
       "      <th id=\"T_d8b10_level0_row1\" class=\"row_heading level0 row1\" >treatment</th>\n",
       "      <td id=\"T_d8b10_row1_col0\" class=\"data row1 col0\" >0.117</td>\n",
       "      <td id=\"T_d8b10_row1_col1\" class=\"data row1 col1\" >0.321</td>\n",
       "      <td id=\"T_d8b10_row1_col2\" class=\"data row1 col2\" >0.005</td>\n",
       "    </tr>\n",
       "  </tbody>\n",
       "</table>\n"
      ],
      "text/plain": [
       "<pandas.io.formats.style.Styler at 0x7f993833d6a0>"
      ]
     },
     "execution_count": 57,
     "metadata": {},
     "output_type": "execute_result"
    }
   ],
   "source": [
    "std_dev = lambda x: np.std(x, ddof=0)\n",
    "std_err = lambda x: stats.sem(x, ddof=0)\n",
    "\n",
    "conv_rates = ab_required.groupby('group')['converted']\n",
    "conv_rates = conv_rates.agg([np.mean, std_dev, std_err])\n",
    "\n",
    "conv_rates.columns = ['conversion_rate', 'std_deviation', 'std_error']\n",
    "\n",
    "conv_rates.style.format('{:.3f}')"
   ]
  },
  {
   "cell_type": "code",
   "execution_count": 87,
   "id": "4d5ebda7",
   "metadata": {},
   "outputs": [],
   "source": [
    "def plot_barplot(df, x_col, y_col, title, xlabel, ylabel):\n",
    "    \n",
    "    fig, ax = plt.subplots()\n",
    "    ax.bar(df[x_col].index, df[y_col].values)\n",
    "    ax.set_title(title)\n",
    "    ax.set_xlabel(xlabel)\n",
    "    ax.set_ylabel(ylabel)\n",
    "    plt.xticks(rotation=90)\n",
    "    \n",
    "    # Добавляем текст на бары с форматированием числовых значений\n",
    "    for i, val in enumerate(df[y_col]):\n",
    "        plt.text(i, val, format(val, '.4f'), ha='center', va='bottom')\n",
    "    \n",
    "    \n",
    "    plt.show()"
   ]
  },
  {
   "cell_type": "code",
   "execution_count": 88,
   "id": "a438e59a",
   "metadata": {},
   "outputs": [
    {
     "data": {
      "image/png": "[encoded data removed]",
      "text/plain": [
       "<Figure size 432x288 with 1 Axes>"
      ]
     },
     "metadata": {
      "needs_background": "light"
     },
     "output_type": "display_data"
    }
   ],
   "source": [
    "plot_barplot(conv_rates, 'conversion_rate', 'conversion_rate', 'Conversion rate', 'Group', 'Conversion rate')"
   ]
  },
  {
   "cell_type": "markdown",
   "id": "fbf9b22c",
   "metadata": {},
   "source": [
    "Размер выборки большой, поэтому будет использоваться z-тест. Вычисленное значение p намного больше 0,05, что означает, что нулевая гипотеза не может быть отвергнута. Интересно, что наша теоретическая оценка 14% конверсии на новой странице даже не входит в доверительный интервал."
   ]
  },
  {
   "cell_type": "code",
   "execution_count": 59,
   "id": "5cb7c249",
   "metadata": {},
   "outputs": [
    {
     "name": "stdout",
     "output_type": "stream",
     "text": [
      "z statistic: 0.395\n",
      "p-value: 0.693\n",
      "ci 95% Control group: [0.110, 0.129]\n",
      "ci 95% Reatment group: [0.107, 0.126]\n"
     ]
    }
   ],
   "source": [
    "g_counts = [ab_required[ab_required['group'] == 'control']['converted'].sum(), \n",
    "            ab_required[ab_required['group'] == 'treatment']['converted'].sum()]\n",
    "nobs = [required_n, required_n]\n",
    "\n",
    "z_stat, pval = proportions_ztest(\n",
    "    g_counts, \n",
    "    nobs=nobs\n",
    "    )\n",
    "ci_low, ci_upp = proportion_confint(\n",
    "    g_counts, \n",
    "    nobs=nobs, \n",
    "    alpha=alpha\n",
    "    )\n",
    "print(f'z statistic: {z_stat:.3f}')\n",
    "print(f'p-value: {pval:.3f}')\n",
    "print(f'ci 95% Control group: [{ci_low[0]:.3f}, {ci_upp[0]:.3f}]')\n",
    "print(f'ci 95% Reatment group: [{ci_low[1]:.3f}, {ci_upp[1]:.3f}]')"
   ]
  },
  {
   "cell_type": "markdown",
   "id": "c1c23b38",
   "metadata": {},
   "source": [
    "## Вывод\n",
    "Основываясь на статистических даных можно сказать что различий между новой и старой версиями страницы нет, ведь p-value > 0.05"
   ]
  }
 ],
 "metadata": {
  "kernelspec": {
   "display_name": "Python 3 (ipykernel)",
   "language": "python",
   "name": "python3"
  },
  "language_info": {
   "codemirror_mode": {
    "name": "ipython",
    "version": 3
   },
   "file_extension": ".py",
   "mimetype": "text/x-python",
   "name": "python",
   "nbconvert_exporter": "python",
   "pygments_lexer": "ipython3",
   "version": "3.9.7"
  }
 },
 "nbformat": 4,
 "nbformat_minor": 5
}
