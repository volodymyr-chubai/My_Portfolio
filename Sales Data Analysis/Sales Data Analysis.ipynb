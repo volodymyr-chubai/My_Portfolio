{
 "cells": [
  {
   "cell_type": "markdown",
   "id": "082f99ea",
   "metadata": {},
   "source": [
    "<h1>Анализ Данных о Продажах</h1>"
   ]
  },
  {
   "cell_type": "markdown",
   "id": "7667fa3c",
   "metadata": {},
   "source": [
    "<h3>VOLODYMYR CHUBAI</h3>\n",
    "https://www.linkedin.com/in/volodymyr-chubai/"
   ]
  },
  {
   "cell_type": "markdown",
   "id": "970ac655",
   "metadata": {},
   "source": [
    "## Сценарий проекта\n",
    "Я Junior Data Analyst, работаю в команде аналитиков данных. Меня попросили сосредоточиться на данных о продажах продуктов и проанализировать эти данные, чтобы понять, какие продукты покупают клиенты, и ответить на другие вопросы. Ответы на эти вопросы помогут определить дальнейшую стратегию компании."
   ]
  },
  {
   "cell_type": "markdown",
   "id": "87cbbeb4",
   "metadata": {},
   "source": [
    "## 1. ASK"
   ]
  },
  {
   "cell_type": "markdown",
   "id": "103eac0a",
   "metadata": {},
   "source": [
    "### Вопросы:\n",
    "* Сколько было заработано в этом году?\n",
    "* Какой месяц был лучшим по продажам? Сколько было заработано в этом месяце? \n",
    "* В каком городе было больше всего продаж?\n",
    "* В какое время мы должны показывать рекламу, чтобы максимизировать вероятность того, что клиент купит продукт?\n",
    "* Какие продукты чаще всего продаются вместе?\n",
    "* Какой товар продается больше всего?"
   ]
  },
  {
   "cell_type": "markdown",
   "id": "fa1e6b20",
   "metadata": {},
   "source": [
    "### Какова вероятность?\n",
    "* что другие люди будут заказывать зарядный кабель USB-C?\n",
    "* что другие люди будут заказывать iPhone? \n",
    "* что другие люди будут заказывать Google Phone? \n",
    "* что другие люди будут заказывать проводные наушники?"
   ]
  },
  {
   "cell_type": "markdown",
   "id": "a460f77c",
   "metadata": {},
   "source": [
    "## 2. PREPARE\n",
    "### Источник данных\n",
    "Используемые данные были взяты из следующего общедоступного набора данных: [Sales Product Data](https://www.kaggle.com/datasets/knightbearr/sales-product-data) \n",
    "\n",
    "Данные общедоступны на Kaggle и хранятся в 12 CSV-файлах."
   ]
  },
  {
   "cell_type": "markdown",
   "id": "2f8237b9",
   "metadata": {},
   "source": [
    "### Собранные данные включают\n",
    "`Order ID` - Идентификатор заказа это система счисления, которую Amazon использует исключительно для отслеживания заказов. Каждый заказ получает свой идентификатор заказа, который не будет дублироваться. Этот номер может быть полезен продавцу, когда он пытается узнать определенные детали заказа, такие как дата отправки или статус.\n",
    "\n",
    "`Product` - Товар, который был продан.\n",
    "\n",
    "`Quantity Ordered` - Заказанное количество — это общее количество заказанного товара в первоначальном заказе (без каких-либо изменений).\n",
    "\n",
    "`Price Each` - Цена каждого товара.\n",
    "\n",
    "`Order Date` - Это дата, когда клиент запрашивает отправку заказа.\n",
    "\n",
    "`Purchase Address` - Заказ на покупку подготавливается покупателем, часто через отдел закупок. Заказ на поставку, или ЗП, обычно включает номер ЗП, который полезен для сопоставления отгрузок с покупками; дата отгрузки; Адрес для выставления счета; Адрес доставки; и позиции запроса, количество и цена."
   ]
  },
  {
   "cell_type": "markdown",
   "id": "ce6ec789",
   "metadata": {},
   "source": [
    "## 3. PROCESS\n",
    "### Подготовка рабочей среды\n",
    "Я буду использовать Python для очистки, преобразования и визуализации данных. Установлены следующие библиотеки:"
   ]
  },
  {
   "cell_type": "code",
   "execution_count": 1,
   "id": "979a4318",
   "metadata": {},
   "outputs": [],
   "source": [
    "import pandas as pd\n",
    "import numpy as np\n",
    "import matplotlib.pyplot as plt\n",
    "import seaborn as sns\n",
    "%matplotlib inline"
   ]
  },
  {
   "cell_type": "markdown",
   "id": "aa37e0ed",
   "metadata": {},
   "source": [
    "### Импорт наборов данных"
   ]
  },
  {
   "cell_type": "code",
   "execution_count": 2,
   "id": "47ec80fd",
   "metadata": {},
   "outputs": [],
   "source": [
    "df_january = pd.read_csv(\"/Users/volodymyrchubay/Desktop/Kaggle/Sales Product Data/Sales_January_2019.csv\")\n",
    "df_february = pd.read_csv(\"/Users/volodymyrchubay/Desktop/Kaggle/Sales Product Data/Sales_February_2019.csv\")\n",
    "df_march = pd.read_csv(\"/Users/volodymyrchubay/Desktop/Kaggle/Sales Product Data/Sales_March_2019.csv\")\n",
    "df_april = pd.read_csv(\"/Users/volodymyrchubay/Desktop/Kaggle/Sales Product Data/Sales_April_2019.csv\")\n",
    "df_may = pd.read_csv(\"/Users/volodymyrchubay/Desktop/Kaggle/Sales Product Data/Sales_May_2019.csv\") \n",
    "df_june = pd.read_csv(\"/Users/volodymyrchubay/Desktop/Kaggle/Sales Product Data/Sales_June_2019.csv\") \n",
    "df_july = pd.read_csv(\"/Users/volodymyrchubay/Desktop/Kaggle/Sales Product Data/Sales_July_2019.csv\") \n",
    "df_august = pd.read_csv(\"/Users/volodymyrchubay/Desktop/Kaggle/Sales Product Data/Sales_August_2019.csv\") \n",
    "df_september = pd.read_csv(\"/Users/volodymyrchubay/Desktop/Kaggle/Sales Product Data/Sales_September_2019.csv\") \n",
    "df_october = pd.read_csv(\"/Users/volodymyrchubay/Desktop/Kaggle/Sales Product Data/Sales_October_2019.csv\") \n",
    "df_november = pd.read_csv(\"/Users/volodymyrchubay/Desktop/Kaggle/Sales Product Data/Sales_November_2019.csv\") \n",
    "df_december = pd.read_csv(\"/Users/volodymyrchubay/Desktop/Kaggle/Sales Product Data/Sales_December_2019.csv\") "
   ]
  },
  {
   "cell_type": "markdown",
   "id": "822e3f60",
   "metadata": {},
   "source": [
    "### Просмотр данных"
   ]
  },
  {
   "cell_type": "code",
   "execution_count": 3,
   "id": "592a6add",
   "metadata": {},
   "outputs": [
    {
     "data": {
      "text/html": [
       "<div>\n",
       "<style scoped>\n",
       "    .dataframe tbody tr th:only-of-type {\n",
       "        vertical-align: middle;\n",
       "    }\n",
       "\n",
       "    .dataframe tbody tr th {\n",
       "        vertical-align: top;\n",
       "    }\n",
       "\n",
       "    .dataframe thead th {\n",
       "        text-align: right;\n",
       "    }\n",
       "</style>\n",
       "<table border=\"1\" class=\"dataframe\">\n",
       "  <thead>\n",
       "    <tr style=\"text-align: right;\">\n",
       "      <th></th>\n",
       "      <th>Order ID</th>\n",
       "      <th>Product</th>\n",
       "      <th>Quantity Ordered</th>\n",
       "      <th>Price Each</th>\n",
       "      <th>Order Date</th>\n",
       "      <th>Purchase Address</th>\n",
       "    </tr>\n",
       "  </thead>\n",
       "  <tbody>\n",
       "    <tr>\n",
       "      <th>0</th>\n",
       "      <td>141234</td>\n",
       "      <td>iPhone</td>\n",
       "      <td>1</td>\n",
       "      <td>700</td>\n",
       "      <td>01/22/19 21:25</td>\n",
       "      <td>944 Walnut St, Boston, MA 02215</td>\n",
       "    </tr>\n",
       "    <tr>\n",
       "      <th>1</th>\n",
       "      <td>141235</td>\n",
       "      <td>Lightning Charging Cable</td>\n",
       "      <td>1</td>\n",
       "      <td>14.95</td>\n",
       "      <td>01/28/19 14:15</td>\n",
       "      <td>185 Maple St, Portland, OR 97035</td>\n",
       "    </tr>\n",
       "    <tr>\n",
       "      <th>2</th>\n",
       "      <td>141236</td>\n",
       "      <td>Wired Headphones</td>\n",
       "      <td>2</td>\n",
       "      <td>11.99</td>\n",
       "      <td>01/17/19 13:33</td>\n",
       "      <td>538 Adams St, San Francisco, CA 94016</td>\n",
       "    </tr>\n",
       "    <tr>\n",
       "      <th>3</th>\n",
       "      <td>141237</td>\n",
       "      <td>27in FHD Monitor</td>\n",
       "      <td>1</td>\n",
       "      <td>149.99</td>\n",
       "      <td>01/05/19 20:33</td>\n",
       "      <td>738 10th St, Los Angeles, CA 90001</td>\n",
       "    </tr>\n",
       "    <tr>\n",
       "      <th>4</th>\n",
       "      <td>141238</td>\n",
       "      <td>Wired Headphones</td>\n",
       "      <td>1</td>\n",
       "      <td>11.99</td>\n",
       "      <td>01/25/19 11:59</td>\n",
       "      <td>387 10th St, Austin, TX 73301</td>\n",
       "    </tr>\n",
       "  </tbody>\n",
       "</table>\n",
       "</div>"
      ],
      "text/plain": [
       "  Order ID                   Product Quantity Ordered Price Each  \\\n",
       "0   141234                    iPhone                1        700   \n",
       "1   141235  Lightning Charging Cable                1      14.95   \n",
       "2   141236          Wired Headphones                2      11.99   \n",
       "3   141237          27in FHD Monitor                1     149.99   \n",
       "4   141238          Wired Headphones                1      11.99   \n",
       "\n",
       "       Order Date                       Purchase Address  \n",
       "0  01/22/19 21:25        944 Walnut St, Boston, MA 02215  \n",
       "1  01/28/19 14:15       185 Maple St, Portland, OR 97035  \n",
       "2  01/17/19 13:33  538 Adams St, San Francisco, CA 94016  \n",
       "3  01/05/19 20:33     738 10th St, Los Angeles, CA 90001  \n",
       "4  01/25/19 11:59          387 10th St, Austin, TX 73301  "
      ]
     },
     "execution_count": 3,
     "metadata": {},
     "output_type": "execute_result"
    }
   ],
   "source": [
    "df_january.head()"
   ]
  },
  {
   "cell_type": "markdown",
   "id": "3fa8402e",
   "metadata": {},
   "source": [
    "### Объединение данных о продажах за 12 месяцев в один CSV файл"
   ]
  },
  {
   "cell_type": "code",
   "execution_count": 4,
   "id": "44e99ad3",
   "metadata": {},
   "outputs": [
    {
     "data": {
      "text/html": [
       "<div>\n",
       "<style scoped>\n",
       "    .dataframe tbody tr th:only-of-type {\n",
       "        vertical-align: middle;\n",
       "    }\n",
       "\n",
       "    .dataframe tbody tr th {\n",
       "        vertical-align: top;\n",
       "    }\n",
       "\n",
       "    .dataframe thead th {\n",
       "        text-align: right;\n",
       "    }\n",
       "</style>\n",
       "<table border=\"1\" class=\"dataframe\">\n",
       "  <thead>\n",
       "    <tr style=\"text-align: right;\">\n",
       "      <th></th>\n",
       "      <th>Order ID</th>\n",
       "      <th>Product</th>\n",
       "      <th>Quantity Ordered</th>\n",
       "      <th>Price Each</th>\n",
       "      <th>Order Date</th>\n",
       "      <th>Purchase Address</th>\n",
       "    </tr>\n",
       "  </thead>\n",
       "  <tbody>\n",
       "    <tr>\n",
       "      <th>0</th>\n",
       "      <td>141234</td>\n",
       "      <td>iPhone</td>\n",
       "      <td>1</td>\n",
       "      <td>700</td>\n",
       "      <td>01/22/19 21:25</td>\n",
       "      <td>944 Walnut St, Boston, MA 02215</td>\n",
       "    </tr>\n",
       "    <tr>\n",
       "      <th>1</th>\n",
       "      <td>141235</td>\n",
       "      <td>Lightning Charging Cable</td>\n",
       "      <td>1</td>\n",
       "      <td>14.95</td>\n",
       "      <td>01/28/19 14:15</td>\n",
       "      <td>185 Maple St, Portland, OR 97035</td>\n",
       "    </tr>\n",
       "    <tr>\n",
       "      <th>2</th>\n",
       "      <td>141236</td>\n",
       "      <td>Wired Headphones</td>\n",
       "      <td>2</td>\n",
       "      <td>11.99</td>\n",
       "      <td>01/17/19 13:33</td>\n",
       "      <td>538 Adams St, San Francisco, CA 94016</td>\n",
       "    </tr>\n",
       "    <tr>\n",
       "      <th>3</th>\n",
       "      <td>141237</td>\n",
       "      <td>27in FHD Monitor</td>\n",
       "      <td>1</td>\n",
       "      <td>149.99</td>\n",
       "      <td>01/05/19 20:33</td>\n",
       "      <td>738 10th St, Los Angeles, CA 90001</td>\n",
       "    </tr>\n",
       "    <tr>\n",
       "      <th>4</th>\n",
       "      <td>141238</td>\n",
       "      <td>Wired Headphones</td>\n",
       "      <td>1</td>\n",
       "      <td>11.99</td>\n",
       "      <td>01/25/19 11:59</td>\n",
       "      <td>387 10th St, Austin, TX 73301</td>\n",
       "    </tr>\n",
       "    <tr>\n",
       "      <th>...</th>\n",
       "      <td>...</td>\n",
       "      <td>...</td>\n",
       "      <td>...</td>\n",
       "      <td>...</td>\n",
       "      <td>...</td>\n",
       "      <td>...</td>\n",
       "    </tr>\n",
       "    <tr>\n",
       "      <th>25112</th>\n",
       "      <td>319666</td>\n",
       "      <td>Lightning Charging Cable</td>\n",
       "      <td>1</td>\n",
       "      <td>14.95</td>\n",
       "      <td>12/11/19 20:58</td>\n",
       "      <td>14 Madison St, San Francisco, CA 94016</td>\n",
       "    </tr>\n",
       "    <tr>\n",
       "      <th>25113</th>\n",
       "      <td>319667</td>\n",
       "      <td>AA Batteries (4-pack)</td>\n",
       "      <td>2</td>\n",
       "      <td>3.84</td>\n",
       "      <td>12/01/19 12:01</td>\n",
       "      <td>549 Willow St, Los Angeles, CA 90001</td>\n",
       "    </tr>\n",
       "    <tr>\n",
       "      <th>25114</th>\n",
       "      <td>319668</td>\n",
       "      <td>Vareebadd Phone</td>\n",
       "      <td>1</td>\n",
       "      <td>400</td>\n",
       "      <td>12/09/19 06:43</td>\n",
       "      <td>273 Wilson St, Seattle, WA 98101</td>\n",
       "    </tr>\n",
       "    <tr>\n",
       "      <th>25115</th>\n",
       "      <td>319669</td>\n",
       "      <td>Wired Headphones</td>\n",
       "      <td>1</td>\n",
       "      <td>11.99</td>\n",
       "      <td>12/03/19 10:39</td>\n",
       "      <td>778 River St, Dallas, TX 75001</td>\n",
       "    </tr>\n",
       "    <tr>\n",
       "      <th>25116</th>\n",
       "      <td>319670</td>\n",
       "      <td>Bose SoundSport Headphones</td>\n",
       "      <td>1</td>\n",
       "      <td>99.99</td>\n",
       "      <td>12/21/19 21:45</td>\n",
       "      <td>747 Chestnut St, Los Angeles, CA 90001</td>\n",
       "    </tr>\n",
       "  </tbody>\n",
       "</table>\n",
       "<p>186850 rows × 6 columns</p>\n",
       "</div>"
      ],
      "text/plain": [
       "      Order ID                     Product Quantity Ordered Price Each  \\\n",
       "0       141234                      iPhone                1        700   \n",
       "1       141235    Lightning Charging Cable                1      14.95   \n",
       "2       141236            Wired Headphones                2      11.99   \n",
       "3       141237            27in FHD Monitor                1     149.99   \n",
       "4       141238            Wired Headphones                1      11.99   \n",
       "...        ...                         ...              ...        ...   \n",
       "25112   319666    Lightning Charging Cable                1      14.95   \n",
       "25113   319667       AA Batteries (4-pack)                2       3.84   \n",
       "25114   319668             Vareebadd Phone                1        400   \n",
       "25115   319669            Wired Headphones                1      11.99   \n",
       "25116   319670  Bose SoundSport Headphones                1      99.99   \n",
       "\n",
       "           Order Date                        Purchase Address  \n",
       "0      01/22/19 21:25         944 Walnut St, Boston, MA 02215  \n",
       "1      01/28/19 14:15        185 Maple St, Portland, OR 97035  \n",
       "2      01/17/19 13:33   538 Adams St, San Francisco, CA 94016  \n",
       "3      01/05/19 20:33      738 10th St, Los Angeles, CA 90001  \n",
       "4      01/25/19 11:59           387 10th St, Austin, TX 73301  \n",
       "...               ...                                     ...  \n",
       "25112  12/11/19 20:58  14 Madison St, San Francisco, CA 94016  \n",
       "25113  12/01/19 12:01    549 Willow St, Los Angeles, CA 90001  \n",
       "25114  12/09/19 06:43        273 Wilson St, Seattle, WA 98101  \n",
       "25115  12/03/19 10:39          778 River St, Dallas, TX 75001  \n",
       "25116  12/21/19 21:45  747 Chestnut St, Los Angeles, CA 90001  \n",
       "\n",
       "[186850 rows x 6 columns]"
      ]
     },
     "execution_count": 4,
     "metadata": {},
     "output_type": "execute_result"
    }
   ],
   "source": [
    "df = pd.concat([df_january, df_february, df_march, df_april, df_may, df_june, df_july, df_august, df_september, df_october, df_november, df_december])\n",
    "df = pd.DataFrame(df)\n",
    "df.to_csv(\"all_data.csv\", index = False)\n",
    "df"
   ]
  },
  {
   "cell_type": "markdown",
   "id": "840c2134",
   "metadata": {},
   "source": [
    "### Проверка данных"
   ]
  },
  {
   "cell_type": "code",
   "execution_count": 5,
   "id": "fb93eb35",
   "metadata": {},
   "outputs": [
    {
     "data": {
      "text/plain": [
       "(186850, 6)"
      ]
     },
     "execution_count": 5,
     "metadata": {},
     "output_type": "execute_result"
    }
   ],
   "source": [
    "df.shape"
   ]
  },
  {
   "cell_type": "code",
   "execution_count": 6,
   "id": "c49bf403",
   "metadata": {},
   "outputs": [
    {
     "data": {
      "text/html": [
       "<div>\n",
       "<style scoped>\n",
       "    .dataframe tbody tr th:only-of-type {\n",
       "        vertical-align: middle;\n",
       "    }\n",
       "\n",
       "    .dataframe tbody tr th {\n",
       "        vertical-align: top;\n",
       "    }\n",
       "\n",
       "    .dataframe thead th {\n",
       "        text-align: right;\n",
       "    }\n",
       "</style>\n",
       "<table border=\"1\" class=\"dataframe\">\n",
       "  <thead>\n",
       "    <tr style=\"text-align: right;\">\n",
       "      <th></th>\n",
       "      <th>Order ID</th>\n",
       "      <th>Product</th>\n",
       "      <th>Quantity Ordered</th>\n",
       "      <th>Price Each</th>\n",
       "      <th>Order Date</th>\n",
       "      <th>Purchase Address</th>\n",
       "    </tr>\n",
       "  </thead>\n",
       "  <tbody>\n",
       "    <tr>\n",
       "      <th>25112</th>\n",
       "      <td>319666</td>\n",
       "      <td>Lightning Charging Cable</td>\n",
       "      <td>1</td>\n",
       "      <td>14.95</td>\n",
       "      <td>12/11/19 20:58</td>\n",
       "      <td>14 Madison St, San Francisco, CA 94016</td>\n",
       "    </tr>\n",
       "    <tr>\n",
       "      <th>25113</th>\n",
       "      <td>319667</td>\n",
       "      <td>AA Batteries (4-pack)</td>\n",
       "      <td>2</td>\n",
       "      <td>3.84</td>\n",
       "      <td>12/01/19 12:01</td>\n",
       "      <td>549 Willow St, Los Angeles, CA 90001</td>\n",
       "    </tr>\n",
       "    <tr>\n",
       "      <th>25114</th>\n",
       "      <td>319668</td>\n",
       "      <td>Vareebadd Phone</td>\n",
       "      <td>1</td>\n",
       "      <td>400</td>\n",
       "      <td>12/09/19 06:43</td>\n",
       "      <td>273 Wilson St, Seattle, WA 98101</td>\n",
       "    </tr>\n",
       "    <tr>\n",
       "      <th>25115</th>\n",
       "      <td>319669</td>\n",
       "      <td>Wired Headphones</td>\n",
       "      <td>1</td>\n",
       "      <td>11.99</td>\n",
       "      <td>12/03/19 10:39</td>\n",
       "      <td>778 River St, Dallas, TX 75001</td>\n",
       "    </tr>\n",
       "    <tr>\n",
       "      <th>25116</th>\n",
       "      <td>319670</td>\n",
       "      <td>Bose SoundSport Headphones</td>\n",
       "      <td>1</td>\n",
       "      <td>99.99</td>\n",
       "      <td>12/21/19 21:45</td>\n",
       "      <td>747 Chestnut St, Los Angeles, CA 90001</td>\n",
       "    </tr>\n",
       "  </tbody>\n",
       "</table>\n",
       "</div>"
      ],
      "text/plain": [
       "      Order ID                     Product Quantity Ordered Price Each  \\\n",
       "25112   319666    Lightning Charging Cable                1      14.95   \n",
       "25113   319667       AA Batteries (4-pack)                2       3.84   \n",
       "25114   319668             Vareebadd Phone                1        400   \n",
       "25115   319669            Wired Headphones                1      11.99   \n",
       "25116   319670  Bose SoundSport Headphones                1      99.99   \n",
       "\n",
       "           Order Date                        Purchase Address  \n",
       "25112  12/11/19 20:58  14 Madison St, San Francisco, CA 94016  \n",
       "25113  12/01/19 12:01    549 Willow St, Los Angeles, CA 90001  \n",
       "25114  12/09/19 06:43        273 Wilson St, Seattle, WA 98101  \n",
       "25115  12/03/19 10:39          778 River St, Dallas, TX 75001  \n",
       "25116  12/21/19 21:45  747 Chestnut St, Los Angeles, CA 90001  "
      ]
     },
     "execution_count": 6,
     "metadata": {},
     "output_type": "execute_result"
    }
   ],
   "source": [
    "df.tail()"
   ]
  },
  {
   "cell_type": "code",
   "execution_count": 7,
   "id": "5f57c5aa",
   "metadata": {},
   "outputs": [
    {
     "data": {
      "text/html": [
       "<div>\n",
       "<style scoped>\n",
       "    .dataframe tbody tr th:only-of-type {\n",
       "        vertical-align: middle;\n",
       "    }\n",
       "\n",
       "    .dataframe tbody tr th {\n",
       "        vertical-align: top;\n",
       "    }\n",
       "\n",
       "    .dataframe thead th {\n",
       "        text-align: right;\n",
       "    }\n",
       "</style>\n",
       "<table border=\"1\" class=\"dataframe\">\n",
       "  <thead>\n",
       "    <tr style=\"text-align: right;\">\n",
       "      <th></th>\n",
       "      <th>Order ID</th>\n",
       "      <th>Product</th>\n",
       "      <th>Quantity Ordered</th>\n",
       "      <th>Price Each</th>\n",
       "      <th>Order Date</th>\n",
       "      <th>Purchase Address</th>\n",
       "    </tr>\n",
       "  </thead>\n",
       "  <tbody>\n",
       "    <tr>\n",
       "      <th>0</th>\n",
       "      <td>141234</td>\n",
       "      <td>iPhone</td>\n",
       "      <td>1</td>\n",
       "      <td>700</td>\n",
       "      <td>01/22/19 21:25</td>\n",
       "      <td>944 Walnut St, Boston, MA 02215</td>\n",
       "    </tr>\n",
       "    <tr>\n",
       "      <th>1</th>\n",
       "      <td>141235</td>\n",
       "      <td>Lightning Charging Cable</td>\n",
       "      <td>1</td>\n",
       "      <td>14.95</td>\n",
       "      <td>01/28/19 14:15</td>\n",
       "      <td>185 Maple St, Portland, OR 97035</td>\n",
       "    </tr>\n",
       "    <tr>\n",
       "      <th>2</th>\n",
       "      <td>141236</td>\n",
       "      <td>Wired Headphones</td>\n",
       "      <td>2</td>\n",
       "      <td>11.99</td>\n",
       "      <td>01/17/19 13:33</td>\n",
       "      <td>538 Adams St, San Francisco, CA 94016</td>\n",
       "    </tr>\n",
       "    <tr>\n",
       "      <th>3</th>\n",
       "      <td>141237</td>\n",
       "      <td>27in FHD Monitor</td>\n",
       "      <td>1</td>\n",
       "      <td>149.99</td>\n",
       "      <td>01/05/19 20:33</td>\n",
       "      <td>738 10th St, Los Angeles, CA 90001</td>\n",
       "    </tr>\n",
       "    <tr>\n",
       "      <th>4</th>\n",
       "      <td>141238</td>\n",
       "      <td>Wired Headphones</td>\n",
       "      <td>1</td>\n",
       "      <td>11.99</td>\n",
       "      <td>01/25/19 11:59</td>\n",
       "      <td>387 10th St, Austin, TX 73301</td>\n",
       "    </tr>\n",
       "  </tbody>\n",
       "</table>\n",
       "</div>"
      ],
      "text/plain": [
       "  Order ID                   Product Quantity Ordered Price Each  \\\n",
       "0   141234                    iPhone                1        700   \n",
       "1   141235  Lightning Charging Cable                1      14.95   \n",
       "2   141236          Wired Headphones                2      11.99   \n",
       "3   141237          27in FHD Monitor                1     149.99   \n",
       "4   141238          Wired Headphones                1      11.99   \n",
       "\n",
       "       Order Date                       Purchase Address  \n",
       "0  01/22/19 21:25        944 Walnut St, Boston, MA 02215  \n",
       "1  01/28/19 14:15       185 Maple St, Portland, OR 97035  \n",
       "2  01/17/19 13:33  538 Adams St, San Francisco, CA 94016  \n",
       "3  01/05/19 20:33     738 10th St, Los Angeles, CA 90001  \n",
       "4  01/25/19 11:59          387 10th St, Austin, TX 73301  "
      ]
     },
     "execution_count": 7,
     "metadata": {},
     "output_type": "execute_result"
    }
   ],
   "source": [
    "df.head()"
   ]
  },
  {
   "cell_type": "code",
   "execution_count": 8,
   "id": "fa7f551b",
   "metadata": {},
   "outputs": [
    {
     "name": "stdout",
     "output_type": "stream",
     "text": [
      "<class 'pandas.core.frame.DataFrame'>\n",
      "Int64Index: 186850 entries, 0 to 25116\n",
      "Data columns (total 6 columns):\n",
      " #   Column            Non-Null Count   Dtype \n",
      "---  ------            --------------   ----- \n",
      " 0   Order ID          186305 non-null  object\n",
      " 1   Product           186305 non-null  object\n",
      " 2   Quantity Ordered  186305 non-null  object\n",
      " 3   Price Each        186305 non-null  object\n",
      " 4   Order Date        186305 non-null  object\n",
      " 5   Purchase Address  186305 non-null  object\n",
      "dtypes: object(6)\n",
      "memory usage: 10.0+ MB\n"
     ]
    }
   ],
   "source": [
    "df.info()"
   ]
  },
  {
   "cell_type": "code",
   "execution_count": 9,
   "id": "551c4ef1",
   "metadata": {},
   "outputs": [
    {
     "data": {
      "text/plain": [
       "Index(['Order ID', 'Product', 'Quantity Ordered', 'Price Each', 'Order Date',\n",
       "       'Purchase Address'],\n",
       "      dtype='object')"
      ]
     },
     "execution_count": 9,
     "metadata": {},
     "output_type": "execute_result"
    }
   ],
   "source": [
    "df.columns"
   ]
  },
  {
   "cell_type": "code",
   "execution_count": 10,
   "id": "3bdb6974",
   "metadata": {},
   "outputs": [
    {
     "data": {
      "text/html": [
       "<div>\n",
       "<style scoped>\n",
       "    .dataframe tbody tr th:only-of-type {\n",
       "        vertical-align: middle;\n",
       "    }\n",
       "\n",
       "    .dataframe tbody tr th {\n",
       "        vertical-align: top;\n",
       "    }\n",
       "\n",
       "    .dataframe thead th {\n",
       "        text-align: right;\n",
       "    }\n",
       "</style>\n",
       "<table border=\"1\" class=\"dataframe\">\n",
       "  <thead>\n",
       "    <tr style=\"text-align: right;\">\n",
       "      <th></th>\n",
       "      <th>Order ID</th>\n",
       "      <th>Product</th>\n",
       "      <th>Order Date</th>\n",
       "      <th>Purchase Address</th>\n",
       "    </tr>\n",
       "  </thead>\n",
       "  <tbody>\n",
       "    <tr>\n",
       "      <th>count</th>\n",
       "      <td>186305</td>\n",
       "      <td>186305</td>\n",
       "      <td>186305</td>\n",
       "      <td>186305</td>\n",
       "    </tr>\n",
       "    <tr>\n",
       "      <th>unique</th>\n",
       "      <td>178438</td>\n",
       "      <td>20</td>\n",
       "      <td>142396</td>\n",
       "      <td>140788</td>\n",
       "    </tr>\n",
       "    <tr>\n",
       "      <th>top</th>\n",
       "      <td>Order ID</td>\n",
       "      <td>USB-C Charging Cable</td>\n",
       "      <td>Order Date</td>\n",
       "      <td>Purchase Address</td>\n",
       "    </tr>\n",
       "    <tr>\n",
       "      <th>freq</th>\n",
       "      <td>355</td>\n",
       "      <td>21903</td>\n",
       "      <td>355</td>\n",
       "      <td>355</td>\n",
       "    </tr>\n",
       "  </tbody>\n",
       "</table>\n",
       "</div>"
      ],
      "text/plain": [
       "        Order ID               Product  Order Date  Purchase Address\n",
       "count     186305                186305      186305            186305\n",
       "unique    178438                    20      142396            140788\n",
       "top     Order ID  USB-C Charging Cable  Order Date  Purchase Address\n",
       "freq         355                 21903         355               355"
      ]
     },
     "execution_count": 10,
     "metadata": {},
     "output_type": "execute_result"
    }
   ],
   "source": [
    "df[['Order ID', 'Product', 'Order Date', 'Purchase Address']].describe()"
   ]
  },
  {
   "cell_type": "markdown",
   "id": "a901d262",
   "metadata": {},
   "source": [
    "### Очистка данных\n",
    "Поиск нулевых значений"
   ]
  },
  {
   "cell_type": "code",
   "execution_count": 11,
   "id": "f3d8094c",
   "metadata": {},
   "outputs": [
    {
     "data": {
      "text/plain": [
       "Order ID            545\n",
       "Product             545\n",
       "Quantity Ordered    545\n",
       "Price Each          545\n",
       "Order Date          545\n",
       "Purchase Address    545\n",
       "dtype: int64"
      ]
     },
     "execution_count": 11,
     "metadata": {},
     "output_type": "execute_result"
    }
   ],
   "source": [
    "# количество отсутствующих данных в каждом столбце\n",
    "df.isna().sum()"
   ]
  },
  {
   "cell_type": "code",
   "execution_count": 12,
   "id": "7ae3f071",
   "metadata": {},
   "outputs": [
    {
     "data": {
      "text/html": [
       "<div>\n",
       "<style scoped>\n",
       "    .dataframe tbody tr th:only-of-type {\n",
       "        vertical-align: middle;\n",
       "    }\n",
       "\n",
       "    .dataframe tbody tr th {\n",
       "        vertical-align: top;\n",
       "    }\n",
       "\n",
       "    .dataframe thead th {\n",
       "        text-align: right;\n",
       "    }\n",
       "</style>\n",
       "<table border=\"1\" class=\"dataframe\">\n",
       "  <thead>\n",
       "    <tr style=\"text-align: right;\">\n",
       "      <th></th>\n",
       "      <th>Order ID</th>\n",
       "      <th>Product</th>\n",
       "      <th>Quantity Ordered</th>\n",
       "      <th>Price Each</th>\n",
       "      <th>Order Date</th>\n",
       "      <th>Purchase Address</th>\n",
       "    </tr>\n",
       "  </thead>\n",
       "  <tbody>\n",
       "    <tr>\n",
       "      <th>664</th>\n",
       "      <td>NaN</td>\n",
       "      <td>NaN</td>\n",
       "      <td>NaN</td>\n",
       "      <td>NaN</td>\n",
       "      <td>NaN</td>\n",
       "      <td>NaN</td>\n",
       "    </tr>\n",
       "    <tr>\n",
       "      <th>678</th>\n",
       "      <td>NaN</td>\n",
       "      <td>NaN</td>\n",
       "      <td>NaN</td>\n",
       "      <td>NaN</td>\n",
       "      <td>NaN</td>\n",
       "      <td>NaN</td>\n",
       "    </tr>\n",
       "    <tr>\n",
       "      <th>797</th>\n",
       "      <td>NaN</td>\n",
       "      <td>NaN</td>\n",
       "      <td>NaN</td>\n",
       "      <td>NaN</td>\n",
       "      <td>NaN</td>\n",
       "      <td>NaN</td>\n",
       "    </tr>\n",
       "    <tr>\n",
       "      <th>876</th>\n",
       "      <td>NaN</td>\n",
       "      <td>NaN</td>\n",
       "      <td>NaN</td>\n",
       "      <td>NaN</td>\n",
       "      <td>NaN</td>\n",
       "      <td>NaN</td>\n",
       "    </tr>\n",
       "    <tr>\n",
       "      <th>1299</th>\n",
       "      <td>NaN</td>\n",
       "      <td>NaN</td>\n",
       "      <td>NaN</td>\n",
       "      <td>NaN</td>\n",
       "      <td>NaN</td>\n",
       "      <td>NaN</td>\n",
       "    </tr>\n",
       "    <tr>\n",
       "      <th>...</th>\n",
       "      <td>...</td>\n",
       "      <td>...</td>\n",
       "      <td>...</td>\n",
       "      <td>...</td>\n",
       "      <td>...</td>\n",
       "      <td>...</td>\n",
       "    </tr>\n",
       "    <tr>\n",
       "      <th>22945</th>\n",
       "      <td>NaN</td>\n",
       "      <td>NaN</td>\n",
       "      <td>NaN</td>\n",
       "      <td>NaN</td>\n",
       "      <td>NaN</td>\n",
       "      <td>NaN</td>\n",
       "    </tr>\n",
       "    <tr>\n",
       "      <th>22962</th>\n",
       "      <td>NaN</td>\n",
       "      <td>NaN</td>\n",
       "      <td>NaN</td>\n",
       "      <td>NaN</td>\n",
       "      <td>NaN</td>\n",
       "      <td>NaN</td>\n",
       "    </tr>\n",
       "    <tr>\n",
       "      <th>23309</th>\n",
       "      <td>NaN</td>\n",
       "      <td>NaN</td>\n",
       "      <td>NaN</td>\n",
       "      <td>NaN</td>\n",
       "      <td>NaN</td>\n",
       "      <td>NaN</td>\n",
       "    </tr>\n",
       "    <tr>\n",
       "      <th>23996</th>\n",
       "      <td>NaN</td>\n",
       "      <td>NaN</td>\n",
       "      <td>NaN</td>\n",
       "      <td>NaN</td>\n",
       "      <td>NaN</td>\n",
       "      <td>NaN</td>\n",
       "    </tr>\n",
       "    <tr>\n",
       "      <th>24730</th>\n",
       "      <td>NaN</td>\n",
       "      <td>NaN</td>\n",
       "      <td>NaN</td>\n",
       "      <td>NaN</td>\n",
       "      <td>NaN</td>\n",
       "      <td>NaN</td>\n",
       "    </tr>\n",
       "  </tbody>\n",
       "</table>\n",
       "<p>545 rows × 6 columns</p>\n",
       "</div>"
      ],
      "text/plain": [
       "      Order ID Product Quantity Ordered Price Each Order Date Purchase Address\n",
       "664        NaN     NaN              NaN        NaN        NaN              NaN\n",
       "678        NaN     NaN              NaN        NaN        NaN              NaN\n",
       "797        NaN     NaN              NaN        NaN        NaN              NaN\n",
       "876        NaN     NaN              NaN        NaN        NaN              NaN\n",
       "1299       NaN     NaN              NaN        NaN        NaN              NaN\n",
       "...        ...     ...              ...        ...        ...              ...\n",
       "22945      NaN     NaN              NaN        NaN        NaN              NaN\n",
       "22962      NaN     NaN              NaN        NaN        NaN              NaN\n",
       "23309      NaN     NaN              NaN        NaN        NaN              NaN\n",
       "23996      NaN     NaN              NaN        NaN        NaN              NaN\n",
       "24730      NaN     NaN              NaN        NaN        NaN              NaN\n",
       "\n",
       "[545 rows x 6 columns]"
      ]
     },
     "execution_count": 12,
     "metadata": {},
     "output_type": "execute_result"
    }
   ],
   "source": [
    "nan_df = df[df.isna().any(axis=1)]\n",
    "nan_df"
   ]
  },
  {
   "cell_type": "markdown",
   "id": "81e3357c",
   "metadata": {},
   "source": [
    "#### Удаление нулевых значений"
   ]
  },
  {
   "cell_type": "code",
   "execution_count": 13,
   "id": "4b56610b",
   "metadata": {},
   "outputs": [
    {
     "data": {
      "text/html": [
       "<div>\n",
       "<style scoped>\n",
       "    .dataframe tbody tr th:only-of-type {\n",
       "        vertical-align: middle;\n",
       "    }\n",
       "\n",
       "    .dataframe tbody tr th {\n",
       "        vertical-align: top;\n",
       "    }\n",
       "\n",
       "    .dataframe thead th {\n",
       "        text-align: right;\n",
       "    }\n",
       "</style>\n",
       "<table border=\"1\" class=\"dataframe\">\n",
       "  <thead>\n",
       "    <tr style=\"text-align: right;\">\n",
       "      <th></th>\n",
       "      <th>Order ID</th>\n",
       "      <th>Product</th>\n",
       "      <th>Quantity Ordered</th>\n",
       "      <th>Price Each</th>\n",
       "      <th>Order Date</th>\n",
       "      <th>Purchase Address</th>\n",
       "    </tr>\n",
       "  </thead>\n",
       "  <tbody>\n",
       "    <tr>\n",
       "      <th>0</th>\n",
       "      <td>141234</td>\n",
       "      <td>iPhone</td>\n",
       "      <td>1</td>\n",
       "      <td>700</td>\n",
       "      <td>01/22/19 21:25</td>\n",
       "      <td>944 Walnut St, Boston, MA 02215</td>\n",
       "    </tr>\n",
       "    <tr>\n",
       "      <th>1</th>\n",
       "      <td>141235</td>\n",
       "      <td>Lightning Charging Cable</td>\n",
       "      <td>1</td>\n",
       "      <td>14.95</td>\n",
       "      <td>01/28/19 14:15</td>\n",
       "      <td>185 Maple St, Portland, OR 97035</td>\n",
       "    </tr>\n",
       "    <tr>\n",
       "      <th>2</th>\n",
       "      <td>141236</td>\n",
       "      <td>Wired Headphones</td>\n",
       "      <td>2</td>\n",
       "      <td>11.99</td>\n",
       "      <td>01/17/19 13:33</td>\n",
       "      <td>538 Adams St, San Francisco, CA 94016</td>\n",
       "    </tr>\n",
       "    <tr>\n",
       "      <th>3</th>\n",
       "      <td>141237</td>\n",
       "      <td>27in FHD Monitor</td>\n",
       "      <td>1</td>\n",
       "      <td>149.99</td>\n",
       "      <td>01/05/19 20:33</td>\n",
       "      <td>738 10th St, Los Angeles, CA 90001</td>\n",
       "    </tr>\n",
       "    <tr>\n",
       "      <th>4</th>\n",
       "      <td>141238</td>\n",
       "      <td>Wired Headphones</td>\n",
       "      <td>1</td>\n",
       "      <td>11.99</td>\n",
       "      <td>01/25/19 11:59</td>\n",
       "      <td>387 10th St, Austin, TX 73301</td>\n",
       "    </tr>\n",
       "  </tbody>\n",
       "</table>\n",
       "</div>"
      ],
      "text/plain": [
       "  Order ID                   Product Quantity Ordered Price Each  \\\n",
       "0   141234                    iPhone                1        700   \n",
       "1   141235  Lightning Charging Cable                1      14.95   \n",
       "2   141236          Wired Headphones                2      11.99   \n",
       "3   141237          27in FHD Monitor                1     149.99   \n",
       "4   141238          Wired Headphones                1      11.99   \n",
       "\n",
       "       Order Date                       Purchase Address  \n",
       "0  01/22/19 21:25        944 Walnut St, Boston, MA 02215  \n",
       "1  01/28/19 14:15       185 Maple St, Portland, OR 97035  \n",
       "2  01/17/19 13:33  538 Adams St, San Francisco, CA 94016  \n",
       "3  01/05/19 20:33     738 10th St, Los Angeles, CA 90001  \n",
       "4  01/25/19 11:59          387 10th St, Austin, TX 73301  "
      ]
     },
     "execution_count": 13,
     "metadata": {},
     "output_type": "execute_result"
    }
   ],
   "source": [
    "df = df.dropna(how='all')\n",
    "df.head()"
   ]
  },
  {
   "cell_type": "code",
   "execution_count": 14,
   "id": "29338bfd",
   "metadata": {},
   "outputs": [],
   "source": [
    "# ValueError: invalid literal for int() with base 10: 'Or'\n",
    "df = df[df['Order Date'].str[0:2] != 'Or']"
   ]
  },
  {
   "cell_type": "markdown",
   "id": "8cb51e45",
   "metadata": {},
   "source": [
    "### Преобразование столбцов 'Quantity Ordered' и 'Price Each'"
   ]
  },
  {
   "cell_type": "code",
   "execution_count": 15,
   "id": "69979780",
   "metadata": {},
   "outputs": [
    {
     "data": {
      "text/plain": [
       "Order ID            object\n",
       "Product             object\n",
       "Quantity Ordered    object\n",
       "Price Each          object\n",
       "Order Date          object\n",
       "Purchase Address    object\n",
       "dtype: object"
      ]
     },
     "execution_count": 15,
     "metadata": {},
     "output_type": "execute_result"
    }
   ],
   "source": [
    "df.dtypes"
   ]
  },
  {
   "cell_type": "code",
   "execution_count": 16,
   "id": "8c6c186c",
   "metadata": {},
   "outputs": [],
   "source": [
    "df['Quantity Ordered'] = df['Quantity Ordered'].astype('int32')\n",
    "df['Price Each'] = df['Price Each'].astype('float32')"
   ]
  },
  {
   "cell_type": "markdown",
   "id": "56896fcf",
   "metadata": {},
   "source": [
    "### Добавление столбца 'Month'"
   ]
  },
  {
   "cell_type": "code",
   "execution_count": 17,
   "id": "0d14196d",
   "metadata": {},
   "outputs": [
    {
     "data": {
      "text/html": [
       "<div>\n",
       "<style scoped>\n",
       "    .dataframe tbody tr th:only-of-type {\n",
       "        vertical-align: middle;\n",
       "    }\n",
       "\n",
       "    .dataframe tbody tr th {\n",
       "        vertical-align: top;\n",
       "    }\n",
       "\n",
       "    .dataframe thead th {\n",
       "        text-align: right;\n",
       "    }\n",
       "</style>\n",
       "<table border=\"1\" class=\"dataframe\">\n",
       "  <thead>\n",
       "    <tr style=\"text-align: right;\">\n",
       "      <th></th>\n",
       "      <th>Order ID</th>\n",
       "      <th>Product</th>\n",
       "      <th>Quantity Ordered</th>\n",
       "      <th>Price Each</th>\n",
       "      <th>Order Date</th>\n",
       "      <th>Purchase Address</th>\n",
       "      <th>Month</th>\n",
       "    </tr>\n",
       "  </thead>\n",
       "  <tbody>\n",
       "    <tr>\n",
       "      <th>0</th>\n",
       "      <td>141234</td>\n",
       "      <td>iPhone</td>\n",
       "      <td>1</td>\n",
       "      <td>700.000000</td>\n",
       "      <td>01/22/19 21:25</td>\n",
       "      <td>944 Walnut St, Boston, MA 02215</td>\n",
       "      <td>1</td>\n",
       "    </tr>\n",
       "    <tr>\n",
       "      <th>1</th>\n",
       "      <td>141235</td>\n",
       "      <td>Lightning Charging Cable</td>\n",
       "      <td>1</td>\n",
       "      <td>14.950000</td>\n",
       "      <td>01/28/19 14:15</td>\n",
       "      <td>185 Maple St, Portland, OR 97035</td>\n",
       "      <td>1</td>\n",
       "    </tr>\n",
       "    <tr>\n",
       "      <th>2</th>\n",
       "      <td>141236</td>\n",
       "      <td>Wired Headphones</td>\n",
       "      <td>2</td>\n",
       "      <td>11.990000</td>\n",
       "      <td>01/17/19 13:33</td>\n",
       "      <td>538 Adams St, San Francisco, CA 94016</td>\n",
       "      <td>1</td>\n",
       "    </tr>\n",
       "    <tr>\n",
       "      <th>3</th>\n",
       "      <td>141237</td>\n",
       "      <td>27in FHD Monitor</td>\n",
       "      <td>1</td>\n",
       "      <td>149.990005</td>\n",
       "      <td>01/05/19 20:33</td>\n",
       "      <td>738 10th St, Los Angeles, CA 90001</td>\n",
       "      <td>1</td>\n",
       "    </tr>\n",
       "    <tr>\n",
       "      <th>4</th>\n",
       "      <td>141238</td>\n",
       "      <td>Wired Headphones</td>\n",
       "      <td>1</td>\n",
       "      <td>11.990000</td>\n",
       "      <td>01/25/19 11:59</td>\n",
       "      <td>387 10th St, Austin, TX 73301</td>\n",
       "      <td>1</td>\n",
       "    </tr>\n",
       "  </tbody>\n",
       "</table>\n",
       "</div>"
      ],
      "text/plain": [
       "  Order ID                   Product  Quantity Ordered  Price Each  \\\n",
       "0   141234                    iPhone                 1  700.000000   \n",
       "1   141235  Lightning Charging Cable                 1   14.950000   \n",
       "2   141236          Wired Headphones                 2   11.990000   \n",
       "3   141237          27in FHD Monitor                 1  149.990005   \n",
       "4   141238          Wired Headphones                 1   11.990000   \n",
       "\n",
       "       Order Date                       Purchase Address  Month  \n",
       "0  01/22/19 21:25        944 Walnut St, Boston, MA 02215      1  \n",
       "1  01/28/19 14:15       185 Maple St, Portland, OR 97035      1  \n",
       "2  01/17/19 13:33  538 Adams St, San Francisco, CA 94016      1  \n",
       "3  01/05/19 20:33     738 10th St, Los Angeles, CA 90001      1  \n",
       "4  01/25/19 11:59          387 10th St, Austin, TX 73301      1  "
      ]
     },
     "execution_count": 17,
     "metadata": {},
     "output_type": "execute_result"
    }
   ],
   "source": [
    "df['Month'] = df['Order Date'].str[0:2]\n",
    "df['Month'] = df['Month'].astype('int32')\n",
    "df.head()"
   ]
  },
  {
   "cell_type": "markdown",
   "id": "917462e9",
   "metadata": {},
   "source": [
    "### Преобразование столбца 'Order Date' в datetime"
   ]
  },
  {
   "cell_type": "code",
   "execution_count": 18,
   "id": "99bd5071",
   "metadata": {},
   "outputs": [],
   "source": [
    "df['Order Date'] = pd.to_datetime(df['Order Date'])"
   ]
  },
  {
   "cell_type": "code",
   "execution_count": 19,
   "id": "a1a03945",
   "metadata": {},
   "outputs": [
    {
     "data": {
      "text/plain": [
       "Order ID                    object\n",
       "Product                     object\n",
       "Quantity Ordered             int32\n",
       "Price Each                 float32\n",
       "Order Date          datetime64[ns]\n",
       "Purchase Address            object\n",
       "Month                        int32\n",
       "dtype: object"
      ]
     },
     "execution_count": 19,
     "metadata": {},
     "output_type": "execute_result"
    }
   ],
   "source": [
    "df.dtypes"
   ]
  },
  {
   "cell_type": "markdown",
   "id": "7bfbef94",
   "metadata": {},
   "source": [
    "## 4. ANALYSE\n",
    "На этом этапе я буду выполнять некоторые расчеты, чтобы получить представление и выявить тенденции на основе данных. А также отвечу на поставленные мне вопросы."
   ]
  },
  {
   "cell_type": "markdown",
   "id": "9aa42f5e",
   "metadata": {},
   "source": [
    "### Вопрос 1: Сколько было заработано в этом году?"
   ]
  },
  {
   "cell_type": "code",
   "execution_count": 20,
   "id": "8da7fd13",
   "metadata": {},
   "outputs": [],
   "source": [
    "df['Revenue'] = round(df['Quantity Ordered'] * df['Price Each'], 2)"
   ]
  },
  {
   "cell_type": "code",
   "execution_count": 21,
   "id": "1a1a3497",
   "metadata": {},
   "outputs": [
    {
     "data": {
      "text/plain": [
       "34492035.97"
      ]
     },
     "execution_count": 21,
     "metadata": {},
     "output_type": "execute_result"
    }
   ],
   "source": [
    "total_revenue = round(df['Revenue'].sum(), 2)\n",
    "total_revenue"
   ]
  },
  {
   "cell_type": "markdown",
   "id": "1f7e1b11",
   "metadata": {},
   "source": [
    "#### Вопрос 1: Сколько было заработано в этом году?\n",
    "> Общая выручка в этом году составила 34 492 035$"
   ]
  },
  {
   "cell_type": "markdown",
   "id": "b8bd5e19",
   "metadata": {},
   "source": [
    "### Вопрос 2: Какой месяц был лучшим по продажам? Сколько было заработано в этом месяце?"
   ]
  },
  {
   "cell_type": "code",
   "execution_count": 29,
   "id": "5c14df7d",
   "metadata": {},
   "outputs": [
    {
     "data": {
      "text/html": [
       "<div>\n",
       "<style scoped>\n",
       "    .dataframe tbody tr th:only-of-type {\n",
       "        vertical-align: middle;\n",
       "    }\n",
       "\n",
       "    .dataframe tbody tr th {\n",
       "        vertical-align: top;\n",
       "    }\n",
       "\n",
       "    .dataframe thead th {\n",
       "        text-align: right;\n",
       "    }\n",
       "</style>\n",
       "<table border=\"1\" class=\"dataframe\">\n",
       "  <thead>\n",
       "    <tr style=\"text-align: right;\">\n",
       "      <th></th>\n",
       "      <th>Revenue</th>\n",
       "      <th>Quantity Ordered</th>\n",
       "    </tr>\n",
       "    <tr>\n",
       "      <th>Month</th>\n",
       "      <th></th>\n",
       "      <th></th>\n",
       "    </tr>\n",
       "  </thead>\n",
       "  <tbody>\n",
       "    <tr>\n",
       "      <th>1</th>\n",
       "      <td>1822256.73</td>\n",
       "      <td>10903</td>\n",
       "    </tr>\n",
       "    <tr>\n",
       "      <th>2</th>\n",
       "      <td>2202022.42</td>\n",
       "      <td>13449</td>\n",
       "    </tr>\n",
       "    <tr>\n",
       "      <th>3</th>\n",
       "      <td>2807100.38</td>\n",
       "      <td>17005</td>\n",
       "    </tr>\n",
       "    <tr>\n",
       "      <th>4</th>\n",
       "      <td>3390670.24</td>\n",
       "      <td>20558</td>\n",
       "    </tr>\n",
       "    <tr>\n",
       "      <th>5</th>\n",
       "      <td>3152606.75</td>\n",
       "      <td>18667</td>\n",
       "    </tr>\n",
       "    <tr>\n",
       "      <th>6</th>\n",
       "      <td>2577802.26</td>\n",
       "      <td>15253</td>\n",
       "    </tr>\n",
       "    <tr>\n",
       "      <th>7</th>\n",
       "      <td>2647775.76</td>\n",
       "      <td>16072</td>\n",
       "    </tr>\n",
       "    <tr>\n",
       "      <th>8</th>\n",
       "      <td>2244467.88</td>\n",
       "      <td>13448</td>\n",
       "    </tr>\n",
       "    <tr>\n",
       "      <th>9</th>\n",
       "      <td>2097560.13</td>\n",
       "      <td>13109</td>\n",
       "    </tr>\n",
       "    <tr>\n",
       "      <th>10</th>\n",
       "      <td>3736726.88</td>\n",
       "      <td>22703</td>\n",
       "    </tr>\n",
       "    <tr>\n",
       "      <th>11</th>\n",
       "      <td>3199603.20</td>\n",
       "      <td>19798</td>\n",
       "    </tr>\n",
       "    <tr>\n",
       "      <th>12</th>\n",
       "      <td>4613443.34</td>\n",
       "      <td>28114</td>\n",
       "    </tr>\n",
       "  </tbody>\n",
       "</table>\n",
       "</div>"
      ],
      "text/plain": [
       "          Revenue  Quantity Ordered\n",
       "Month                              \n",
       "1      1822256.73             10903\n",
       "2      2202022.42             13449\n",
       "3      2807100.38             17005\n",
       "4      3390670.24             20558\n",
       "5      3152606.75             18667\n",
       "6      2577802.26             15253\n",
       "7      2647775.76             16072\n",
       "8      2244467.88             13448\n",
       "9      2097560.13             13109\n",
       "10     3736726.88             22703\n",
       "11     3199603.20             19798\n",
       "12     4613443.34             28114"
      ]
     },
     "execution_count": 29,
     "metadata": {},
     "output_type": "execute_result"
    }
   ],
   "source": [
    "monthly_revenue = df.groupby('Month').sum()\n",
    "monthly_revenue = pd.DataFrame(monthly_revenue[['Revenue', 'Quantity Ordered']])\n",
    "monthly_revenue"
   ]
  },
  {
   "cell_type": "code",
   "execution_count": 30,
   "id": "0c09d9a9",
   "metadata": {},
   "outputs": [
    {
     "name": "stdout",
     "output_type": "stream",
     "text": [
      "Доход за december:    4613443.34\n"
     ]
    }
   ],
   "source": [
    "df_december = df.query('Month == 12')\n",
    "december_total_revenue = round(df_december['Revenue'].sum(), 2)\n",
    "\n",
    "print('Доход за december:   ', december_total_revenue)"
   ]
  },
  {
   "cell_type": "code",
   "execution_count": 31,
   "id": "406166be",
   "metadata": {},
   "outputs": [
    {
     "data": {
      "text/plain": [
       "Text(0, 0.5, 'Revenue')"
      ]
     },
     "execution_count": 31,
     "metadata": {},
     "output_type": "execute_result"
    },
    {
     "data": {
      "image/png": "[encoded data removed]",
      "text/plain": [
       "<Figure size 1728x432 with 1 Axes>"
      ]
     },
     "metadata": {
      "needs_background": "light"
     },
     "output_type": "display_data"
    }
   ],
   "source": [
    "plt.figure(figsize = (24, 6))\n",
    "\n",
    "sns.barplot(x = monthly_revenue.index, y = monthly_revenue['Revenue'], data = monthly_revenue, palette = 'crest')\n",
    "\n",
    "plt.title('Monthly Revenue in 2019', fontname = 'cursive', weight = 'bold')\n",
    "# x-label\n",
    "plt.xlabel('Months', weight = 'bold')\n",
    "# y-label\n",
    "plt.ylabel('Revenue', weight = 'bold')"
   ]
  },
  {
   "cell_type": "markdown",
   "id": "093480f9",
   "metadata": {},
   "source": [
    "#### Вопрос 2: Какой месяц был лучшим по продажам? Сколько было заработано в этом месяце?\n",
    "> Как мы видим из сгенерированной выше гистограммы, декабрь является самым прибыльным месяцем с общей суммой 4,613,443$. Также декабрь является самым лучшым месяцем по продажам, в этот месяц было продано 28114 товаров. Скорее всего, это связано с новогодними распродажами."
   ]
  },
  {
   "cell_type": "markdown",
   "id": "dc3f0047",
   "metadata": {},
   "source": [
    "### Вопрос 3: В каком городе было больше всего продаж?"
   ]
  },
  {
   "cell_type": "code",
   "execution_count": 32,
   "id": "994621dc",
   "metadata": {},
   "outputs": [],
   "source": [
    "df['City'] = df['Purchase Address'].apply(lambda x: x.split(',')[1])"
   ]
  },
  {
   "cell_type": "code",
   "execution_count": 33,
   "id": "4b42b408",
   "metadata": {},
   "outputs": [
    {
     "data": {
      "text/html": [
       "<div>\n",
       "<style scoped>\n",
       "    .dataframe tbody tr th:only-of-type {\n",
       "        vertical-align: middle;\n",
       "    }\n",
       "\n",
       "    .dataframe tbody tr th {\n",
       "        vertical-align: top;\n",
       "    }\n",
       "\n",
       "    .dataframe thead th {\n",
       "        text-align: right;\n",
       "    }\n",
       "</style>\n",
       "<table border=\"1\" class=\"dataframe\">\n",
       "  <thead>\n",
       "    <tr style=\"text-align: right;\">\n",
       "      <th></th>\n",
       "      <th>Revenue</th>\n",
       "      <th>Quantity Ordered</th>\n",
       "    </tr>\n",
       "    <tr>\n",
       "      <th>City</th>\n",
       "      <th></th>\n",
       "      <th></th>\n",
       "    </tr>\n",
       "  </thead>\n",
       "  <tbody>\n",
       "    <tr>\n",
       "      <th>Atlanta</th>\n",
       "      <td>2795498.58</td>\n",
       "      <td>16602</td>\n",
       "    </tr>\n",
       "    <tr>\n",
       "      <th>Austin</th>\n",
       "      <td>1819581.75</td>\n",
       "      <td>11153</td>\n",
       "    </tr>\n",
       "    <tr>\n",
       "      <th>Boston</th>\n",
       "      <td>3661642.01</td>\n",
       "      <td>22528</td>\n",
       "    </tr>\n",
       "    <tr>\n",
       "      <th>Dallas</th>\n",
       "      <td>2767975.40</td>\n",
       "      <td>16730</td>\n",
       "    </tr>\n",
       "    <tr>\n",
       "      <th>Los Angeles</th>\n",
       "      <td>5452570.80</td>\n",
       "      <td>33289</td>\n",
       "    </tr>\n",
       "    <tr>\n",
       "      <th>New York City</th>\n",
       "      <td>4664317.43</td>\n",
       "      <td>27932</td>\n",
       "    </tr>\n",
       "    <tr>\n",
       "      <th>Portland</th>\n",
       "      <td>2320490.61</td>\n",
       "      <td>14053</td>\n",
       "    </tr>\n",
       "    <tr>\n",
       "      <th>San Francisco</th>\n",
       "      <td>8262203.91</td>\n",
       "      <td>50239</td>\n",
       "    </tr>\n",
       "    <tr>\n",
       "      <th>Seattle</th>\n",
       "      <td>2747755.48</td>\n",
       "      <td>16553</td>\n",
       "    </tr>\n",
       "  </tbody>\n",
       "</table>\n",
       "</div>"
      ],
      "text/plain": [
       "                   Revenue  Quantity Ordered\n",
       "City                                        \n",
       " Atlanta        2795498.58             16602\n",
       " Austin         1819581.75             11153\n",
       " Boston         3661642.01             22528\n",
       " Dallas         2767975.40             16730\n",
       " Los Angeles    5452570.80             33289\n",
       " New York City  4664317.43             27932\n",
       " Portland       2320490.61             14053\n",
       " San Francisco  8262203.91             50239\n",
       " Seattle        2747755.48             16553"
      ]
     },
     "execution_count": 33,
     "metadata": {},
     "output_type": "execute_result"
    }
   ],
   "source": [
    "city_sales = df.groupby(['City']).sum()\n",
    "city_sales = pd.DataFrame(city_sales[['Revenue', 'Quantity Ordered']])\n",
    "city_sales"
   ]
  },
  {
   "cell_type": "code",
   "execution_count": 34,
   "id": "8eb85b0c",
   "metadata": {},
   "outputs": [
    {
     "data": {
      "text/plain": [
       "Text(0, 0.5, 'Sales(USD)')"
      ]
     },
     "execution_count": 34,
     "metadata": {},
     "output_type": "execute_result"
    },
    {
     "data": {
      "image/png": "[encoded data removed]",
      "text/plain": [
       "<Figure size 1728x432 with 1 Axes>"
      ]
     },
     "metadata": {
      "needs_background": "light"
     },
     "output_type": "display_data"
    }
   ],
   "source": [
    "plt.figure(figsize = (24, 6))\n",
    "\n",
    "sns.barplot(x = city_sales.index, y = city_sales['Revenue'], data = city_sales, palette = 'crest')\n",
    "\n",
    "plt.title('Sales in each cities', fontname = 'cursive', weight = 'bold')\n",
    "# x-label\n",
    "plt.xlabel('City', weight = 'bold')\n",
    "# y-label\n",
    "plt.ylabel('Sales(USD)', weight = 'bold')"
   ]
  },
  {
   "cell_type": "markdown",
   "id": "67639ee4",
   "metadata": {},
   "source": [
    "#### Вопрос 3: В каком городе было больше всего продаж?\n",
    "> На графике выше видно, что в городе Сан-Франциско самые высокие продажи. За весь год было продано 50 239 товаров, которые были доставлены в город Сан-Франциско, на сумму 8 262 203$"
   ]
  },
  {
   "cell_type": "markdown",
   "id": "57b1d06e",
   "metadata": {},
   "source": [
    "### Вопрос 4: В какое время мы должны показывать рекламу, чтобы максимизировать вероятность того, что клиент купит продукт?"
   ]
  },
  {
   "cell_type": "code",
   "execution_count": 35,
   "id": "92655199",
   "metadata": {},
   "outputs": [],
   "source": [
    "import datetime as dt"
   ]
  },
  {
   "cell_type": "code",
   "execution_count": 36,
   "id": "e455c8e8",
   "metadata": {},
   "outputs": [],
   "source": [
    "df['Hour'] = df['Order Date'].dt.hour"
   ]
  },
  {
   "cell_type": "code",
   "execution_count": 37,
   "id": "2595c567",
   "metadata": {},
   "outputs": [
    {
     "data": {
      "text/html": [
       "<div>\n",
       "<style scoped>\n",
       "    .dataframe tbody tr th:only-of-type {\n",
       "        vertical-align: middle;\n",
       "    }\n",
       "\n",
       "    .dataframe tbody tr th {\n",
       "        vertical-align: top;\n",
       "    }\n",
       "\n",
       "    .dataframe thead th {\n",
       "        text-align: right;\n",
       "    }\n",
       "</style>\n",
       "<table border=\"1\" class=\"dataframe\">\n",
       "  <thead>\n",
       "    <tr style=\"text-align: right;\">\n",
       "      <th></th>\n",
       "      <th>Revenue</th>\n",
       "      <th>Quantity Ordered</th>\n",
       "    </tr>\n",
       "    <tr>\n",
       "      <th>Hour</th>\n",
       "      <th></th>\n",
       "      <th></th>\n",
       "    </tr>\n",
       "  </thead>\n",
       "  <tbody>\n",
       "    <tr>\n",
       "      <th>0</th>\n",
       "      <td>713721.27</td>\n",
       "      <td>4428</td>\n",
       "    </tr>\n",
       "    <tr>\n",
       "      <th>1</th>\n",
       "      <td>460866.88</td>\n",
       "      <td>2619</td>\n",
       "    </tr>\n",
       "    <tr>\n",
       "      <th>2</th>\n",
       "      <td>234851.44</td>\n",
       "      <td>1398</td>\n",
       "    </tr>\n",
       "    <tr>\n",
       "      <th>3</th>\n",
       "      <td>145757.89</td>\n",
       "      <td>928</td>\n",
       "    </tr>\n",
       "    <tr>\n",
       "      <th>4</th>\n",
       "      <td>162661.01</td>\n",
       "      <td>937</td>\n",
       "    </tr>\n",
       "    <tr>\n",
       "      <th>5</th>\n",
       "      <td>230679.82</td>\n",
       "      <td>1493</td>\n",
       "    </tr>\n",
       "    <tr>\n",
       "      <th>6</th>\n",
       "      <td>448113.00</td>\n",
       "      <td>2810</td>\n",
       "    </tr>\n",
       "    <tr>\n",
       "      <th>7</th>\n",
       "      <td>744854.12</td>\n",
       "      <td>4556</td>\n",
       "    </tr>\n",
       "    <tr>\n",
       "      <th>8</th>\n",
       "      <td>1192348.97</td>\n",
       "      <td>7002</td>\n",
       "    </tr>\n",
       "    <tr>\n",
       "      <th>9</th>\n",
       "      <td>1639030.58</td>\n",
       "      <td>9816</td>\n",
       "    </tr>\n",
       "    <tr>\n",
       "      <th>10</th>\n",
       "      <td>1944286.77</td>\n",
       "      <td>12308</td>\n",
       "    </tr>\n",
       "    <tr>\n",
       "      <th>11</th>\n",
       "      <td>2300610.24</td>\n",
       "      <td>14005</td>\n",
       "    </tr>\n",
       "    <tr>\n",
       "      <th>12</th>\n",
       "      <td>2316821.34</td>\n",
       "      <td>14202</td>\n",
       "    </tr>\n",
       "    <tr>\n",
       "      <th>13</th>\n",
       "      <td>2155389.80</td>\n",
       "      <td>13685</td>\n",
       "    </tr>\n",
       "    <tr>\n",
       "      <th>14</th>\n",
       "      <td>2083672.73</td>\n",
       "      <td>12362</td>\n",
       "    </tr>\n",
       "    <tr>\n",
       "      <th>15</th>\n",
       "      <td>1941549.60</td>\n",
       "      <td>11391</td>\n",
       "    </tr>\n",
       "    <tr>\n",
       "      <th>16</th>\n",
       "      <td>1904601.31</td>\n",
       "      <td>11662</td>\n",
       "    </tr>\n",
       "    <tr>\n",
       "      <th>17</th>\n",
       "      <td>2129361.61</td>\n",
       "      <td>12229</td>\n",
       "    </tr>\n",
       "    <tr>\n",
       "      <th>18</th>\n",
       "      <td>2219348.30</td>\n",
       "      <td>13802</td>\n",
       "    </tr>\n",
       "    <tr>\n",
       "      <th>19</th>\n",
       "      <td>2412938.54</td>\n",
       "      <td>14470</td>\n",
       "    </tr>\n",
       "    <tr>\n",
       "      <th>20</th>\n",
       "      <td>2281716.24</td>\n",
       "      <td>13768</td>\n",
       "    </tr>\n",
       "    <tr>\n",
       "      <th>21</th>\n",
       "      <td>2042000.86</td>\n",
       "      <td>12244</td>\n",
       "    </tr>\n",
       "    <tr>\n",
       "      <th>22</th>\n",
       "      <td>1607549.21</td>\n",
       "      <td>9899</td>\n",
       "    </tr>\n",
       "    <tr>\n",
       "      <th>23</th>\n",
       "      <td>1179304.44</td>\n",
       "      <td>7065</td>\n",
       "    </tr>\n",
       "  </tbody>\n",
       "</table>\n",
       "</div>"
      ],
      "text/plain": [
       "         Revenue  Quantity Ordered\n",
       "Hour                              \n",
       "0      713721.27              4428\n",
       "1      460866.88              2619\n",
       "2      234851.44              1398\n",
       "3      145757.89               928\n",
       "4      162661.01               937\n",
       "5      230679.82              1493\n",
       "6      448113.00              2810\n",
       "7      744854.12              4556\n",
       "8     1192348.97              7002\n",
       "9     1639030.58              9816\n",
       "10    1944286.77             12308\n",
       "11    2300610.24             14005\n",
       "12    2316821.34             14202\n",
       "13    2155389.80             13685\n",
       "14    2083672.73             12362\n",
       "15    1941549.60             11391\n",
       "16    1904601.31             11662\n",
       "17    2129361.61             12229\n",
       "18    2219348.30             13802\n",
       "19    2412938.54             14470\n",
       "20    2281716.24             13768\n",
       "21    2042000.86             12244\n",
       "22    1607549.21              9899\n",
       "23    1179304.44              7065"
      ]
     },
     "execution_count": 37,
     "metadata": {},
     "output_type": "execute_result"
    }
   ],
   "source": [
    "hourly_sales = df.groupby(['Hour']).sum()\n",
    "hourly_sales = pd.DataFrame(hourly_sales[['Revenue', 'Quantity Ordered']])\n",
    "hourly_sales"
   ]
  },
  {
   "cell_type": "code",
   "execution_count": 38,
   "id": "19e19d99",
   "metadata": {},
   "outputs": [
    {
     "data": {
      "text/plain": [
       "Text(0, 0.5, 'number of sales')"
      ]
     },
     "execution_count": 38,
     "metadata": {},
     "output_type": "execute_result"
    },
    {
     "data": {
      "image/png": "[encoded data removed]",
      "text/plain": [
       "<Figure size 1728x432 with 1 Axes>"
      ]
     },
     "metadata": {
      "needs_background": "light"
     },
     "output_type": "display_data"
    }
   ],
   "source": [
    "plt.figure(figsize = (24, 6))\n",
    "\n",
    "sns.barplot(x = hourly_sales.index, y = hourly_sales['Quantity Ordered'], data = hourly_sales, palette = 'crest')\n",
    "\n",
    "plt.title('Sales in each hour', fontname = 'cursive', weight = 'bold')\n",
    "# x-label\n",
    "plt.xlabel('Hour', weight = 'bold')\n",
    "# y-label\n",
    "plt.ylabel('number of sales', weight = 'bold')"
   ]
  },
  {
   "cell_type": "markdown",
   "id": "636af6d0",
   "metadata": {},
   "source": [
    "#### Вопрос 4: В какое время мы должны показывать рекламу, чтобы максимизировать вероятность того, что клиент купит продукт?\n",
    "> Я бы посоветовал показывать рекламу около 09:00 - 10:00 так как в это время пользователи активно посещяют различные сайты и просматривают рекламу, а после просмотра совершают покупки. Также стоит обратить внимание на вечерние время дня, час пик у нас с 18:00 до 20:00. В это время люди приходят с работы и активно скролят ленту в соц-сетях. Именно поэтому я советую показывать рекламу около 18:00 - 19:00, чтобы максимизировать вероятность того, что клиент купит продукт."
   ]
  },
  {
   "cell_type": "markdown",
   "id": "4b8fe850",
   "metadata": {},
   "source": [
    "### Вопрос 5: Какие продукты чаще всего продаются вместе?"
   ]
  },
  {
   "cell_type": "code",
   "execution_count": 39,
   "id": "40e3d18b",
   "metadata": {},
   "outputs": [
    {
     "data": {
      "text/html": [
       "<div>\n",
       "<style scoped>\n",
       "    .dataframe tbody tr th:only-of-type {\n",
       "        vertical-align: middle;\n",
       "    }\n",
       "\n",
       "    .dataframe tbody tr th {\n",
       "        vertical-align: top;\n",
       "    }\n",
       "\n",
       "    .dataframe thead th {\n",
       "        text-align: right;\n",
       "    }\n",
       "</style>\n",
       "<table border=\"1\" class=\"dataframe\">\n",
       "  <thead>\n",
       "    <tr style=\"text-align: right;\">\n",
       "      <th></th>\n",
       "      <th>Order ID</th>\n",
       "      <th>Product</th>\n",
       "    </tr>\n",
       "  </thead>\n",
       "  <tbody>\n",
       "    <tr>\n",
       "      <th>41</th>\n",
       "      <td>141275</td>\n",
       "      <td>USB-C Charging Cable</td>\n",
       "    </tr>\n",
       "    <tr>\n",
       "      <th>42</th>\n",
       "      <td>141275</td>\n",
       "      <td>Wired Headphones</td>\n",
       "    </tr>\n",
       "    <tr>\n",
       "      <th>57</th>\n",
       "      <td>141290</td>\n",
       "      <td>Apple Airpods Headphones</td>\n",
       "    </tr>\n",
       "    <tr>\n",
       "      <th>58</th>\n",
       "      <td>141290</td>\n",
       "      <td>AA Batteries (4-pack)</td>\n",
       "    </tr>\n",
       "    <tr>\n",
       "      <th>133</th>\n",
       "      <td>141365</td>\n",
       "      <td>Vareebadd Phone</td>\n",
       "    </tr>\n",
       "    <tr>\n",
       "      <th>134</th>\n",
       "      <td>141365</td>\n",
       "      <td>Wired Headphones</td>\n",
       "    </tr>\n",
       "  </tbody>\n",
       "</table>\n",
       "</div>"
      ],
      "text/plain": [
       "    Order ID                   Product\n",
       "41    141275      USB-C Charging Cable\n",
       "42    141275          Wired Headphones\n",
       "57    141290  Apple Airpods Headphones\n",
       "58    141290     AA Batteries (4-pack)\n",
       "133   141365           Vareebadd Phone\n",
       "134   141365          Wired Headphones"
      ]
     },
     "execution_count": 39,
     "metadata": {},
     "output_type": "execute_result"
    }
   ],
   "source": [
    "duplicated_id = df[df['Order ID'].duplicated(keep=False)]\n",
    "duplicated_id[['Order ID', 'Product']].head(6)"
   ]
  },
  {
   "cell_type": "code",
   "execution_count": 40,
   "id": "c0a826fd",
   "metadata": {},
   "outputs": [
    {
     "name": "stderr",
     "output_type": "stream",
     "text": [
      "/var/folders/t2/61lgnyrn60ggkd_14hfd4khm0000gn/T/ipykernel_64468/2022050970.py:1: SettingWithCopyWarning: \n",
      "A value is trying to be set on a copy of a slice from a DataFrame.\n",
      "Try using .loc[row_indexer,col_indexer] = value instead\n",
      "\n",
      "See the caveats in the documentation: https://pandas.pydata.org/pandas-docs/stable/user_guide/indexing.html#returning-a-view-versus-a-copy\n",
      "  duplicated_id['Group'] = duplicated_id.groupby('Order ID')['Product'].transform(lambda x: ', '.join(x))\n"
     ]
    },
    {
     "data": {
      "text/html": [
       "<div>\n",
       "<style scoped>\n",
       "    .dataframe tbody tr th:only-of-type {\n",
       "        vertical-align: middle;\n",
       "    }\n",
       "\n",
       "    .dataframe tbody tr th {\n",
       "        vertical-align: top;\n",
       "    }\n",
       "\n",
       "    .dataframe thead th {\n",
       "        text-align: right;\n",
       "    }\n",
       "</style>\n",
       "<table border=\"1\" class=\"dataframe\">\n",
       "  <thead>\n",
       "    <tr style=\"text-align: right;\">\n",
       "      <th></th>\n",
       "      <th>Order ID</th>\n",
       "      <th>Product</th>\n",
       "      <th>Group</th>\n",
       "    </tr>\n",
       "  </thead>\n",
       "  <tbody>\n",
       "    <tr>\n",
       "      <th>41</th>\n",
       "      <td>141275</td>\n",
       "      <td>USB-C Charging Cable</td>\n",
       "      <td>USB-C Charging Cable, Wired Headphones</td>\n",
       "    </tr>\n",
       "    <tr>\n",
       "      <th>42</th>\n",
       "      <td>141275</td>\n",
       "      <td>Wired Headphones</td>\n",
       "      <td>USB-C Charging Cable, Wired Headphones</td>\n",
       "    </tr>\n",
       "    <tr>\n",
       "      <th>57</th>\n",
       "      <td>141290</td>\n",
       "      <td>Apple Airpods Headphones</td>\n",
       "      <td>Apple Airpods Headphones, AA Batteries (4-pack)</td>\n",
       "    </tr>\n",
       "    <tr>\n",
       "      <th>58</th>\n",
       "      <td>141290</td>\n",
       "      <td>AA Batteries (4-pack)</td>\n",
       "      <td>Apple Airpods Headphones, AA Batteries (4-pack)</td>\n",
       "    </tr>\n",
       "    <tr>\n",
       "      <th>133</th>\n",
       "      <td>141365</td>\n",
       "      <td>Vareebadd Phone</td>\n",
       "      <td>Vareebadd Phone, Wired Headphones</td>\n",
       "    </tr>\n",
       "    <tr>\n",
       "      <th>134</th>\n",
       "      <td>141365</td>\n",
       "      <td>Wired Headphones</td>\n",
       "      <td>Vareebadd Phone, Wired Headphones</td>\n",
       "    </tr>\n",
       "  </tbody>\n",
       "</table>\n",
       "</div>"
      ],
      "text/plain": [
       "    Order ID                   Product  \\\n",
       "41    141275      USB-C Charging Cable   \n",
       "42    141275          Wired Headphones   \n",
       "57    141290  Apple Airpods Headphones   \n",
       "58    141290     AA Batteries (4-pack)   \n",
       "133   141365           Vareebadd Phone   \n",
       "134   141365          Wired Headphones   \n",
       "\n",
       "                                               Group  \n",
       "41            USB-C Charging Cable, Wired Headphones  \n",
       "42            USB-C Charging Cable, Wired Headphones  \n",
       "57   Apple Airpods Headphones, AA Batteries (4-pack)  \n",
       "58   Apple Airpods Headphones, AA Batteries (4-pack)  \n",
       "133                Vareebadd Phone, Wired Headphones  \n",
       "134                Vareebadd Phone, Wired Headphones  "
      ]
     },
     "execution_count": 40,
     "metadata": {},
     "output_type": "execute_result"
    }
   ],
   "source": [
    "duplicated_id['Group'] = duplicated_id.groupby('Order ID')['Product'].transform(lambda x: ', '.join(x))\n",
    "duplicated_id[['Order ID', 'Product', 'Group']].head(6)"
   ]
  },
  {
   "cell_type": "code",
   "execution_count": 41,
   "id": "882b2c12",
   "metadata": {},
   "outputs": [
    {
     "data": {
      "text/html": [
       "<div>\n",
       "<style scoped>\n",
       "    .dataframe tbody tr th:only-of-type {\n",
       "        vertical-align: middle;\n",
       "    }\n",
       "\n",
       "    .dataframe tbody tr th {\n",
       "        vertical-align: top;\n",
       "    }\n",
       "\n",
       "    .dataframe thead th {\n",
       "        text-align: right;\n",
       "    }\n",
       "</style>\n",
       "<table border=\"1\" class=\"dataframe\">\n",
       "  <thead>\n",
       "    <tr style=\"text-align: right;\">\n",
       "      <th></th>\n",
       "      <th>Order ID</th>\n",
       "      <th>Group</th>\n",
       "    </tr>\n",
       "  </thead>\n",
       "  <tbody>\n",
       "    <tr>\n",
       "      <th>41</th>\n",
       "      <td>141275</td>\n",
       "      <td>USB-C Charging Cable, Wired Headphones</td>\n",
       "    </tr>\n",
       "    <tr>\n",
       "      <th>57</th>\n",
       "      <td>141290</td>\n",
       "      <td>Apple Airpods Headphones, AA Batteries (4-pack)</td>\n",
       "    </tr>\n",
       "    <tr>\n",
       "      <th>133</th>\n",
       "      <td>141365</td>\n",
       "      <td>Vareebadd Phone, Wired Headphones</td>\n",
       "    </tr>\n",
       "    <tr>\n",
       "      <th>153</th>\n",
       "      <td>141384</td>\n",
       "      <td>Google Phone, USB-C Charging Cable</td>\n",
       "    </tr>\n",
       "    <tr>\n",
       "      <th>220</th>\n",
       "      <td>141450</td>\n",
       "      <td>Google Phone, Bose SoundSport Headphones</td>\n",
       "    </tr>\n",
       "    <tr>\n",
       "      <th>228</th>\n",
       "      <td>141457</td>\n",
       "      <td>iPhone, Apple Airpods Headphones</td>\n",
       "    </tr>\n",
       "    <tr>\n",
       "      <th>250</th>\n",
       "      <td>141478</td>\n",
       "      <td>Google Phone, Apple Airpods Headphones</td>\n",
       "    </tr>\n",
       "    <tr>\n",
       "      <th>323</th>\n",
       "      <td>141550</td>\n",
       "      <td>iPhone, Apple Airpods Headphones, Wired Headph...</td>\n",
       "    </tr>\n",
       "    <tr>\n",
       "      <th>362</th>\n",
       "      <td>141587</td>\n",
       "      <td>USB-C Charging Cable, Apple Airpods Headphones</td>\n",
       "    </tr>\n",
       "    <tr>\n",
       "      <th>421</th>\n",
       "      <td>141645</td>\n",
       "      <td>Lightning Charging Cable, Wired Headphones</td>\n",
       "    </tr>\n",
       "  </tbody>\n",
       "</table>\n",
       "</div>"
      ],
      "text/plain": [
       "    Order ID                                              Group\n",
       "41    141275             USB-C Charging Cable, Wired Headphones\n",
       "57    141290    Apple Airpods Headphones, AA Batteries (4-pack)\n",
       "133   141365                  Vareebadd Phone, Wired Headphones\n",
       "153   141384                 Google Phone, USB-C Charging Cable\n",
       "220   141450           Google Phone, Bose SoundSport Headphones\n",
       "228   141457                   iPhone, Apple Airpods Headphones\n",
       "250   141478             Google Phone, Apple Airpods Headphones\n",
       "323   141550  iPhone, Apple Airpods Headphones, Wired Headph...\n",
       "362   141587     USB-C Charging Cable, Apple Airpods Headphones\n",
       "421   141645         Lightning Charging Cable, Wired Headphones"
      ]
     },
     "execution_count": 41,
     "metadata": {},
     "output_type": "execute_result"
    }
   ],
   "source": [
    "group_df = duplicated_id[['Order ID', 'Group']].drop_duplicates()\n",
    "group_df.head(10)"
   ]
  },
  {
   "cell_type": "code",
   "execution_count": 42,
   "id": "31f8ded5",
   "metadata": {},
   "outputs": [
    {
     "name": "stdout",
     "output_type": "stream",
     "text": [
      "('iPhone', 'Lightning Charging Cable') 1005\n",
      "('Google Phone', 'USB-C Charging Cable') 987\n",
      "('iPhone', 'Wired Headphones') 447\n",
      "('Google Phone', 'Wired Headphones') 414\n",
      "('Vareebadd Phone', 'USB-C Charging Cable') 361\n",
      "('iPhone', 'Apple Airpods Headphones') 360\n",
      "('Google Phone', 'Bose SoundSport Headphones') 220\n"
     ]
    }
   ],
   "source": [
    "# Ссылка: https://stackoverflow.com/questions/52195887/counting-unique-pairs-of-numbers-into-a-python-dictionary\n",
    "from itertools import combinations\n",
    "from collections import Counter\n",
    "\n",
    "count = Counter()\n",
    "\n",
    "for row in group_df['Group']:\n",
    "    row_list = row.split(', ')\n",
    "    count.update(Counter(combinations(row_list, 2)))\n",
    "\n",
    "for key, value in count.most_common(7):\n",
    "    print(key, value)"
   ]
  },
  {
   "cell_type": "markdown",
   "id": "7f1a986e",
   "metadata": {},
   "source": [
    "#### Вопрос 5: Какие продукты чаще всего продаются вместе?\n",
    "> Чаще всего, вместе продаются 'iPhone' и 'Lightning Charging Cable', а также 'Google Phone' и 'USB-C Charging Cable'"
   ]
  },
  {
   "cell_type": "markdown",
   "id": "76681d5e",
   "metadata": {},
   "source": [
    "### Вопрос 6: Какой товар продается больше всего?"
   ]
  },
  {
   "cell_type": "code",
   "execution_count": 43,
   "id": "1ee58d6e",
   "metadata": {},
   "outputs": [
    {
     "data": {
      "text/html": [
       "<div>\n",
       "<style scoped>\n",
       "    .dataframe tbody tr th:only-of-type {\n",
       "        vertical-align: middle;\n",
       "    }\n",
       "\n",
       "    .dataframe tbody tr th {\n",
       "        vertical-align: top;\n",
       "    }\n",
       "\n",
       "    .dataframe thead th {\n",
       "        text-align: right;\n",
       "    }\n",
       "</style>\n",
       "<table border=\"1\" class=\"dataframe\">\n",
       "  <thead>\n",
       "    <tr style=\"text-align: right;\">\n",
       "      <th></th>\n",
       "      <th>Quantity Ordered</th>\n",
       "    </tr>\n",
       "    <tr>\n",
       "      <th>Product</th>\n",
       "      <th></th>\n",
       "    </tr>\n",
       "  </thead>\n",
       "  <tbody>\n",
       "    <tr>\n",
       "      <th>20in Monitor</th>\n",
       "      <td>4129</td>\n",
       "    </tr>\n",
       "    <tr>\n",
       "      <th>27in 4K Gaming Monitor</th>\n",
       "      <td>6244</td>\n",
       "    </tr>\n",
       "    <tr>\n",
       "      <th>27in FHD Monitor</th>\n",
       "      <td>7550</td>\n",
       "    </tr>\n",
       "    <tr>\n",
       "      <th>34in Ultrawide Monitor</th>\n",
       "      <td>6199</td>\n",
       "    </tr>\n",
       "    <tr>\n",
       "      <th>AA Batteries (4-pack)</th>\n",
       "      <td>27635</td>\n",
       "    </tr>\n",
       "    <tr>\n",
       "      <th>AAA Batteries (4-pack)</th>\n",
       "      <td>31017</td>\n",
       "    </tr>\n",
       "    <tr>\n",
       "      <th>Apple Airpods Headphones</th>\n",
       "      <td>15661</td>\n",
       "    </tr>\n",
       "    <tr>\n",
       "      <th>Bose SoundSport Headphones</th>\n",
       "      <td>13457</td>\n",
       "    </tr>\n",
       "    <tr>\n",
       "      <th>Flatscreen TV</th>\n",
       "      <td>4819</td>\n",
       "    </tr>\n",
       "    <tr>\n",
       "      <th>Google Phone</th>\n",
       "      <td>5532</td>\n",
       "    </tr>\n",
       "    <tr>\n",
       "      <th>LG Dryer</th>\n",
       "      <td>646</td>\n",
       "    </tr>\n",
       "    <tr>\n",
       "      <th>LG Washing Machine</th>\n",
       "      <td>666</td>\n",
       "    </tr>\n",
       "    <tr>\n",
       "      <th>Lightning Charging Cable</th>\n",
       "      <td>23217</td>\n",
       "    </tr>\n",
       "    <tr>\n",
       "      <th>Macbook Pro Laptop</th>\n",
       "      <td>4728</td>\n",
       "    </tr>\n",
       "    <tr>\n",
       "      <th>ThinkPad Laptop</th>\n",
       "      <td>4130</td>\n",
       "    </tr>\n",
       "    <tr>\n",
       "      <th>USB-C Charging Cable</th>\n",
       "      <td>23975</td>\n",
       "    </tr>\n",
       "    <tr>\n",
       "      <th>Vareebadd Phone</th>\n",
       "      <td>2068</td>\n",
       "    </tr>\n",
       "    <tr>\n",
       "      <th>Wired Headphones</th>\n",
       "      <td>20557</td>\n",
       "    </tr>\n",
       "    <tr>\n",
       "      <th>iPhone</th>\n",
       "      <td>6849</td>\n",
       "    </tr>\n",
       "  </tbody>\n",
       "</table>\n",
       "</div>"
      ],
      "text/plain": [
       "                            Quantity Ordered\n",
       "Product                                     \n",
       "20in Monitor                            4129\n",
       "27in 4K Gaming Monitor                  6244\n",
       "27in FHD Monitor                        7550\n",
       "34in Ultrawide Monitor                  6199\n",
       "AA Batteries (4-pack)                  27635\n",
       "AAA Batteries (4-pack)                 31017\n",
       "Apple Airpods Headphones               15661\n",
       "Bose SoundSport Headphones             13457\n",
       "Flatscreen TV                           4819\n",
       "Google Phone                            5532\n",
       "LG Dryer                                 646\n",
       "LG Washing Machine                       666\n",
       "Lightning Charging Cable               23217\n",
       "Macbook Pro Laptop                      4728\n",
       "ThinkPad Laptop                         4130\n",
       "USB-C Charging Cable                   23975\n",
       "Vareebadd Phone                         2068\n",
       "Wired Headphones                       20557\n",
       "iPhone                                  6849"
      ]
     },
     "execution_count": 43,
     "metadata": {},
     "output_type": "execute_result"
    }
   ],
   "source": [
    "quantity_ordered = (df.groupby('Product')\n",
    "            .agg({'Quantity Ordered': 'sum'}))\n",
    "quantity_ordered"
   ]
  },
  {
   "cell_type": "code",
   "execution_count": 44,
   "id": "e87efec2",
   "metadata": {},
   "outputs": [
    {
     "data": {
      "text/plain": [
       "Text(0, 0.5, 'Quantity')"
      ]
     },
     "execution_count": 44,
     "metadata": {},
     "output_type": "execute_result"
    },
    {
     "data": {
      "image/png": "[encoded data removed]",
      "text/plain": [
       "<Figure size 1728x432 with 1 Axes>"
      ]
     },
     "metadata": {
      "needs_background": "light"
     },
     "output_type": "display_data"
    }
   ],
   "source": [
    "plt.figure(figsize = (24, 6))\n",
    "\n",
    "sns.barplot(x = quantity_ordered.index, y = quantity_ordered['Quantity Ordered'], data = quantity_ordered, palette = 'crest')\n",
    "\n",
    "plt.title('Products sold in numbers', fontname = 'cursive', weight = 'bold')\n",
    "# x-label\n",
    "plt.xlabel('Product', weight = 'bold')\n",
    "degrees = 60\n",
    "plt.xticks(rotation = degrees)\n",
    "# y-label\n",
    "plt.ylabel('Quantity', weight = 'bold')"
   ]
  },
  {
   "cell_type": "code",
   "execution_count": 45,
   "id": "26c031e3",
   "metadata": {},
   "outputs": [
    {
     "data": {
      "text/html": [
       "<div>\n",
       "<style scoped>\n",
       "    .dataframe tbody tr th:only-of-type {\n",
       "        vertical-align: middle;\n",
       "    }\n",
       "\n",
       "    .dataframe tbody tr th {\n",
       "        vertical-align: top;\n",
       "    }\n",
       "\n",
       "    .dataframe thead th {\n",
       "        text-align: right;\n",
       "    }\n",
       "</style>\n",
       "<table border=\"1\" class=\"dataframe\">\n",
       "  <thead>\n",
       "    <tr style=\"text-align: right;\">\n",
       "      <th></th>\n",
       "      <th>Quantity Ordered</th>\n",
       "      <th>Price Each</th>\n",
       "    </tr>\n",
       "    <tr>\n",
       "      <th>Product</th>\n",
       "      <th></th>\n",
       "      <th></th>\n",
       "    </tr>\n",
       "  </thead>\n",
       "  <tbody>\n",
       "    <tr>\n",
       "      <th>20in Monitor</th>\n",
       "      <td>4129</td>\n",
       "      <td>109.989998</td>\n",
       "    </tr>\n",
       "    <tr>\n",
       "      <th>27in 4K Gaming Monitor</th>\n",
       "      <td>6244</td>\n",
       "      <td>389.989990</td>\n",
       "    </tr>\n",
       "    <tr>\n",
       "      <th>27in FHD Monitor</th>\n",
       "      <td>7550</td>\n",
       "      <td>149.990005</td>\n",
       "    </tr>\n",
       "    <tr>\n",
       "      <th>34in Ultrawide Monitor</th>\n",
       "      <td>6199</td>\n",
       "      <td>379.989990</td>\n",
       "    </tr>\n",
       "    <tr>\n",
       "      <th>AA Batteries (4-pack)</th>\n",
       "      <td>27635</td>\n",
       "      <td>3.840000</td>\n",
       "    </tr>\n",
       "    <tr>\n",
       "      <th>AAA Batteries (4-pack)</th>\n",
       "      <td>31017</td>\n",
       "      <td>2.990000</td>\n",
       "    </tr>\n",
       "    <tr>\n",
       "      <th>Apple Airpods Headphones</th>\n",
       "      <td>15661</td>\n",
       "      <td>150.000000</td>\n",
       "    </tr>\n",
       "    <tr>\n",
       "      <th>Bose SoundSport Headphones</th>\n",
       "      <td>13457</td>\n",
       "      <td>99.989998</td>\n",
       "    </tr>\n",
       "    <tr>\n",
       "      <th>Flatscreen TV</th>\n",
       "      <td>4819</td>\n",
       "      <td>300.000000</td>\n",
       "    </tr>\n",
       "    <tr>\n",
       "      <th>Google Phone</th>\n",
       "      <td>5532</td>\n",
       "      <td>600.000000</td>\n",
       "    </tr>\n",
       "    <tr>\n",
       "      <th>LG Dryer</th>\n",
       "      <td>646</td>\n",
       "      <td>600.000000</td>\n",
       "    </tr>\n",
       "    <tr>\n",
       "      <th>LG Washing Machine</th>\n",
       "      <td>666</td>\n",
       "      <td>600.000000</td>\n",
       "    </tr>\n",
       "    <tr>\n",
       "      <th>Lightning Charging Cable</th>\n",
       "      <td>23217</td>\n",
       "      <td>14.950000</td>\n",
       "    </tr>\n",
       "    <tr>\n",
       "      <th>Macbook Pro Laptop</th>\n",
       "      <td>4728</td>\n",
       "      <td>1700.000000</td>\n",
       "    </tr>\n",
       "    <tr>\n",
       "      <th>ThinkPad Laptop</th>\n",
       "      <td>4130</td>\n",
       "      <td>999.989990</td>\n",
       "    </tr>\n",
       "    <tr>\n",
       "      <th>USB-C Charging Cable</th>\n",
       "      <td>23975</td>\n",
       "      <td>11.950000</td>\n",
       "    </tr>\n",
       "    <tr>\n",
       "      <th>Vareebadd Phone</th>\n",
       "      <td>2068</td>\n",
       "      <td>400.000000</td>\n",
       "    </tr>\n",
       "    <tr>\n",
       "      <th>Wired Headphones</th>\n",
       "      <td>20557</td>\n",
       "      <td>11.990000</td>\n",
       "    </tr>\n",
       "    <tr>\n",
       "      <th>iPhone</th>\n",
       "      <td>6849</td>\n",
       "      <td>700.000000</td>\n",
       "    </tr>\n",
       "  </tbody>\n",
       "</table>\n",
       "</div>"
      ],
      "text/plain": [
       "                            Quantity Ordered   Price Each\n",
       "Product                                                  \n",
       "20in Monitor                            4129   109.989998\n",
       "27in 4K Gaming Monitor                  6244   389.989990\n",
       "27in FHD Monitor                        7550   149.990005\n",
       "34in Ultrawide Monitor                  6199   379.989990\n",
       "AA Batteries (4-pack)                  27635     3.840000\n",
       "AAA Batteries (4-pack)                 31017     2.990000\n",
       "Apple Airpods Headphones               15661   150.000000\n",
       "Bose SoundSport Headphones             13457    99.989998\n",
       "Flatscreen TV                           4819   300.000000\n",
       "Google Phone                            5532   600.000000\n",
       "LG Dryer                                 646   600.000000\n",
       "LG Washing Machine                       666   600.000000\n",
       "Lightning Charging Cable               23217    14.950000\n",
       "Macbook Pro Laptop                      4728  1700.000000\n",
       "ThinkPad Laptop                         4130   999.989990\n",
       "USB-C Charging Cable                   23975    11.950000\n",
       "Vareebadd Phone                         2068   400.000000\n",
       "Wired Headphones                       20557    11.990000\n",
       "iPhone                                  6849   700.000000"
      ]
     },
     "execution_count": 45,
     "metadata": {},
     "output_type": "execute_result"
    }
   ],
   "source": [
    "sales_data = (df.groupby('Product')\n",
    "              .agg({'Quantity Ordered': 'sum', 'Price Each': 'mean'}))\n",
    "sales_data"
   ]
  },
  {
   "cell_type": "code",
   "execution_count": 46,
   "id": "0fab3d68",
   "metadata": {},
   "outputs": [
    {
     "data": {
      "text/html": [
       "<div>\n",
       "<style scoped>\n",
       "    .dataframe tbody tr th:only-of-type {\n",
       "        vertical-align: middle;\n",
       "    }\n",
       "\n",
       "    .dataframe tbody tr th {\n",
       "        vertical-align: top;\n",
       "    }\n",
       "\n",
       "    .dataframe thead th {\n",
       "        text-align: right;\n",
       "    }\n",
       "</style>\n",
       "<table border=\"1\" class=\"dataframe\">\n",
       "  <thead>\n",
       "    <tr style=\"text-align: right;\">\n",
       "      <th></th>\n",
       "      <th>Quantity Ordered</th>\n",
       "      <th>Price Each</th>\n",
       "    </tr>\n",
       "  </thead>\n",
       "  <tbody>\n",
       "    <tr>\n",
       "      <th>Quantity Ordered</th>\n",
       "      <td>1.000000</td>\n",
       "      <td>-0.601443</td>\n",
       "    </tr>\n",
       "    <tr>\n",
       "      <th>Price Each</th>\n",
       "      <td>-0.601443</td>\n",
       "      <td>1.000000</td>\n",
       "    </tr>\n",
       "  </tbody>\n",
       "</table>\n",
       "</div>"
      ],
      "text/plain": [
       "                  Quantity Ordered  Price Each\n",
       "Quantity Ordered          1.000000   -0.601443\n",
       "Price Each               -0.601443    1.000000"
      ]
     },
     "execution_count": 46,
     "metadata": {},
     "output_type": "execute_result"
    }
   ],
   "source": [
    "sales_data.corr()"
   ]
  },
  {
   "cell_type": "code",
   "execution_count": 47,
   "id": "157b5f44",
   "metadata": {},
   "outputs": [
    {
     "data": {
      "text/plain": [
       "(0.0, 34520.15179243352)"
      ]
     },
     "execution_count": 47,
     "metadata": {},
     "output_type": "execute_result"
    },
    {
     "data": {
      "image/png": "[encoded data removed]",
      "text/plain": [
       "<Figure size 720x216 with 1 Axes>"
      ]
     },
     "metadata": {
      "needs_background": "light"
     },
     "output_type": "display_data"
    }
   ],
   "source": [
    "width = 10\n",
    "height = 3\n",
    "plt.figure(figsize=(width, height))\n",
    "sns.regplot(x=\"Price Each\", y=\"Quantity Ordered\", data=sales_data)\n",
    "plt.ylim(0,)"
   ]
  },
  {
   "cell_type": "markdown",
   "id": "4e8cbe43",
   "metadata": {},
   "source": [
    "#### Вопрос 6: Какой товар продается больше всего?\n",
    "> Больше всего продается 'AAA Batteries (4-pack)', за год было продано 31 017 единиц этого товара."
   ]
  },
  {
   "cell_type": "markdown",
   "id": "3cde6d1e",
   "metadata": {},
   "source": [
    "### Какова вероятность того, что другие люди будут заказывать зарядный кабель USB-C?"
   ]
  },
  {
   "cell_type": "code",
   "execution_count": 48,
   "id": "259c45f0",
   "metadata": {},
   "outputs": [
    {
     "data": {
      "text/plain": [
       "185950"
      ]
     },
     "execution_count": 48,
     "metadata": {},
     "output_type": "execute_result"
    }
   ],
   "source": [
    "df_count = df.value_counts().sum()\n",
    "df_count"
   ]
  },
  {
   "cell_type": "code",
   "execution_count": 49,
   "id": "1a76f8e4",
   "metadata": {},
   "outputs": [
    {
     "data": {
      "text/plain": [
       "0.11778972842161871"
      ]
     },
     "execution_count": 49,
     "metadata": {},
     "output_type": "execute_result"
    }
   ],
   "source": [
    "USB = df[df.Product == 'USB-C Charging Cable'].value_counts().sum()\n",
    "\n",
    "probability_USB = USB / df_count\n",
    "probability_USB"
   ]
  },
  {
   "cell_type": "markdown",
   "id": "f6bd27b3",
   "metadata": {},
   "source": [
    "#### Какова вероятность того, что другие люди будут заказывать зарядный кабель USB-C?\n",
    "> 12%"
   ]
  },
  {
   "cell_type": "markdown",
   "id": "0775f2a9",
   "metadata": {},
   "source": [
    "### Какова вероятность того, что другие люди будут заказывать iPhone?"
   ]
  },
  {
   "cell_type": "code",
   "execution_count": 50,
   "id": "52360542",
   "metadata": {},
   "outputs": [
    {
     "data": {
      "text/plain": [
       "0.036794837321860716"
      ]
     },
     "execution_count": 50,
     "metadata": {},
     "output_type": "execute_result"
    }
   ],
   "source": [
    "iPhone = df[df.Product == 'iPhone'].value_counts().sum()\n",
    "\n",
    "probability_iPhone = iPhone / df_count\n",
    "probability_iPhone"
   ]
  },
  {
   "cell_type": "markdown",
   "id": "7d5a0020",
   "metadata": {},
   "source": [
    "#### Какова вероятность того, что другие люди будут заказывать iPhone?\n",
    "> 4%"
   ]
  },
  {
   "cell_type": "markdown",
   "id": "a3801fb5",
   "metadata": {},
   "source": [
    "### Какова вероятность того, что другие люди будут заказывать Google Phone?"
   ]
  },
  {
   "cell_type": "code",
   "execution_count": 51,
   "id": "58ad0816",
   "metadata": {},
   "outputs": [
    {
     "data": {
      "text/plain": [
       "0.029712288249529442"
      ]
     },
     "execution_count": 51,
     "metadata": {},
     "output_type": "execute_result"
    }
   ],
   "source": [
    "Google_Phone = df[df.Product == 'Google Phone'].value_counts().sum()\n",
    "\n",
    "probability_Google_Phone = Google_Phone / df_count\n",
    "probability_Google_Phone"
   ]
  },
  {
   "cell_type": "markdown",
   "id": "d9f39527",
   "metadata": {},
   "source": [
    "#### Какова вероятность того, что другие люди будут заказывать Google Phone?\n",
    "> 3%"
   ]
  },
  {
   "cell_type": "markdown",
   "id": "54cc4fe2",
   "metadata": {},
   "source": [
    "### Какова вероятность того, что другие люди будут заказывать проводные наушники?"
   ]
  },
  {
   "cell_type": "code",
   "execution_count": 52,
   "id": "f6a9f219",
   "metadata": {},
   "outputs": [
    {
     "data": {
      "text/plain": [
       "0.101543425652057"
      ]
     },
     "execution_count": 52,
     "metadata": {},
     "output_type": "execute_result"
    }
   ],
   "source": [
    "Wired_Headphones = df[df.Product == 'Wired Headphones'].value_counts().sum()\n",
    "\n",
    "probability_Wired_Headphones = Wired_Headphones / df_count\n",
    "probability_Wired_Headphones"
   ]
  },
  {
   "cell_type": "markdown",
   "id": "268584cc",
   "metadata": {},
   "source": [
    "#### Какова вероятность того, что другие люди будут заказывать проводные наушники?\n",
    "> 10%"
   ]
  }
 ],
 "metadata": {
  "kernelspec": {
   "display_name": "Python 3 (ipykernel)",
   "language": "python",
   "name": "python3"
  },
  "language_info": {
   "codemirror_mode": {
    "name": "ipython",
    "version": 3
   },
   "file_extension": ".py",
   "mimetype": "text/x-python",
   "name": "python",
   "nbconvert_exporter": "python",
   "pygments_lexer": "ipython3",
   "version": "3.9.7"
  }
 },
 "nbformat": 4,
 "nbformat_minor": 5
}
