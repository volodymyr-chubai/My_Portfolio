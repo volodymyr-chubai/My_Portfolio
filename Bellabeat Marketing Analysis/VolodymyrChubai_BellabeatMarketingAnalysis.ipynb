{
 "cells": [
  {
   "cell_type": "markdown",
   "id": "70decec0",
   "metadata": {},
   "source": [
    "<h1>Bellabeat Marketing Analysis</h1>"
   ]
  },
  {
   "cell_type": "markdown",
   "id": "90d3e52f",
   "metadata": {},
   "source": [
    "<h3>VOLODYMYR CHUBAI</h3>"
   ]
  },
  {
   "cell_type": "markdown",
   "id": "e7909a7b",
   "metadata": {},
   "source": [
    "## Data Analytics Project \n",
    "### How can a wellness technology company play it smart?\n",
    "This is an optional Capstone project in partial fulfillment for the Google Data Analytics certification. this case study follows the six steps of data analysis process: <b>Ask, Prepare, Process, Analyse, Share</b> and <b>Act</b>."
   ]
  },
  {
   "cell_type": "markdown",
   "id": "e9eae1d3",
   "metadata": {},
   "source": [
    "## Case Senerio\n",
    "I am a junior data analyst working on the marketing analyst team at Bellabeat, a high-tech manufacturer of health-focused products for woman. Bellabeat has the goal to become a larger player the global smart device market,they intend to do this by analyzing smart device fitness device. I am asked to focus on one of Bellabeat’s products and analyze smart device data to gain insight into how customers are using their smart devices. These insights will help guide marketing strategy for the company."
   ]
  },
  {
   "cell_type": "markdown",
   "id": "60b49e44",
   "metadata": {},
   "source": [
    "## 1. ASK\n",
    "### Business Task \n",
    "Analyze data from FitBit fitness tracker, a non-Bellabeat smart product, to gain insights into consumer’s trends. This trends are to be applied to one Bellabeat product to help guide marketing strategy for Bellabeat to grow as a global player."
   ]
  },
  {
   "cell_type": "markdown",
   "id": "15439d69",
   "metadata": {},
   "source": [
    "### Stakeholders\n",
    "- Primary Stakeholders: Urska Srska, Sando Mur and every member of the executive team. \n",
    "- Secondary Stakeholders: Bellabeat marketing analytics team."
   ]
  },
  {
   "cell_type": "markdown",
   "id": "673ec783",
   "metadata": {},
   "source": [
    "## 2. PREPARE\n",
    "### Data source\n",
    "The data used was taken from the following public data set: FitBit Fitness Tracker [Data](https://www.kaggle.com/datasets/arashnic/fitbit) from Mobius. The data is publicly available on Kaggle and stored in 18 csv files.The data collected include Physical activity, Heart rate, Sleep monitoring, Daily activities, Weigh, Calorie burned, Distance and Steps."
   ]
  },
  {
   "cell_type": "markdown",
   "id": "8176bbd7",
   "metadata": {},
   "source": [
    "### Limitations of the Data set\n",
    "A good data set should Reliable,Original,Comprehensive,Current and Cited (ROCCC). The FitBit fitness Tracker Data set does not have the aforementioned qualities.\n",
    "- It is not Reliable because it has the sample size of only 30 respondents, which is not large enough subject to get accurate insights. Moreover, some of respondents could be men, which are not Bellabet’s target customer base.\n",
    "\n",
    "- It is not Original because it is from a third party provider (Amazon Mechanical Turk)\n",
    "\n",
    "- Although the data parameters match most of Bellabeat products parameters, the data set is still not comprehensive. Data such as sex,height,age e.t.c not present in the data set would have been useful to create a more accurate analysis. \n",
    "\n",
    "- The data is not also current. The data is from 2016 (6 years ago), and likely does not reflect current smart device usage, hence it is outdated.\n",
    "\n",
    "- Data is collected from a third party. It is not cited."
   ]
  },
  {
   "cell_type": "markdown",
   "id": "43faed3e",
   "metadata": {},
   "source": [
    "## 3. PROCESS\n",
    "### Preparing work environment\n",
    "I will be using Python for the data cleaning, transformation and visualization. The following libraries are installed:"
   ]
  },
  {
   "cell_type": "code",
   "execution_count": 1,
   "id": "d1845813",
   "metadata": {},
   "outputs": [],
   "source": [
    "import pandas as pd\n",
    "import numpy as np\n",
    "import matplotlib.pyplot as plt\n",
    "from matplotlib import pyplot\n",
    "import seaborn as sns\n",
    "\n",
    "%matplotlib inline"
   ]
  },
  {
   "cell_type": "markdown",
   "id": "8612a034",
   "metadata": {},
   "source": [
    "### Importing datasets"
   ]
  },
  {
   "cell_type": "code",
   "execution_count": 2,
   "id": "1ca02897",
   "metadata": {},
   "outputs": [],
   "source": [
    "activity = pd.read_csv(\"/Users/volodymyrchubay/Desktop/Fitabase Data 4.12.16-5.12.16/dailyActivity_merged.csv\")\n",
    "calories = pd.read_csv(\"/Users/volodymyrchubay/Desktop/Fitabase Data 4.12.16-5.12.16/hourlyCalories_merged.csv\")\n",
    "intensities = pd.read_csv(\"/Users/volodymyrchubay/Desktop/Fitabase Data 4.12.16-5.12.16/hourlyIntensities_merged.csv\")\n",
    "sleep = pd.read_csv(\"/Users/volodymyrchubay/Desktop/Fitabase Data 4.12.16-5.12.16/sleepDay_merged.csv\")\n",
    "weight = pd.read_csv(\"/Users/volodymyrchubay/Desktop/Fitabase Data 4.12.16-5.12.16/weightLogInfo_merged.csv\")"
   ]
  },
  {
   "cell_type": "markdown",
   "id": "2b409720",
   "metadata": {},
   "source": [
    "### Verifying the data"
   ]
  },
  {
   "cell_type": "code",
   "execution_count": 3,
   "id": "539f11c8",
   "metadata": {},
   "outputs": [
    {
     "data": {
      "text/html": [
       "<div>\n",
       "<style scoped>\n",
       "    .dataframe tbody tr th:only-of-type {\n",
       "        vertical-align: middle;\n",
       "    }\n",
       "\n",
       "    .dataframe tbody tr th {\n",
       "        vertical-align: top;\n",
       "    }\n",
       "\n",
       "    .dataframe thead th {\n",
       "        text-align: right;\n",
       "    }\n",
       "</style>\n",
       "<table border=\"1\" class=\"dataframe\">\n",
       "  <thead>\n",
       "    <tr style=\"text-align: right;\">\n",
       "      <th></th>\n",
       "      <th>Id</th>\n",
       "      <th>ActivityDate</th>\n",
       "      <th>TotalSteps</th>\n",
       "      <th>TotalDistance</th>\n",
       "      <th>TrackerDistance</th>\n",
       "      <th>LoggedActivitiesDistance</th>\n",
       "      <th>VeryActiveDistance</th>\n",
       "      <th>ModeratelyActiveDistance</th>\n",
       "      <th>LightActiveDistance</th>\n",
       "      <th>SedentaryActiveDistance</th>\n",
       "      <th>VeryActiveMinutes</th>\n",
       "      <th>FairlyActiveMinutes</th>\n",
       "      <th>LightlyActiveMinutes</th>\n",
       "      <th>SedentaryMinutes</th>\n",
       "      <th>Calories</th>\n",
       "    </tr>\n",
       "  </thead>\n",
       "  <tbody>\n",
       "    <tr>\n",
       "      <th>0</th>\n",
       "      <td>1503960366</td>\n",
       "      <td>4/12/2016</td>\n",
       "      <td>13162</td>\n",
       "      <td>8.50</td>\n",
       "      <td>8.50</td>\n",
       "      <td>0.0</td>\n",
       "      <td>1.88</td>\n",
       "      <td>0.55</td>\n",
       "      <td>6.06</td>\n",
       "      <td>0.0</td>\n",
       "      <td>25</td>\n",
       "      <td>13</td>\n",
       "      <td>328</td>\n",
       "      <td>728</td>\n",
       "      <td>1985</td>\n",
       "    </tr>\n",
       "    <tr>\n",
       "      <th>1</th>\n",
       "      <td>1503960366</td>\n",
       "      <td>4/13/2016</td>\n",
       "      <td>10735</td>\n",
       "      <td>6.97</td>\n",
       "      <td>6.97</td>\n",
       "      <td>0.0</td>\n",
       "      <td>1.57</td>\n",
       "      <td>0.69</td>\n",
       "      <td>4.71</td>\n",
       "      <td>0.0</td>\n",
       "      <td>21</td>\n",
       "      <td>19</td>\n",
       "      <td>217</td>\n",
       "      <td>776</td>\n",
       "      <td>1797</td>\n",
       "    </tr>\n",
       "    <tr>\n",
       "      <th>2</th>\n",
       "      <td>1503960366</td>\n",
       "      <td>4/14/2016</td>\n",
       "      <td>10460</td>\n",
       "      <td>6.74</td>\n",
       "      <td>6.74</td>\n",
       "      <td>0.0</td>\n",
       "      <td>2.44</td>\n",
       "      <td>0.40</td>\n",
       "      <td>3.91</td>\n",
       "      <td>0.0</td>\n",
       "      <td>30</td>\n",
       "      <td>11</td>\n",
       "      <td>181</td>\n",
       "      <td>1218</td>\n",
       "      <td>1776</td>\n",
       "    </tr>\n",
       "    <tr>\n",
       "      <th>3</th>\n",
       "      <td>1503960366</td>\n",
       "      <td>4/15/2016</td>\n",
       "      <td>9762</td>\n",
       "      <td>6.28</td>\n",
       "      <td>6.28</td>\n",
       "      <td>0.0</td>\n",
       "      <td>2.14</td>\n",
       "      <td>1.26</td>\n",
       "      <td>2.83</td>\n",
       "      <td>0.0</td>\n",
       "      <td>29</td>\n",
       "      <td>34</td>\n",
       "      <td>209</td>\n",
       "      <td>726</td>\n",
       "      <td>1745</td>\n",
       "    </tr>\n",
       "    <tr>\n",
       "      <th>4</th>\n",
       "      <td>1503960366</td>\n",
       "      <td>4/16/2016</td>\n",
       "      <td>12669</td>\n",
       "      <td>8.16</td>\n",
       "      <td>8.16</td>\n",
       "      <td>0.0</td>\n",
       "      <td>2.71</td>\n",
       "      <td>0.41</td>\n",
       "      <td>5.04</td>\n",
       "      <td>0.0</td>\n",
       "      <td>36</td>\n",
       "      <td>10</td>\n",
       "      <td>221</td>\n",
       "      <td>773</td>\n",
       "      <td>1863</td>\n",
       "    </tr>\n",
       "  </tbody>\n",
       "</table>\n",
       "</div>"
      ],
      "text/plain": [
       "           Id ActivityDate  TotalSteps  TotalDistance  TrackerDistance  \\\n",
       "0  1503960366    4/12/2016       13162           8.50             8.50   \n",
       "1  1503960366    4/13/2016       10735           6.97             6.97   \n",
       "2  1503960366    4/14/2016       10460           6.74             6.74   \n",
       "3  1503960366    4/15/2016        9762           6.28             6.28   \n",
       "4  1503960366    4/16/2016       12669           8.16             8.16   \n",
       "\n",
       "   LoggedActivitiesDistance  VeryActiveDistance  ModeratelyActiveDistance  \\\n",
       "0                       0.0                1.88                      0.55   \n",
       "1                       0.0                1.57                      0.69   \n",
       "2                       0.0                2.44                      0.40   \n",
       "3                       0.0                2.14                      1.26   \n",
       "4                       0.0                2.71                      0.41   \n",
       "\n",
       "   LightActiveDistance  SedentaryActiveDistance  VeryActiveMinutes  \\\n",
       "0                 6.06                      0.0                 25   \n",
       "1                 4.71                      0.0                 21   \n",
       "2                 3.91                      0.0                 30   \n",
       "3                 2.83                      0.0                 29   \n",
       "4                 5.04                      0.0                 36   \n",
       "\n",
       "   FairlyActiveMinutes  LightlyActiveMinutes  SedentaryMinutes  Calories  \n",
       "0                   13                   328               728      1985  \n",
       "1                   19                   217               776      1797  \n",
       "2                   11                   181              1218      1776  \n",
       "3                   34                   209               726      1745  \n",
       "4                   10                   221               773      1863  "
      ]
     },
     "execution_count": 3,
     "metadata": {},
     "output_type": "execute_result"
    }
   ],
   "source": [
    "activity.head()"
   ]
  },
  {
   "cell_type": "code",
   "execution_count": 4,
   "id": "99113982",
   "metadata": {},
   "outputs": [
    {
     "data": {
      "text/plain": [
       "Id                            int64\n",
       "ActivityDate                 object\n",
       "TotalSteps                    int64\n",
       "TotalDistance               float64\n",
       "TrackerDistance             float64\n",
       "LoggedActivitiesDistance    float64\n",
       "VeryActiveDistance          float64\n",
       "ModeratelyActiveDistance    float64\n",
       "LightActiveDistance         float64\n",
       "SedentaryActiveDistance     float64\n",
       "VeryActiveMinutes             int64\n",
       "FairlyActiveMinutes           int64\n",
       "LightlyActiveMinutes          int64\n",
       "SedentaryMinutes              int64\n",
       "Calories                      int64\n",
       "dtype: object"
      ]
     },
     "execution_count": 4,
     "metadata": {},
     "output_type": "execute_result"
    }
   ],
   "source": [
    "activity.dtypes"
   ]
  },
  {
   "cell_type": "markdown",
   "id": "667f682b",
   "metadata": {},
   "source": [
    "### Cleaning the Data"
   ]
  },
  {
   "cell_type": "markdown",
   "id": "cf4a3f25",
   "metadata": {},
   "source": [
    "Looking for null values"
   ]
  },
  {
   "cell_type": "code",
   "execution_count": 5,
   "id": "63888829",
   "metadata": {},
   "outputs": [
    {
     "data": {
      "text/html": [
       "<div>\n",
       "<style scoped>\n",
       "    .dataframe tbody tr th:only-of-type {\n",
       "        vertical-align: middle;\n",
       "    }\n",
       "\n",
       "    .dataframe tbody tr th {\n",
       "        vertical-align: top;\n",
       "    }\n",
       "\n",
       "    .dataframe thead th {\n",
       "        text-align: right;\n",
       "    }\n",
       "</style>\n",
       "<table border=\"1\" class=\"dataframe\">\n",
       "  <thead>\n",
       "    <tr style=\"text-align: right;\">\n",
       "      <th></th>\n",
       "      <th>Id</th>\n",
       "      <th>ActivityDate</th>\n",
       "      <th>TotalSteps</th>\n",
       "      <th>TotalDistance</th>\n",
       "      <th>TrackerDistance</th>\n",
       "      <th>LoggedActivitiesDistance</th>\n",
       "      <th>VeryActiveDistance</th>\n",
       "      <th>ModeratelyActiveDistance</th>\n",
       "      <th>LightActiveDistance</th>\n",
       "      <th>SedentaryActiveDistance</th>\n",
       "      <th>VeryActiveMinutes</th>\n",
       "      <th>FairlyActiveMinutes</th>\n",
       "      <th>LightlyActiveMinutes</th>\n",
       "      <th>SedentaryMinutes</th>\n",
       "      <th>Calories</th>\n",
       "    </tr>\n",
       "  </thead>\n",
       "  <tbody>\n",
       "    <tr>\n",
       "      <th>0</th>\n",
       "      <td>False</td>\n",
       "      <td>False</td>\n",
       "      <td>False</td>\n",
       "      <td>False</td>\n",
       "      <td>False</td>\n",
       "      <td>False</td>\n",
       "      <td>False</td>\n",
       "      <td>False</td>\n",
       "      <td>False</td>\n",
       "      <td>False</td>\n",
       "      <td>False</td>\n",
       "      <td>False</td>\n",
       "      <td>False</td>\n",
       "      <td>False</td>\n",
       "      <td>False</td>\n",
       "    </tr>\n",
       "    <tr>\n",
       "      <th>1</th>\n",
       "      <td>False</td>\n",
       "      <td>False</td>\n",
       "      <td>False</td>\n",
       "      <td>False</td>\n",
       "      <td>False</td>\n",
       "      <td>False</td>\n",
       "      <td>False</td>\n",
       "      <td>False</td>\n",
       "      <td>False</td>\n",
       "      <td>False</td>\n",
       "      <td>False</td>\n",
       "      <td>False</td>\n",
       "      <td>False</td>\n",
       "      <td>False</td>\n",
       "      <td>False</td>\n",
       "    </tr>\n",
       "    <tr>\n",
       "      <th>2</th>\n",
       "      <td>False</td>\n",
       "      <td>False</td>\n",
       "      <td>False</td>\n",
       "      <td>False</td>\n",
       "      <td>False</td>\n",
       "      <td>False</td>\n",
       "      <td>False</td>\n",
       "      <td>False</td>\n",
       "      <td>False</td>\n",
       "      <td>False</td>\n",
       "      <td>False</td>\n",
       "      <td>False</td>\n",
       "      <td>False</td>\n",
       "      <td>False</td>\n",
       "      <td>False</td>\n",
       "    </tr>\n",
       "    <tr>\n",
       "      <th>3</th>\n",
       "      <td>False</td>\n",
       "      <td>False</td>\n",
       "      <td>False</td>\n",
       "      <td>False</td>\n",
       "      <td>False</td>\n",
       "      <td>False</td>\n",
       "      <td>False</td>\n",
       "      <td>False</td>\n",
       "      <td>False</td>\n",
       "      <td>False</td>\n",
       "      <td>False</td>\n",
       "      <td>False</td>\n",
       "      <td>False</td>\n",
       "      <td>False</td>\n",
       "      <td>False</td>\n",
       "    </tr>\n",
       "    <tr>\n",
       "      <th>4</th>\n",
       "      <td>False</td>\n",
       "      <td>False</td>\n",
       "      <td>False</td>\n",
       "      <td>False</td>\n",
       "      <td>False</td>\n",
       "      <td>False</td>\n",
       "      <td>False</td>\n",
       "      <td>False</td>\n",
       "      <td>False</td>\n",
       "      <td>False</td>\n",
       "      <td>False</td>\n",
       "      <td>False</td>\n",
       "      <td>False</td>\n",
       "      <td>False</td>\n",
       "      <td>False</td>\n",
       "    </tr>\n",
       "    <tr>\n",
       "      <th>...</th>\n",
       "      <td>...</td>\n",
       "      <td>...</td>\n",
       "      <td>...</td>\n",
       "      <td>...</td>\n",
       "      <td>...</td>\n",
       "      <td>...</td>\n",
       "      <td>...</td>\n",
       "      <td>...</td>\n",
       "      <td>...</td>\n",
       "      <td>...</td>\n",
       "      <td>...</td>\n",
       "      <td>...</td>\n",
       "      <td>...</td>\n",
       "      <td>...</td>\n",
       "      <td>...</td>\n",
       "    </tr>\n",
       "    <tr>\n",
       "      <th>935</th>\n",
       "      <td>False</td>\n",
       "      <td>False</td>\n",
       "      <td>False</td>\n",
       "      <td>False</td>\n",
       "      <td>False</td>\n",
       "      <td>False</td>\n",
       "      <td>False</td>\n",
       "      <td>False</td>\n",
       "      <td>False</td>\n",
       "      <td>False</td>\n",
       "      <td>False</td>\n",
       "      <td>False</td>\n",
       "      <td>False</td>\n",
       "      <td>False</td>\n",
       "      <td>False</td>\n",
       "    </tr>\n",
       "    <tr>\n",
       "      <th>936</th>\n",
       "      <td>False</td>\n",
       "      <td>False</td>\n",
       "      <td>False</td>\n",
       "      <td>False</td>\n",
       "      <td>False</td>\n",
       "      <td>False</td>\n",
       "      <td>False</td>\n",
       "      <td>False</td>\n",
       "      <td>False</td>\n",
       "      <td>False</td>\n",
       "      <td>False</td>\n",
       "      <td>False</td>\n",
       "      <td>False</td>\n",
       "      <td>False</td>\n",
       "      <td>False</td>\n",
       "    </tr>\n",
       "    <tr>\n",
       "      <th>937</th>\n",
       "      <td>False</td>\n",
       "      <td>False</td>\n",
       "      <td>False</td>\n",
       "      <td>False</td>\n",
       "      <td>False</td>\n",
       "      <td>False</td>\n",
       "      <td>False</td>\n",
       "      <td>False</td>\n",
       "      <td>False</td>\n",
       "      <td>False</td>\n",
       "      <td>False</td>\n",
       "      <td>False</td>\n",
       "      <td>False</td>\n",
       "      <td>False</td>\n",
       "      <td>False</td>\n",
       "    </tr>\n",
       "    <tr>\n",
       "      <th>938</th>\n",
       "      <td>False</td>\n",
       "      <td>False</td>\n",
       "      <td>False</td>\n",
       "      <td>False</td>\n",
       "      <td>False</td>\n",
       "      <td>False</td>\n",
       "      <td>False</td>\n",
       "      <td>False</td>\n",
       "      <td>False</td>\n",
       "      <td>False</td>\n",
       "      <td>False</td>\n",
       "      <td>False</td>\n",
       "      <td>False</td>\n",
       "      <td>False</td>\n",
       "      <td>False</td>\n",
       "    </tr>\n",
       "    <tr>\n",
       "      <th>939</th>\n",
       "      <td>False</td>\n",
       "      <td>False</td>\n",
       "      <td>False</td>\n",
       "      <td>False</td>\n",
       "      <td>False</td>\n",
       "      <td>False</td>\n",
       "      <td>False</td>\n",
       "      <td>False</td>\n",
       "      <td>False</td>\n",
       "      <td>False</td>\n",
       "      <td>False</td>\n",
       "      <td>False</td>\n",
       "      <td>False</td>\n",
       "      <td>False</td>\n",
       "      <td>False</td>\n",
       "    </tr>\n",
       "  </tbody>\n",
       "</table>\n",
       "<p>940 rows × 15 columns</p>\n",
       "</div>"
      ],
      "text/plain": [
       "        Id  ActivityDate  TotalSteps  TotalDistance  TrackerDistance  \\\n",
       "0    False         False       False          False            False   \n",
       "1    False         False       False          False            False   \n",
       "2    False         False       False          False            False   \n",
       "3    False         False       False          False            False   \n",
       "4    False         False       False          False            False   \n",
       "..     ...           ...         ...            ...              ...   \n",
       "935  False         False       False          False            False   \n",
       "936  False         False       False          False            False   \n",
       "937  False         False       False          False            False   \n",
       "938  False         False       False          False            False   \n",
       "939  False         False       False          False            False   \n",
       "\n",
       "     LoggedActivitiesDistance  VeryActiveDistance  ModeratelyActiveDistance  \\\n",
       "0                       False               False                     False   \n",
       "1                       False               False                     False   \n",
       "2                       False               False                     False   \n",
       "3                       False               False                     False   \n",
       "4                       False               False                     False   \n",
       "..                        ...                 ...                       ...   \n",
       "935                     False               False                     False   \n",
       "936                     False               False                     False   \n",
       "937                     False               False                     False   \n",
       "938                     False               False                     False   \n",
       "939                     False               False                     False   \n",
       "\n",
       "     LightActiveDistance  SedentaryActiveDistance  VeryActiveMinutes  \\\n",
       "0                  False                    False              False   \n",
       "1                  False                    False              False   \n",
       "2                  False                    False              False   \n",
       "3                  False                    False              False   \n",
       "4                  False                    False              False   \n",
       "..                   ...                      ...                ...   \n",
       "935                False                    False              False   \n",
       "936                False                    False              False   \n",
       "937                False                    False              False   \n",
       "938                False                    False              False   \n",
       "939                False                    False              False   \n",
       "\n",
       "     FairlyActiveMinutes  LightlyActiveMinutes  SedentaryMinutes  Calories  \n",
       "0                  False                 False             False     False  \n",
       "1                  False                 False             False     False  \n",
       "2                  False                 False             False     False  \n",
       "3                  False                 False             False     False  \n",
       "4                  False                 False             False     False  \n",
       "..                   ...                   ...               ...       ...  \n",
       "935                False                 False             False     False  \n",
       "936                False                 False             False     False  \n",
       "937                False                 False             False     False  \n",
       "938                False                 False             False     False  \n",
       "939                False                 False             False     False  \n",
       "\n",
       "[940 rows x 15 columns]"
      ]
     },
     "execution_count": 5,
     "metadata": {},
     "output_type": "execute_result"
    }
   ],
   "source": [
    "activity.isna()"
   ]
  },
  {
   "cell_type": "markdown",
   "id": "4e30ca43",
   "metadata": {},
   "source": [
    "Counting the unique IDs to check if they are up to 30."
   ]
  },
  {
   "cell_type": "code",
   "execution_count": 6,
   "id": "8a5c8a40",
   "metadata": {},
   "outputs": [
    {
     "data": {
      "text/plain": [
       "33"
      ]
     },
     "execution_count": 6,
     "metadata": {},
     "output_type": "execute_result"
    }
   ],
   "source": [
    "len(pd.unique(activity['Id']))"
   ]
  },
  {
   "cell_type": "markdown",
   "id": "640b906a",
   "metadata": {},
   "source": [
    "### Results\n",
    "- No null or missing values.\n",
    "- Data has 15 columns and 940 rows.\n",
    "- ActivityDate, ActivityHour, SleepDay, Date is of type 'object'.\n",
    "- The unique IDs are 33 instead of 30. It means that some users may have more than 1 IDs."
   ]
  },
  {
   "cell_type": "markdown",
   "id": "b10917ca",
   "metadata": {},
   "source": [
    "### Transforming Data\n",
    "ActivityDate, ActivityHour, SleepDay, Date is of type 'object' and needs to be converted to datetime type."
   ]
  },
  {
   "cell_type": "code",
   "execution_count": 7,
   "id": "8e9c1f8a",
   "metadata": {},
   "outputs": [],
   "source": [
    "# activity\n",
    "activity['ActivityDate'] = activity['ActivityDate'].astype('datetime64[ns]')\n",
    "activity['date'] = activity['ActivityDate'].dt.strftime('%m/%d/%Y')\n",
    "# calories\n",
    "calories[\"ActivityHour\"] = calories[\"ActivityHour\"].astype('datetime64[ns]')\n",
    "calories['time'] = calories['ActivityHour'].dt.strftime('%H:%M:%S')\n",
    "calories['date'] = calories['ActivityHour'].dt.strftime('%m/%d/%Y')\n",
    "# intensities\n",
    "intensities[\"ActivityHour\"] = intensities[\"ActivityHour\"].astype('datetime64[ns]')\n",
    "intensities['time'] = intensities['ActivityHour'].dt.strftime('%H:%M:%S')\n",
    "intensities['date'] = intensities['ActivityHour'].dt.strftime('%m/%d/%Y')\n",
    "# sleep\n",
    "sleep[\"SleepDay\"] = sleep[\"SleepDay\"].astype('datetime64[ns]')\n",
    "sleep['date'] = sleep['SleepDay'].dt.strftime('%m/%d/%Y')\n",
    "# weight\n",
    "weight[\"Date\"] = weight[\"Date\"].astype('datetime64[ns]')"
   ]
  },
  {
   "cell_type": "markdown",
   "id": "9fb30fe8",
   "metadata": {},
   "source": [
    "Create new column ‘Week_Day’ using the activitydate as reference."
   ]
  },
  {
   "cell_type": "code",
   "execution_count": 8,
   "id": "eb25c5e9",
   "metadata": {},
   "outputs": [],
   "source": [
    "activity['Week_Day'] = activity['ActivityDate'].dt.day_name()"
   ]
  },
  {
   "cell_type": "markdown",
   "id": "a185e142",
   "metadata": {},
   "source": [
    "Create new column ‘TotalMins’ which will be the total minutes users were logged in, it will be gotten by adding very active minutes, fairly active minutes, lightly active minutes and sedentary minutes."
   ]
  },
  {
   "cell_type": "code",
   "execution_count": 9,
   "id": "7962dcdf",
   "metadata": {},
   "outputs": [],
   "source": [
    "activity['TotalMins'] = activity['VeryActiveMinutes'] + activity['FairlyActiveMinutes'] + activity['LightlyActiveMinutes'] + activity['SedentaryMinutes']"
   ]
  },
  {
   "cell_type": "markdown",
   "id": "edb76a46",
   "metadata": {},
   "source": [
    "Create new column ‘TotalHrs’ by converting TotalMins to hours."
   ]
  },
  {
   "cell_type": "code",
   "execution_count": 10,
   "id": "c19232c9",
   "metadata": {},
   "outputs": [],
   "source": [
    "activity['TotalHrs'] = activity['TotalMins'] / 60"
   ]
  },
  {
   "cell_type": "markdown",
   "id": "607ab3f6",
   "metadata": {},
   "source": [
    "## 4. ANALYSE\n",
    "At this stage I will be performing some calculations to get insights and spot trends from the data. First,I will condense the dataframe into only the columns that i want to use for more focused analysis."
   ]
  },
  {
   "cell_type": "code",
   "execution_count": 11,
   "id": "3057489f",
   "metadata": {},
   "outputs": [
    {
     "data": {
      "text/html": [
       "<div>\n",
       "<style scoped>\n",
       "    .dataframe tbody tr th:only-of-type {\n",
       "        vertical-align: middle;\n",
       "    }\n",
       "\n",
       "    .dataframe tbody tr th {\n",
       "        vertical-align: top;\n",
       "    }\n",
       "\n",
       "    .dataframe thead th {\n",
       "        text-align: right;\n",
       "    }\n",
       "</style>\n",
       "<table border=\"1\" class=\"dataframe\">\n",
       "  <thead>\n",
       "    <tr style=\"text-align: right;\">\n",
       "      <th></th>\n",
       "      <th>Id</th>\n",
       "      <th>Week_Day</th>\n",
       "      <th>TotalSteps</th>\n",
       "      <th>Calories</th>\n",
       "      <th>VeryActiveMinutes</th>\n",
       "      <th>FairlyActiveMinutes</th>\n",
       "      <th>LightlyActiveMinutes</th>\n",
       "      <th>SedentaryMinutes</th>\n",
       "      <th>TotalMins</th>\n",
       "      <th>TotalHrs</th>\n",
       "    </tr>\n",
       "  </thead>\n",
       "  <tbody>\n",
       "    <tr>\n",
       "      <th>0</th>\n",
       "      <td>1503960366</td>\n",
       "      <td>Tuesday</td>\n",
       "      <td>13162</td>\n",
       "      <td>1985</td>\n",
       "      <td>25</td>\n",
       "      <td>13</td>\n",
       "      <td>328</td>\n",
       "      <td>728</td>\n",
       "      <td>1094</td>\n",
       "      <td>18.233333</td>\n",
       "    </tr>\n",
       "    <tr>\n",
       "      <th>1</th>\n",
       "      <td>1503960366</td>\n",
       "      <td>Wednesday</td>\n",
       "      <td>10735</td>\n",
       "      <td>1797</td>\n",
       "      <td>21</td>\n",
       "      <td>19</td>\n",
       "      <td>217</td>\n",
       "      <td>776</td>\n",
       "      <td>1033</td>\n",
       "      <td>17.216667</td>\n",
       "    </tr>\n",
       "    <tr>\n",
       "      <th>2</th>\n",
       "      <td>1503960366</td>\n",
       "      <td>Thursday</td>\n",
       "      <td>10460</td>\n",
       "      <td>1776</td>\n",
       "      <td>30</td>\n",
       "      <td>11</td>\n",
       "      <td>181</td>\n",
       "      <td>1218</td>\n",
       "      <td>1440</td>\n",
       "      <td>24.000000</td>\n",
       "    </tr>\n",
       "    <tr>\n",
       "      <th>3</th>\n",
       "      <td>1503960366</td>\n",
       "      <td>Friday</td>\n",
       "      <td>9762</td>\n",
       "      <td>1745</td>\n",
       "      <td>29</td>\n",
       "      <td>34</td>\n",
       "      <td>209</td>\n",
       "      <td>726</td>\n",
       "      <td>998</td>\n",
       "      <td>16.633333</td>\n",
       "    </tr>\n",
       "    <tr>\n",
       "      <th>4</th>\n",
       "      <td>1503960366</td>\n",
       "      <td>Saturday</td>\n",
       "      <td>12669</td>\n",
       "      <td>1863</td>\n",
       "      <td>36</td>\n",
       "      <td>10</td>\n",
       "      <td>221</td>\n",
       "      <td>773</td>\n",
       "      <td>1040</td>\n",
       "      <td>17.333333</td>\n",
       "    </tr>\n",
       "  </tbody>\n",
       "</table>\n",
       "</div>"
      ],
      "text/plain": [
       "           Id   Week_Day  TotalSteps  Calories  VeryActiveMinutes  \\\n",
       "0  1503960366    Tuesday       13162      1985                 25   \n",
       "1  1503960366  Wednesday       10735      1797                 21   \n",
       "2  1503960366   Thursday       10460      1776                 30   \n",
       "3  1503960366     Friday        9762      1745                 29   \n",
       "4  1503960366   Saturday       12669      1863                 36   \n",
       "\n",
       "   FairlyActiveMinutes  LightlyActiveMinutes  SedentaryMinutes  TotalMins  \\\n",
       "0                   13                   328               728       1094   \n",
       "1                   19                   217               776       1033   \n",
       "2                   11                   181              1218       1440   \n",
       "3                   34                   209               726        998   \n",
       "4                   10                   221               773       1040   \n",
       "\n",
       "    TotalHrs  \n",
       "0  18.233333  \n",
       "1  17.216667  \n",
       "2  24.000000  \n",
       "3  16.633333  \n",
       "4  17.333333  "
      ]
     },
     "execution_count": 11,
     "metadata": {},
     "output_type": "execute_result"
    }
   ],
   "source": [
    "df_activity = activity[['Id', 'Week_Day', 'TotalSteps', 'Calories', 'VeryActiveMinutes', 'FairlyActiveMinutes', 'LightlyActiveMinutes', 'SedentaryMinutes', 'TotalMins', 'TotalHrs']]\n",
    "df_activity.head()"
   ]
  },
  {
   "cell_type": "markdown",
   "id": "64d24136",
   "metadata": {},
   "source": [
    "Performing calculations."
   ]
  },
  {
   "cell_type": "code",
   "execution_count": 12,
   "id": "dd9fe200",
   "metadata": {},
   "outputs": [
    {
     "data": {
      "text/html": [
       "<div>\n",
       "<style scoped>\n",
       "    .dataframe tbody tr th:only-of-type {\n",
       "        vertical-align: middle;\n",
       "    }\n",
       "\n",
       "    .dataframe tbody tr th {\n",
       "        vertical-align: top;\n",
       "    }\n",
       "\n",
       "    .dataframe thead th {\n",
       "        text-align: right;\n",
       "    }\n",
       "</style>\n",
       "<table border=\"1\" class=\"dataframe\">\n",
       "  <thead>\n",
       "    <tr style=\"text-align: right;\">\n",
       "      <th></th>\n",
       "      <th>Id</th>\n",
       "      <th>TotalSteps</th>\n",
       "      <th>Calories</th>\n",
       "      <th>VeryActiveMinutes</th>\n",
       "      <th>FairlyActiveMinutes</th>\n",
       "      <th>LightlyActiveMinutes</th>\n",
       "      <th>SedentaryMinutes</th>\n",
       "      <th>TotalMins</th>\n",
       "      <th>TotalHrs</th>\n",
       "    </tr>\n",
       "  </thead>\n",
       "  <tbody>\n",
       "    <tr>\n",
       "      <th>count</th>\n",
       "      <td>9.400000e+02</td>\n",
       "      <td>940.000000</td>\n",
       "      <td>940.000000</td>\n",
       "      <td>940.000000</td>\n",
       "      <td>940.000000</td>\n",
       "      <td>940.000000</td>\n",
       "      <td>940.000000</td>\n",
       "      <td>940.000000</td>\n",
       "      <td>940.000000</td>\n",
       "    </tr>\n",
       "    <tr>\n",
       "      <th>mean</th>\n",
       "      <td>4.855407e+09</td>\n",
       "      <td>7637.910638</td>\n",
       "      <td>2303.609574</td>\n",
       "      <td>21.164894</td>\n",
       "      <td>13.564894</td>\n",
       "      <td>192.812766</td>\n",
       "      <td>991.210638</td>\n",
       "      <td>1218.753191</td>\n",
       "      <td>20.312553</td>\n",
       "    </tr>\n",
       "    <tr>\n",
       "      <th>std</th>\n",
       "      <td>2.424805e+09</td>\n",
       "      <td>5087.150742</td>\n",
       "      <td>718.166862</td>\n",
       "      <td>32.844803</td>\n",
       "      <td>19.987404</td>\n",
       "      <td>109.174700</td>\n",
       "      <td>301.267437</td>\n",
       "      <td>265.931767</td>\n",
       "      <td>4.432196</td>\n",
       "    </tr>\n",
       "    <tr>\n",
       "      <th>min</th>\n",
       "      <td>1.503960e+09</td>\n",
       "      <td>0.000000</td>\n",
       "      <td>0.000000</td>\n",
       "      <td>0.000000</td>\n",
       "      <td>0.000000</td>\n",
       "      <td>0.000000</td>\n",
       "      <td>0.000000</td>\n",
       "      <td>2.000000</td>\n",
       "      <td>0.033333</td>\n",
       "    </tr>\n",
       "    <tr>\n",
       "      <th>25%</th>\n",
       "      <td>2.320127e+09</td>\n",
       "      <td>3789.750000</td>\n",
       "      <td>1828.500000</td>\n",
       "      <td>0.000000</td>\n",
       "      <td>0.000000</td>\n",
       "      <td>127.000000</td>\n",
       "      <td>729.750000</td>\n",
       "      <td>989.750000</td>\n",
       "      <td>16.495833</td>\n",
       "    </tr>\n",
       "    <tr>\n",
       "      <th>50%</th>\n",
       "      <td>4.445115e+09</td>\n",
       "      <td>7405.500000</td>\n",
       "      <td>2134.000000</td>\n",
       "      <td>4.000000</td>\n",
       "      <td>6.000000</td>\n",
       "      <td>199.000000</td>\n",
       "      <td>1057.500000</td>\n",
       "      <td>1440.000000</td>\n",
       "      <td>24.000000</td>\n",
       "    </tr>\n",
       "    <tr>\n",
       "      <th>75%</th>\n",
       "      <td>6.962181e+09</td>\n",
       "      <td>10727.000000</td>\n",
       "      <td>2793.250000</td>\n",
       "      <td>32.000000</td>\n",
       "      <td>19.000000</td>\n",
       "      <td>264.000000</td>\n",
       "      <td>1229.500000</td>\n",
       "      <td>1440.000000</td>\n",
       "      <td>24.000000</td>\n",
       "    </tr>\n",
       "    <tr>\n",
       "      <th>max</th>\n",
       "      <td>8.877689e+09</td>\n",
       "      <td>36019.000000</td>\n",
       "      <td>4900.000000</td>\n",
       "      <td>210.000000</td>\n",
       "      <td>143.000000</td>\n",
       "      <td>518.000000</td>\n",
       "      <td>1440.000000</td>\n",
       "      <td>1440.000000</td>\n",
       "      <td>24.000000</td>\n",
       "    </tr>\n",
       "  </tbody>\n",
       "</table>\n",
       "</div>"
      ],
      "text/plain": [
       "                 Id    TotalSteps     Calories  VeryActiveMinutes  \\\n",
       "count  9.400000e+02    940.000000   940.000000         940.000000   \n",
       "mean   4.855407e+09   7637.910638  2303.609574          21.164894   \n",
       "std    2.424805e+09   5087.150742   718.166862          32.844803   \n",
       "min    1.503960e+09      0.000000     0.000000           0.000000   \n",
       "25%    2.320127e+09   3789.750000  1828.500000           0.000000   \n",
       "50%    4.445115e+09   7405.500000  2134.000000           4.000000   \n",
       "75%    6.962181e+09  10727.000000  2793.250000          32.000000   \n",
       "max    8.877689e+09  36019.000000  4900.000000         210.000000   \n",
       "\n",
       "       FairlyActiveMinutes  LightlyActiveMinutes  SedentaryMinutes  \\\n",
       "count           940.000000            940.000000        940.000000   \n",
       "mean             13.564894            192.812766        991.210638   \n",
       "std              19.987404            109.174700        301.267437   \n",
       "min               0.000000              0.000000          0.000000   \n",
       "25%               0.000000            127.000000        729.750000   \n",
       "50%               6.000000            199.000000       1057.500000   \n",
       "75%              19.000000            264.000000       1229.500000   \n",
       "max             143.000000            518.000000       1440.000000   \n",
       "\n",
       "         TotalMins    TotalHrs  \n",
       "count   940.000000  940.000000  \n",
       "mean   1218.753191   20.312553  \n",
       "std     265.931767    4.432196  \n",
       "min       2.000000    0.033333  \n",
       "25%     989.750000   16.495833  \n",
       "50%    1440.000000   24.000000  \n",
       "75%    1440.000000   24.000000  \n",
       "max    1440.000000   24.000000  "
      ]
     },
     "execution_count": 12,
     "metadata": {},
     "output_type": "execute_result"
    }
   ],
   "source": [
    "df_activity.describe()"
   ]
  },
  {
   "cell_type": "markdown",
   "id": "49f51ee8",
   "metadata": {},
   "source": [
    "### Interprinting findings\n",
    "- The average total steps by the users is 7,638 steps which is not adequate. An average adult female has to aim at least 10,000 steps per day, according to Medical News Today article.\n",
    "- The average minutes for very active is 21.16, for fairly active is 13.56, for lightly active is 192.8 and for sedentary is 991.2. Sedentary users logins makes up for 81% of total average minutes."
   ]
  },
  {
   "cell_type": "markdown",
   "id": "a0f083b0",
   "metadata": {},
   "source": [
    "## 5. SHARE\n",
    "I will sharing insights using data visualization."
   ]
  },
  {
   "cell_type": "code",
   "execution_count": 13,
   "id": "9f0956dd",
   "metadata": {},
   "outputs": [
    {
     "data": {
      "text/plain": [
       "Tuesday      152\n",
       "Wednesday    150\n",
       "Thursday     147\n",
       "Friday       126\n",
       "Saturday     124\n",
       "Sunday       121\n",
       "Monday       120\n",
       "Name: Week_Day, dtype: int64"
      ]
     },
     "execution_count": 13,
     "metadata": {},
     "output_type": "execute_result"
    }
   ],
   "source": [
    "df_activity[\"Week_Day\"].value_counts()"
   ]
  },
  {
   "cell_type": "code",
   "execution_count": 14,
   "id": "f7665523",
   "metadata": {},
   "outputs": [
    {
     "data": {
      "text/plain": [
       "Text(0, 0.5, 'Frequency')"
      ]
     },
     "execution_count": 14,
     "metadata": {},
     "output_type": "execute_result"
    },
    {
     "data": {
      "image/png": "[encoded data removed]",
      "text/plain": [
       "<Figure size 432x288 with 1 Axes>"
      ]
     },
     "metadata": {
      "needs_background": "light"
     },
     "output_type": "display_data"
    }
   ],
   "source": [
    "lables = [\"Tuesday\", \"Wednesday\", \"Thursday\", \"Friday\", \"Saturday\", \"Sunday\", \"Monday\"]\n",
    "plt.bar(lables, df_activity[\"Week_Day\"].value_counts(), color = 'g')\n",
    "plt.title(\"Total Logins Across the Week\")\n",
    "plt.xlabel(\"Week day\")\n",
    "plt.ylabel(\"Frequency\")"
   ]
  },
  {
   "cell_type": "markdown",
   "id": "79963467",
   "metadata": {},
   "source": [
    "The bar chart shows that there are more logins during the midweek than weekends. This could be as a result of a number of reasons."
   ]
  },
  {
   "cell_type": "code",
   "execution_count": 15,
   "id": "41a394e2",
   "metadata": {},
   "outputs": [
    {
     "data": {
      "text/plain": [
       "(0.0, 5169.1851067681755)"
      ]
     },
     "execution_count": 15,
     "metadata": {},
     "output_type": "execute_result"
    },
    {
     "data": {
      "image/png": "[encoded data removed]",
      "text/plain": [
       "<Figure size 1080x648 with 1 Axes>"
      ]
     },
     "metadata": {
      "needs_background": "light"
     },
     "output_type": "display_data"
    }
   ],
   "source": [
    "width = 15\n",
    "height = 9\n",
    "plt.figure(figsize=(width, height))\n",
    "sns.regplot(x=\"TotalSteps\", y=\"Calories\", data=df_activity).set(title=\"Total Steps vs. Calories\")\n",
    "plt.ylim(0,)"
   ]
  },
  {
   "cell_type": "markdown",
   "id": "1a103c48",
   "metadata": {},
   "source": [
    "There is a positive correlation between total steps taken & calories burned. The more steps taken, the more calories burned."
   ]
  },
  {
   "cell_type": "code",
   "execution_count": 16,
   "id": "19b3a236",
   "metadata": {},
   "outputs": [
    {
     "data": {
      "text/plain": [
       "(0.0, 5145.0)"
      ]
     },
     "execution_count": 16,
     "metadata": {},
     "output_type": "execute_result"
    },
    {
     "data": {
      "image/png": "[encoded data removed]",
      "text/plain": [
       "<Figure size 1080x648 with 1 Axes>"
      ]
     },
     "metadata": {
      "needs_background": "light"
     },
     "output_type": "display_data"
    }
   ],
   "source": [
    "plt.figure(figsize=(width, height))\n",
    "sns.regplot(x=\"TotalHrs\", y=\"Calories\", data=df_activity).set(title=\"Calories burned for every Hour logged\")\n",
    "plt.ylim(0,)"
   ]
  },
  {
   "cell_type": "markdown",
   "id": "15bfb56a",
   "metadata": {},
   "source": [
    "There is a weak positive correlation between hours logged and calories burned whereby the increase in the hours logged in does not translate to more calories being burned."
   ]
  },
  {
   "cell_type": "code",
   "execution_count": 17,
   "id": "35293b60",
   "metadata": {},
   "outputs": [
    {
     "data": {
      "text/plain": [
       "([<matplotlib.patches.Wedge at 0x7fb528be81c0>,\n",
       "  <matplotlib.patches.Wedge at 0x7fb528be8700>,\n",
       "  <matplotlib.patches.Wedge at 0x7fb528be8be0>,\n",
       "  <matplotlib.patches.Wedge at 0x7fb528be8fa0>],\n",
       " [Text(1.1482889588283527, 0.06270938552479553, 'VeryActive'),\n",
       "  Text(1.138084135540098, 0.16511965489289152, 'FairlyActive'),\n",
       "  Text(0.8970492324857939, 0.7195850710629341, 'LightlyActive'),\n",
       "  Text(-0.957790663316138, -0.6365037668894287, 'Sedentary')])"
      ]
     },
     "execution_count": 17,
     "metadata": {},
     "output_type": "execute_result"
    },
    {
     "data": {
      "image/png": "[encoded data removed]",
      "text/plain": [
       "<Figure size 504x504 with 1 Axes>"
      ]
     },
     "metadata": {},
     "output_type": "display_data"
    }
   ],
   "source": [
    "VeryActiveMin = df_activity[\"VeryActiveMinutes\"].sum()\n",
    "FairlyActiveMin = df_activity[\"FairlyActiveMinutes\"].sum()\n",
    "LightlyActiveMin = df_activity[\"LightlyActiveMinutes\"].sum()\n",
    "SedentaryMin = df_activity[\"SedentaryMinutes\"].sum()\n",
    "TotalMin = VeryActiveMin + FairlyActiveMin + LightlyActiveMin + SedentaryMin\n",
    "\n",
    "width = 7\n",
    "height = 7\n",
    "plt.figure(figsize=(width, height))\n",
    "slices = [VeryActiveMin, FairlyActiveMin, LightlyActiveMin, SedentaryMin]\n",
    "lbls = [\"VeryActive\", \"FairlyActive\", \"LightlyActive\", \"Sedentary\"]\n",
    "colors = ['#4F6272', '#B7C3F3', '#DD7596', '#8EB897']\n",
    "plt.pie((slices/sum(slices)*100), labels=lbls, labeldistance=1.15, wedgeprops = { 'linewidth' : 1, 'edgecolor' : 'white' }, colors=colors)"
   ]
  },
  {
   "cell_type": "markdown",
   "id": "08504801",
   "metadata": {},
   "source": [
    "Percentage of Active Minutes\n",
    "\n",
    "From the pie chart, it is very clear that the users are not active enough, as 81.3% of the activity time for the entire month was sedentary for the average user. The app is rerely been used to track fitness (i.e exercises) as per the minor percentage of fairly active active activity (1.1%) and very active activity (1.7%). For a fitness tracking app, this is not good to see."
   ]
  },
  {
   "cell_type": "markdown",
   "id": "7fd36a01",
   "metadata": {},
   "source": [
    "## 6. ACT\n",
    "### Trends Identified.\n",
    "- Users mostly use the FitBit app to track sedentary activities (81.3%) and not using it for tracking their health habits. better put, it can be said that users are not usually active.\n",
    "- Users tend to track their activities more during weekdays compared to weekends.\n",
    "- On average, the total staps per day for the users was 7,638, which is almost 2,500 steps below the suggested minimum total total steps per day."
   ]
  },
  {
   "cell_type": "markdown",
   "id": "354234d1",
   "metadata": {},
   "source": [
    "### How could this trends apply to Bellabeat customers?\n",
    "The trends found from the FitBit data can very well be applied to Bellabeat customers because just like FitBit, Bellabeat company develops products focused on providing women with their health and fitness data to help them keep track of their habits and make healthier decisions."
   ]
  },
  {
   "cell_type": "markdown",
   "id": "852b1764",
   "metadata": {},
   "source": [
    "### Recommendations.\n",
    "- Bellabeat marketing team can encourage users by educating and equipping them with knowledge about fitness benefits on the bellabeat app.\n",
    "- Bellabeat could offer incentives for consistent tracking, they could organise in-app competitions between users and offer them points.\n",
    "- Since users rarely login on weekdays, Bellabeat app can prompt notification to encourage and remind users to exercise.\n",
    "- Bellabeat app should have a BMR or TDEE calculator built in, this will help to obtain more data such as sex, age, weight, height, e.t.c for more detailed and accurate analysis."
   ]
  },
  {
   "cell_type": "markdown",
   "id": "3e7b82b7",
   "metadata": {},
   "source": [
    "<b>Thank you</b> for your interest to my Data Analytics Project!"
   ]
  }
 ],
 "metadata": {
  "kernelspec": {
   "display_name": "Python 3 (ipykernel)",
   "language": "python",
   "name": "python3"
  },
  "language_info": {
   "codemirror_mode": {
    "name": "ipython",
    "version": 3
   },
   "file_extension": ".py",
   "mimetype": "text/x-python",
   "name": "python",
   "nbconvert_exporter": "python",
   "pygments_lexer": "ipython3",
   "version": "3.9.7"
  }
 },
 "nbformat": 4,
 "nbformat_minor": 5
}
