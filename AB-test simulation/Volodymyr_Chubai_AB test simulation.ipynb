{
 "cells": [
  {
   "cell_type": "markdown",
   "id": "b04ab539",
   "metadata": {},
   "source": [
    "<h1>Симуляция A/B теста</h1>"
   ]
  },
  {
   "cell_type": "markdown",
   "id": "7b188ce5",
   "metadata": {},
   "source": [
    "<h3>VOLODYMYR CHUBAI</h3>\n",
    "https://www.linkedin.com/in/volodymyr-chubai/"
   ]
  },
  {
   "cell_type": "markdown",
   "id": "b8d86dee",
   "metadata": {},
   "source": [
    "## Сценарий проекта\n",
    "Я Junior Data Analyst, работаю в команде аналитиков данных. Продуктовый менеджер сформировал гипотезу, что новая версия экрана продаж будет лучше перформить по сравнению со старой, в связи с тем, что на новом экране продаж более понятно описаны преимущества платной версии приложения.\n",
    "\n",
    "Продуктовый менеджер ожидает увеличение уровня конверсии из установки в покупку платной версии приложения. Приложение тем временем уже очень активно продвигается на рынке, каждый день привлекается в среднем по 30 000 новых пользователей, текущий уровень конверсии из установки в покупку 5%. Моя задача заключаеться в том, чтобы предложыить способ проверки данной гипотезы и указать какие инструменты и тесты нужно использовать в процессе проверки."
   ]
  },
  {
   "cell_type": "markdown",
   "id": "826fbe4f",
   "metadata": {},
   "source": [
    "## PROCESS\n",
    "### Подготовка рабочей среды\n",
    "Я буду использовать Python для проверки данной гипотезы. Установлены следующие библиотеки:"
   ]
  },
  {
   "cell_type": "code",
   "execution_count": 2,
   "id": "831257e1",
   "metadata": {},
   "outputs": [],
   "source": [
    "import numpy as np\n",
    "import pandas as pd"
   ]
  },
  {
   "cell_type": "markdown",
   "id": "f100cc2c",
   "metadata": {},
   "source": [
    "## ANALYSE"
   ]
  },
  {
   "cell_type": "markdown",
   "id": "0e970100",
   "metadata": {},
   "source": [
    "Я бы предложил провести A/B тест, где группе А будет показыватся старая версия экрана пронаж, а группе B - новая версия.\n",
    "\n",
    "Цель планируемого A/B-теста: повысить Conversion Rate из установок в покупку платной версии приложения.\n",
    "\n",
    "Вероятно, тестируемая функциональность повлияет не на одну целевую, а на ряд метрик. Поэтому мы смотрим на изменение в целом. Отслежывать будем всю воронку: просмотр - клик - установка - покупка. \n",
    "\n",
    "Формулируем гипотезу: \"Ожидаем, что изменение старой версии экрана продаж вызовет рост Conversion Rate из установок в покупку с 5% до 8%, то есть на 60%\"\n",
    "\n",
    "Статистические методы работают от обратного - мы не можем с их помощью доказать, что гипотеза верна. Поэтому после формулирования общей гипотезы определяем две статистические. Они помогут понять: наблюдаемая разница между контрольной группой и тестовой - это случайность или результат изменений.\n",
    "\n",
    "Нулевая гипотеза (H0): изменение старой версии экрана продаж на новую версию не повлияет на уровень конверсии из установок в покупку платной версии приложения. Conversion Rate из установок в покупку для групп A и B на самом деле не отличается, и наблюдаемые различия случайны.\n",
    "Альтернативная гипотеза (H1): изменение старой версии экрана продаж увеличит уровень конверсии из установок в покупку. Conversion Rate из установок в покупку платной версии приложения в группе B выше, чем в группе A, и эти различия - результат изменений.\n",
    "\n",
    "Используя калькулятор Эвана Миллера расчитываем размер выборки. Текущий уровень конверсии из установки в покупку составляет 5%, мы хотим увеличить этот показатель минимум на 60%. При уровне доверия 95% получаем 894 пользователей на группу.\n",
    "\n",
    "894 * 2 = 1788 - общее количество необходимых пользователей\n",
    "\n",
    "1788 / 30000 = 0,06 - примерной количество дней эксперимента\n",
    "\n",
    "При том же обьеме трафика в 30000 пользователей, тест грубо говоря, можно закончить менее чем за день. Но этот вывод не учитывает недельную сезонность. Поведение пользователей отличается в разные дни недели. Поэтому длительность теста мы округляем до недели, чтобы учесть сезонность.\n",
    "\n",
    "Также важно после запуска A/B-теста учитывать проблему подгядывания.\n",
    "Кроме того, чтобы не сомневаться в достоверности результатов можно проводить тест с контрольной выборкой. Для этого нужно разделить аудиторию не на две групы (A/B), а на три (A/A/B). Это выявит, повлияли ли внешние факторы на результат теста. Если показатели групп A и A не отличаются или совсем немного, то внешние факторы не повлияли на результат и данным можно доверять."
   ]
  },
  {
   "cell_type": "markdown",
   "id": "b8b4d63e",
   "metadata": {},
   "source": [
    "### Симулируем тест моделируя ситуацию с минимальным эффектом"
   ]
  },
  {
   "cell_type": "code",
   "execution_count": 3,
   "id": "283d86b1",
   "metadata": {},
   "outputs": [],
   "source": [
    "mde = 0.03          # минимальный обнаруживаемый эффект\n",
    "baseline = 0.05     # базовый коэффициент конверсии\n",
    "sample_size = 894   # размер выборки"
   ]
  },
  {
   "cell_type": "code",
   "execution_count": 4,
   "id": "7d33b47b",
   "metadata": {},
   "outputs": [
    {
     "data": {
      "text/plain": [
       "0.05592841163310962"
      ]
     },
     "execution_count": 4,
     "metadata": {},
     "output_type": "execute_result"
    }
   ],
   "source": [
    "# генерируем 0 и 1, 1 будет генерироватся с вероятностю 5%\n",
    "np.random.binomial(1,baseline,size=sample_size).mean()"
   ]
  },
  {
   "cell_type": "code",
   "execution_count": 5,
   "id": "7553aa0c",
   "metadata": {},
   "outputs": [
    {
     "data": {
      "text/plain": [
       "0.08501118568232663"
      ]
     },
     "execution_count": 5,
     "metadata": {},
     "output_type": "execute_result"
    }
   ],
   "source": [
    "# моделируем распределение где присутствует минимальный эффект\n",
    "np.random.binomial(1,baseline + mde,size=sample_size).mean()"
   ]
  },
  {
   "cell_type": "markdown",
   "id": "65eed0d1",
   "metadata": {},
   "source": [
    "### Z test\n",
    "H0: разницы между группами нет"
   ]
  },
  {
   "cell_type": "code",
   "execution_count": 6,
   "id": "cb944ff6",
   "metadata": {},
   "outputs": [],
   "source": [
    "# https://www.statsmodels.org/dev/generated/statsmodels.stats.proportion.proportions_ztest.html\n",
    "from statsmodels.stats.proportion import proportions_ztest"
   ]
  },
  {
   "cell_type": "code",
   "execution_count": 7,
   "id": "aee8c48d",
   "metadata": {},
   "outputs": [
    {
     "data": {
      "text/plain": [
       "(-3.4017717807318966, 0.0006695052147475898)"
      ]
     },
     "execution_count": 7,
     "metadata": {},
     "output_type": "execute_result"
    }
   ],
   "source": [
    "a = np.random.binomial(1,baseline,size=sample_size)\n",
    "b = np.random.binomial(1,baseline + mde,size=sample_size)\n",
    "proportions_ztest([a.sum(), b.sum()], [len(a), len(b)],)\n",
    "# второе значение - p-value"
   ]
  },
  {
   "cell_type": "markdown",
   "id": "f07c5a18",
   "metadata": {},
   "source": [
    "Минимальные эффект есть, поэтому можно отклонить нулевую гипотезу на основе p-value"
   ]
  },
  {
   "cell_type": "code",
   "execution_count": 8,
   "id": "654af577",
   "metadata": {},
   "outputs": [],
   "source": [
    "from tqdm.notebook import tqdm"
   ]
  },
  {
   "cell_type": "code",
   "execution_count": 9,
   "id": "73d6c05f",
   "metadata": {},
   "outputs": [
    {
     "data": {
      "application/vnd.jupyter.widget-view+json": {
       "model_id": "e4749869aac04be6bb46e4c82bbd4b5b",
       "version_major": 2,
       "version_minor": 0
      },
      "text/plain": [
       "  0%|          | 0/100000 [00:00<?, ?it/s]"
      ]
     },
     "metadata": {},
     "output_type": "display_data"
    }
   ],
   "source": [
    "result = []\n",
    "for _ in tqdm(range(100000)):\n",
    "    a = np.random.binomial(1,baseline,size=sample_size)\n",
    "    b = np.random.binomial(1,baseline + mde,size=sample_size)\n",
    "    _, pval = proportions_ztest([a.sum(), b.sum()], [len(a), len(b)],)\n",
    "    result.append(pval)"
   ]
  },
  {
   "cell_type": "code",
   "execution_count": 10,
   "id": "067fff54",
   "metadata": {},
   "outputs": [],
   "source": [
    "t = pd.Series(result)\n",
    "# распределение p-value"
   ]
  },
  {
   "cell_type": "code",
   "execution_count": 11,
   "id": "52ce2ff8",
   "metadata": {},
   "outputs": [
    {
     "data": {
      "text/plain": [
       "<AxesSubplot:>"
      ]
     },
     "execution_count": 11,
     "metadata": {},
     "output_type": "execute_result"
    },
    {
     "data": {
      "image/png": "[encoded data removed]",
      "text/plain": [
       "<Figure size 432x288 with 1 Axes>"
      ]
     },
     "metadata": {
      "needs_background": "light"
     },
     "output_type": "display_data"
    }
   ],
   "source": [
    "t.hist()\n",
    "# в основном, p-value ближе к 0"
   ]
  },
  {
   "cell_type": "code",
   "execution_count": 12,
   "id": "baaafad8",
   "metadata": {},
   "outputs": [
    {
     "data": {
      "text/plain": [
       "0.73423"
      ]
     },
     "execution_count": 12,
     "metadata": {},
     "output_type": "execute_result"
    }
   ],
   "source": [
    "(t < 0.05).mean()\n",
    "# мощность - процент уверенности в том, что результаты теста верны"
   ]
  },
  {
   "cell_type": "markdown",
   "id": "6e1ef7af",
   "metadata": {},
   "source": [
    "### T test"
   ]
  },
  {
   "cell_type": "code",
   "execution_count": 13,
   "id": "41b42d0e",
   "metadata": {},
   "outputs": [],
   "source": [
    "# https://docs.scipy.org/doc/scipy/reference/generated/scipy.stats.ttest_ind.html\n",
    "from scipy.stats import ttest_ind"
   ]
  },
  {
   "cell_type": "code",
   "execution_count": 14,
   "id": "6ee74506",
   "metadata": {},
   "outputs": [
    {
     "data": {
      "application/vnd.jupyter.widget-view+json": {
       "model_id": "a3821a1427ef466aa16c79c86f5045d7",
       "version_major": 2,
       "version_minor": 0
      },
      "text/plain": [
       "  0%|          | 0/100000 [00:00<?, ?it/s]"
      ]
     },
     "metadata": {},
     "output_type": "display_data"
    }
   ],
   "source": [
    "result = []\n",
    "for _ in tqdm(range(100000)):\n",
    "    a = np.random.binomial(1,baseline,size=sample_size)\n",
    "    b = np.random.binomial(1,baseline + mde,size=sample_size)\n",
    "    _, pval = ttest_ind(a,b,equal_var=False)\n",
    "    result.append(pval)"
   ]
  },
  {
   "cell_type": "code",
   "execution_count": 15,
   "id": "ef5d4131",
   "metadata": {},
   "outputs": [],
   "source": [
    "t = pd.Series(result)"
   ]
  },
  {
   "cell_type": "code",
   "execution_count": 16,
   "id": "e0a85672",
   "metadata": {},
   "outputs": [
    {
     "data": {
      "text/plain": [
       "0.73559"
      ]
     },
     "execution_count": 16,
     "metadata": {},
     "output_type": "execute_result"
    }
   ],
   "source": [
    "(t < 0.05).mean()\n",
    "# примерно такая же мощность как в z test"
   ]
  }
 ],
 "metadata": {
  "kernelspec": {
   "display_name": "Python 3 (ipykernel)",
   "language": "python",
   "name": "python3"
  },
  "language_info": {
   "codemirror_mode": {
    "name": "ipython",
    "version": 3
   },
   "file_extension": ".py",
   "mimetype": "text/x-python",
   "name": "python",
   "nbconvert_exporter": "python",
   "pygments_lexer": "ipython3",
   "version": "3.9.7"
  }
 },
 "nbformat": 4,
 "nbformat_minor": 5
}
