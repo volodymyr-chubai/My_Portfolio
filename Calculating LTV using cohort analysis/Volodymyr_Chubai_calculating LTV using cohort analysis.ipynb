{
 "cells": [
  {
   "cell_type": "markdown",
   "id": "3e628d14",
   "metadata": {},
   "source": [
    "<h1>Расчет LTV с помощью Когортного Анализа</h1>"
   ]
  },
  {
   "cell_type": "markdown",
   "id": "e045e19b",
   "metadata": {},
   "source": [
    "<h3>VOLODYMYR CHUBAI</h3>\n",
    "https://www.linkedin.com/in/volodymyr-chubai/"
   ]
  },
  {
   "cell_type": "markdown",
   "id": "ca57bfd5",
   "metadata": {},
   "source": [
    "## Сценарий проекта\n",
    "Я Junior Data Analyst, работаю в команде аналитиков данных. Приложение - мобильная утилита для сканирования документов. Модель монетизации подписочная, есть пробный период 7 дней с дальнейшим переходом в оплату 4.99 USD в неделю. Есть выгрузка с базы данных по оформлениям подписок и оплат. Каждая строка представляет собой отдельное событие (либо оформление пробной подписки, либо оплата после завершения пробного периода)."
   ]
  },
  {
   "cell_type": "markdown",
   "id": "ed425fb4",
   "metadata": {},
   "source": [
    "## 1. ASK\n",
    "Моя задача заключаэться в том, чтобы рассчитать текущий LTV юзера, используя когортный анализ (cohorting event - оформление пробного периода, когорта представляет собой кол-во возможных операций)."
   ]
  },
  {
   "cell_type": "markdown",
   "id": "f605542e",
   "metadata": {},
   "source": [
    "## 2. PREPARE\n",
    "### Источник данных\n",
    "Используемые данные были взяты из следующего набора данных: [test case data analyst](https://drive.google.com/file/d/1L8843A80r50_e-hU79XV_ssAfzgQVUDP/view) \n",
    "\n",
    "Данные доступны по ссылке и хранятся в 1 XLSX-файле."
   ]
  },
  {
   "cell_type": "markdown",
   "id": "6782a554",
   "metadata": {},
   "source": [
    "### Собранные данные включают\n",
    "`Product ID` - Идентификатор продукта (название подписки).\n",
    "\n",
    "`Quantity` - количество, сколько подписок было оформлено.\n",
    "\n",
    "`Is Trial Period` - Строка представляет собой отдельное событие, либо оформление пробной подписки: 'True', либо оплата после завершения пробного периода: 'False'.\n",
    "\n",
    "`Purchase Date` - Дата оформления подписки (дата покупки).\n",
    "\n",
    "`User ID` - Уникальный идентификатор пользователя."
   ]
  },
  {
   "cell_type": "markdown",
   "id": "ea401f8f",
   "metadata": {},
   "source": [
    "## 3. PROCESS\n",
    "### Подготовка рабочей среды\n",
    "Я буду использовать Python для очистки, преобразования и визуализации данных. Установлены следующие библиотеки:"
   ]
  },
  {
   "cell_type": "code",
   "execution_count": 2,
   "id": "831257e1",
   "metadata": {},
   "outputs": [],
   "source": [
    "import pandas as pd\n",
    "import numpy as np\n",
    "import matplotlib.pyplot as plt\n",
    "import math"
   ]
  },
  {
   "cell_type": "markdown",
   "id": "35894f7f",
   "metadata": {},
   "source": [
    "### Импорт наборов данных"
   ]
  },
  {
   "cell_type": "code",
   "execution_count": 3,
   "id": "d723e151",
   "metadata": {},
   "outputs": [],
   "source": [
    "df = pd.read_excel('/Users/volodymyrchubay/Desktop/test case data analyst.xlsx')"
   ]
  },
  {
   "cell_type": "markdown",
   "id": "02bda967",
   "metadata": {},
   "source": [
    "### Просмотр данных"
   ]
  },
  {
   "cell_type": "code",
   "execution_count": 4,
   "id": "dfb085a0",
   "metadata": {},
   "outputs": [
    {
     "data": {
      "text/html": [
       "<div>\n",
       "<style scoped>\n",
       "    .dataframe tbody tr th:only-of-type {\n",
       "        vertical-align: middle;\n",
       "    }\n",
       "\n",
       "    .dataframe tbody tr th {\n",
       "        vertical-align: top;\n",
       "    }\n",
       "\n",
       "    .dataframe thead th {\n",
       "        text-align: right;\n",
       "    }\n",
       "</style>\n",
       "<table border=\"1\" class=\"dataframe\">\n",
       "  <thead>\n",
       "    <tr style=\"text-align: right;\">\n",
       "      <th></th>\n",
       "      <th>product_id</th>\n",
       "      <th>quantity</th>\n",
       "      <th>is_trial_period</th>\n",
       "      <th>purchase_date</th>\n",
       "      <th>user_id</th>\n",
       "    </tr>\n",
       "  </thead>\n",
       "  <tbody>\n",
       "    <tr>\n",
       "      <th>0</th>\n",
       "      <td>1week_4.99_USD_subscription_7days_trial</td>\n",
       "      <td>1</td>\n",
       "      <td>False</td>\n",
       "      <td>2020-02-19</td>\n",
       "      <td>9484222</td>\n",
       "    </tr>\n",
       "    <tr>\n",
       "      <th>1</th>\n",
       "      <td>1week_4.99_USD_subscription_7days_trial</td>\n",
       "      <td>1</td>\n",
       "      <td>False</td>\n",
       "      <td>2020-02-17</td>\n",
       "      <td>9422402</td>\n",
       "    </tr>\n",
       "    <tr>\n",
       "      <th>2</th>\n",
       "      <td>1week_4.99_USD_subscription_7days_trial</td>\n",
       "      <td>1</td>\n",
       "      <td>False</td>\n",
       "      <td>2020-02-18</td>\n",
       "      <td>4997991</td>\n",
       "    </tr>\n",
       "  </tbody>\n",
       "</table>\n",
       "</div>"
      ],
      "text/plain": [
       "                                product_id  quantity  is_trial_period  \\\n",
       "0  1week_4.99_USD_subscription_7days_trial         1            False   \n",
       "1  1week_4.99_USD_subscription_7days_trial         1            False   \n",
       "2  1week_4.99_USD_subscription_7days_trial         1            False   \n",
       "\n",
       "  purchase_date  user_id  \n",
       "0    2020-02-19  9484222  \n",
       "1    2020-02-17  9422402  \n",
       "2    2020-02-18  4997991  "
      ]
     },
     "execution_count": 4,
     "metadata": {},
     "output_type": "execute_result"
    }
   ],
   "source": [
    "df.head(3)"
   ]
  },
  {
   "cell_type": "markdown",
   "id": "bfed7589",
   "metadata": {},
   "source": [
    "### Проверка данных"
   ]
  },
  {
   "cell_type": "code",
   "execution_count": 5,
   "id": "1102984a",
   "metadata": {},
   "outputs": [
    {
     "data": {
      "text/plain": [
       "(114200, 5)"
      ]
     },
     "execution_count": 5,
     "metadata": {},
     "output_type": "execute_result"
    }
   ],
   "source": [
    "df.shape"
   ]
  },
  {
   "cell_type": "code",
   "execution_count": 6,
   "id": "6b5d0d5a",
   "metadata": {},
   "outputs": [
    {
     "data": {
      "text/html": [
       "<div>\n",
       "<style scoped>\n",
       "    .dataframe tbody tr th:only-of-type {\n",
       "        vertical-align: middle;\n",
       "    }\n",
       "\n",
       "    .dataframe tbody tr th {\n",
       "        vertical-align: top;\n",
       "    }\n",
       "\n",
       "    .dataframe thead th {\n",
       "        text-align: right;\n",
       "    }\n",
       "</style>\n",
       "<table border=\"1\" class=\"dataframe\">\n",
       "  <thead>\n",
       "    <tr style=\"text-align: right;\">\n",
       "      <th></th>\n",
       "      <th>product_id</th>\n",
       "      <th>quantity</th>\n",
       "      <th>is_trial_period</th>\n",
       "      <th>purchase_date</th>\n",
       "      <th>user_id</th>\n",
       "    </tr>\n",
       "  </thead>\n",
       "  <tbody>\n",
       "    <tr>\n",
       "      <th>114195</th>\n",
       "      <td>1week_4.99_USD_subscription_7days_trial</td>\n",
       "      <td>1</td>\n",
       "      <td>True</td>\n",
       "      <td>2020-01-04</td>\n",
       "      <td>8291100</td>\n",
       "    </tr>\n",
       "    <tr>\n",
       "      <th>114196</th>\n",
       "      <td>1week_4.99_USD_subscription_7days_trial</td>\n",
       "      <td>1</td>\n",
       "      <td>True</td>\n",
       "      <td>2020-01-02</td>\n",
       "      <td>8236936</td>\n",
       "    </tr>\n",
       "    <tr>\n",
       "      <th>114197</th>\n",
       "      <td>1week_4.99_USD_subscription_7days_trial</td>\n",
       "      <td>1</td>\n",
       "      <td>True</td>\n",
       "      <td>2020-01-03</td>\n",
       "      <td>8247910</td>\n",
       "    </tr>\n",
       "    <tr>\n",
       "      <th>114198</th>\n",
       "      <td>1week_4.99_USD_subscription_7days_trial</td>\n",
       "      <td>1</td>\n",
       "      <td>True</td>\n",
       "      <td>2020-01-04</td>\n",
       "      <td>8294146</td>\n",
       "    </tr>\n",
       "    <tr>\n",
       "      <th>114199</th>\n",
       "      <td>1week_4.99_USD_subscription_7days_trial</td>\n",
       "      <td>1</td>\n",
       "      <td>True</td>\n",
       "      <td>2020-01-03</td>\n",
       "      <td>8274954</td>\n",
       "    </tr>\n",
       "  </tbody>\n",
       "</table>\n",
       "</div>"
      ],
      "text/plain": [
       "                                     product_id  quantity  is_trial_period  \\\n",
       "114195  1week_4.99_USD_subscription_7days_trial         1             True   \n",
       "114196  1week_4.99_USD_subscription_7days_trial         1             True   \n",
       "114197  1week_4.99_USD_subscription_7days_trial         1             True   \n",
       "114198  1week_4.99_USD_subscription_7days_trial         1             True   \n",
       "114199  1week_4.99_USD_subscription_7days_trial         1             True   \n",
       "\n",
       "       purchase_date  user_id  \n",
       "114195    2020-01-04  8291100  \n",
       "114196    2020-01-02  8236936  \n",
       "114197    2020-01-03  8247910  \n",
       "114198    2020-01-04  8294146  \n",
       "114199    2020-01-03  8274954  "
      ]
     },
     "execution_count": 6,
     "metadata": {},
     "output_type": "execute_result"
    }
   ],
   "source": [
    "df.tail()"
   ]
  },
  {
   "cell_type": "code",
   "execution_count": 7,
   "id": "76f71d88",
   "metadata": {},
   "outputs": [
    {
     "name": "stdout",
     "output_type": "stream",
     "text": [
      "<class 'pandas.core.frame.DataFrame'>\n",
      "RangeIndex: 114200 entries, 0 to 114199\n",
      "Data columns (total 5 columns):\n",
      " #   Column           Non-Null Count   Dtype         \n",
      "---  ------           --------------   -----         \n",
      " 0   product_id       114200 non-null  object        \n",
      " 1   quantity         114200 non-null  int64         \n",
      " 2   is_trial_period  114200 non-null  bool          \n",
      " 3   purchase_date    114200 non-null  datetime64[ns]\n",
      " 4   user_id          114200 non-null  int64         \n",
      "dtypes: bool(1), datetime64[ns](1), int64(2), object(1)\n",
      "memory usage: 3.6+ MB\n"
     ]
    }
   ],
   "source": [
    "df.info()"
   ]
  },
  {
   "cell_type": "code",
   "execution_count": 8,
   "id": "225b2ec1",
   "metadata": {},
   "outputs": [
    {
     "data": {
      "text/plain": [
       "Index(['product_id', 'quantity', 'is_trial_period', 'purchase_date',\n",
       "       'user_id'],\n",
       "      dtype='object')"
      ]
     },
     "execution_count": 8,
     "metadata": {},
     "output_type": "execute_result"
    }
   ],
   "source": [
    "df.columns"
   ]
  },
  {
   "cell_type": "markdown",
   "id": "66ac45aa",
   "metadata": {},
   "source": [
    "### Очистка данных\n",
    "Поиск нулевых значений"
   ]
  },
  {
   "cell_type": "code",
   "execution_count": 9,
   "id": "242b62f8",
   "metadata": {},
   "outputs": [
    {
     "data": {
      "text/plain": [
       "product_id         0\n",
       "quantity           0\n",
       "is_trial_period    0\n",
       "purchase_date      0\n",
       "user_id            0\n",
       "dtype: int64"
      ]
     },
     "execution_count": 9,
     "metadata": {},
     "output_type": "execute_result"
    }
   ],
   "source": [
    "# количество отсутствующих данных в каждом столбце\n",
    "df.isnull().sum()"
   ]
  },
  {
   "cell_type": "markdown",
   "id": "b85471bd",
   "metadata": {},
   "source": [
    "#### Поиск и удаление дубликатов"
   ]
  },
  {
   "cell_type": "code",
   "execution_count": 10,
   "id": "100671df",
   "metadata": {},
   "outputs": [],
   "source": [
    "dup_rows = df[df.duplicated()]\n",
    "dup_rows = dup_rows.query('is_trial_period ==  True').sort_values(['user_id'], ascending=False)"
   ]
  },
  {
   "cell_type": "code",
   "execution_count": 11,
   "id": "fdc8d767",
   "metadata": {},
   "outputs": [],
   "source": [
    "df = df.drop_duplicates(keep='first')\n",
    "# df.to_excel(r'/Users/volodymyrchubay/Desktop/df_no_dup.xlsx', index=False)"
   ]
  },
  {
   "cell_type": "code",
   "execution_count": 12,
   "id": "501581a7",
   "metadata": {},
   "outputs": [
    {
     "data": {
      "text/html": [
       "<div>\n",
       "<style scoped>\n",
       "    .dataframe tbody tr th:only-of-type {\n",
       "        vertical-align: middle;\n",
       "    }\n",
       "\n",
       "    .dataframe tbody tr th {\n",
       "        vertical-align: top;\n",
       "    }\n",
       "\n",
       "    .dataframe thead th {\n",
       "        text-align: right;\n",
       "    }\n",
       "</style>\n",
       "<table border=\"1\" class=\"dataframe\">\n",
       "  <thead>\n",
       "    <tr style=\"text-align: right;\">\n",
       "      <th></th>\n",
       "      <th>product_id</th>\n",
       "      <th>quantity</th>\n",
       "      <th>is_trial_period</th>\n",
       "      <th>purchase_date</th>\n",
       "      <th>user_id</th>\n",
       "      <th>purchase_amount</th>\n",
       "    </tr>\n",
       "  </thead>\n",
       "  <tbody>\n",
       "    <tr>\n",
       "      <th>0</th>\n",
       "      <td>1week_4.99_USD_subscription_7days_trial</td>\n",
       "      <td>1</td>\n",
       "      <td>False</td>\n",
       "      <td>2020-02-19</td>\n",
       "      <td>9484222</td>\n",
       "      <td>4.99</td>\n",
       "    </tr>\n",
       "    <tr>\n",
       "      <th>1</th>\n",
       "      <td>1week_4.99_USD_subscription_7days_trial</td>\n",
       "      <td>1</td>\n",
       "      <td>False</td>\n",
       "      <td>2020-02-17</td>\n",
       "      <td>9422402</td>\n",
       "      <td>4.99</td>\n",
       "    </tr>\n",
       "    <tr>\n",
       "      <th>2</th>\n",
       "      <td>1week_4.99_USD_subscription_7days_trial</td>\n",
       "      <td>1</td>\n",
       "      <td>False</td>\n",
       "      <td>2020-02-18</td>\n",
       "      <td>4997991</td>\n",
       "      <td>4.99</td>\n",
       "    </tr>\n",
       "  </tbody>\n",
       "</table>\n",
       "</div>"
      ],
      "text/plain": [
       "                                product_id  quantity  is_trial_period  \\\n",
       "0  1week_4.99_USD_subscription_7days_trial         1            False   \n",
       "1  1week_4.99_USD_subscription_7days_trial         1            False   \n",
       "2  1week_4.99_USD_subscription_7days_trial         1            False   \n",
       "\n",
       "  purchase_date  user_id  purchase_amount  \n",
       "0    2020-02-19  9484222             4.99  \n",
       "1    2020-02-17  9422402             4.99  \n",
       "2    2020-02-18  4997991             4.99  "
      ]
     },
     "execution_count": 12,
     "metadata": {},
     "output_type": "execute_result"
    }
   ],
   "source": [
    "# в 35 пользователей значение True встречалось дважды что свидетельствует об ошибке\n",
    "# данные строки были удалены, оставлен момент первого оформления пробной подписки\n",
    "# также был добавлен столбец purchase_amount\n",
    "# если пользователь оформил пробную подписку значение в строке равняется 0\n",
    "df = pd.read_excel('/Users/volodymyrchubay/Desktop/clear_df.xlsx')\n",
    "df.head(3)"
   ]
  },
  {
   "cell_type": "markdown",
   "id": "824b4eb0",
   "metadata": {},
   "source": [
    "### Просмотр общих показателей"
   ]
  },
  {
   "cell_type": "code",
   "execution_count": 13,
   "id": "b29edbef",
   "metadata": {},
   "outputs": [
    {
     "data": {
      "text/plain": [
       "is_trial_period    62909\n",
       "dtype: int64"
      ]
     },
     "execution_count": 13,
     "metadata": {},
     "output_type": "execute_result"
    }
   ],
   "source": [
    "query1  = df.query('is_trial_period ==  True') \\\n",
    "            .groupby('user_id') \\\n",
    "            .agg({'is_trial_period': 'count'}) \\\n",
    "            .sort_values(['is_trial_period'], ascending=False)\n",
    "\n",
    "query1.count()\n",
    "# количество уникальных пользователей что оформили пробную подписку"
   ]
  },
  {
   "cell_type": "code",
   "execution_count": 14,
   "id": "9ede08b5",
   "metadata": {},
   "outputs": [
    {
     "data": {
      "text/plain": [
       "purchase_amount    19546\n",
       "dtype: int64"
      ]
     },
     "execution_count": 14,
     "metadata": {},
     "output_type": "execute_result"
    }
   ],
   "source": [
    "quary2  = df.query('is_trial_period == False') \\\n",
    "            .groupby('user_id') \\\n",
    "            .agg({'purchase_amount': 'sum'}) \\\n",
    "            .sort_values(['purchase_amount'], ascending=False)\n",
    "\n",
    "quary2.count()\n",
    "# количество уникальных пользователей что оплатили подписку после завершения пробного периода "
   ]
  },
  {
   "cell_type": "code",
   "execution_count": 15,
   "id": "066eb974",
   "metadata": {},
   "outputs": [
    {
     "data": {
      "text/plain": [
       "255348.28"
      ]
     },
     "execution_count": 15,
     "metadata": {},
     "output_type": "execute_result"
    }
   ],
   "source": [
    "revenue = quary2['purchase_amount'].sum()\n",
    "revenue"
   ]
  },
  {
   "cell_type": "markdown",
   "id": "f1e1542b",
   "metadata": {},
   "source": [
    "## 4. ANALYSE\n",
    "На этом этапе я буду выполнять некоторые расчеты, чтобы получить представление и выявить тенденции на основе данных. А также отвечу на поставленный мне вопрос и расчитаю текущий LTV юзера используя когорты."
   ]
  },
  {
   "cell_type": "code",
   "execution_count": 16,
   "id": "49ea93d7",
   "metadata": {},
   "outputs": [
    {
     "data": {
      "text/html": [
       "<div>\n",
       "<style scoped>\n",
       "    .dataframe tbody tr th:only-of-type {\n",
       "        vertical-align: middle;\n",
       "    }\n",
       "\n",
       "    .dataframe tbody tr th {\n",
       "        vertical-align: top;\n",
       "    }\n",
       "\n",
       "    .dataframe thead th {\n",
       "        text-align: right;\n",
       "    }\n",
       "</style>\n",
       "<table border=\"1\" class=\"dataframe\">\n",
       "  <thead>\n",
       "    <tr style=\"text-align: right;\">\n",
       "      <th></th>\n",
       "      <th>user_id</th>\n",
       "      <th>quantity</th>\n",
       "      <th>is_trial_period</th>\n",
       "      <th>purchase_date</th>\n",
       "      <th>purchase_amount</th>\n",
       "    </tr>\n",
       "  </thead>\n",
       "  <tbody>\n",
       "    <tr>\n",
       "      <th>114080</th>\n",
       "      <td>8194159</td>\n",
       "      <td>1</td>\n",
       "      <td>True</td>\n",
       "      <td>2020-01-01</td>\n",
       "      <td>0.0</td>\n",
       "    </tr>\n",
       "    <tr>\n",
       "      <th>113381</th>\n",
       "      <td>8208663</td>\n",
       "      <td>1</td>\n",
       "      <td>True</td>\n",
       "      <td>2020-01-01</td>\n",
       "      <td>0.0</td>\n",
       "    </tr>\n",
       "    <tr>\n",
       "      <th>113382</th>\n",
       "      <td>8201113</td>\n",
       "      <td>1</td>\n",
       "      <td>True</td>\n",
       "      <td>2020-01-01</td>\n",
       "      <td>0.0</td>\n",
       "    </tr>\n",
       "  </tbody>\n",
       "</table>\n",
       "</div>"
      ],
      "text/plain": [
       "        user_id  quantity  is_trial_period purchase_date  purchase_amount\n",
       "114080  8194159         1             True    2020-01-01              0.0\n",
       "113381  8208663         1             True    2020-01-01              0.0\n",
       "113382  8201113         1             True    2020-01-01              0.0"
      ]
     },
     "execution_count": 16,
     "metadata": {},
     "output_type": "execute_result"
    }
   ],
   "source": [
    "cohort_df = df[['user_id', 'quantity', 'is_trial_period', 'purchase_date', 'purchase_amount']]\n",
    "cohort_df = cohort_df.sort_values(by=['purchase_date'])\n",
    "cohort_df.head(3)"
   ]
  },
  {
   "cell_type": "code",
   "execution_count": 17,
   "id": "65485a77",
   "metadata": {},
   "outputs": [
    {
     "data": {
      "text/html": [
       "<div>\n",
       "<style scoped>\n",
       "    .dataframe tbody tr th:only-of-type {\n",
       "        vertical-align: middle;\n",
       "    }\n",
       "\n",
       "    .dataframe tbody tr th {\n",
       "        vertical-align: top;\n",
       "    }\n",
       "\n",
       "    .dataframe thead th {\n",
       "        text-align: right;\n",
       "    }\n",
       "</style>\n",
       "<table border=\"1\" class=\"dataframe\">\n",
       "  <thead>\n",
       "    <tr style=\"text-align: right;\">\n",
       "      <th></th>\n",
       "      <th>user_id</th>\n",
       "      <th>quantity</th>\n",
       "      <th>is_trial_period</th>\n",
       "      <th>purchase_date</th>\n",
       "      <th>purchase_amount</th>\n",
       "      <th>week</th>\n",
       "    </tr>\n",
       "  </thead>\n",
       "  <tbody>\n",
       "    <tr>\n",
       "      <th>30167</th>\n",
       "      <td>8916008</td>\n",
       "      <td>1</td>\n",
       "      <td>False</td>\n",
       "      <td>2020-02-20</td>\n",
       "      <td>4.99</td>\n",
       "      <td>7</td>\n",
       "    </tr>\n",
       "    <tr>\n",
       "      <th>1073</th>\n",
       "      <td>9083127</td>\n",
       "      <td>1</td>\n",
       "      <td>False</td>\n",
       "      <td>2020-02-20</td>\n",
       "      <td>4.99</td>\n",
       "      <td>7</td>\n",
       "    </tr>\n",
       "    <tr>\n",
       "      <th>87374</th>\n",
       "      <td>8911644</td>\n",
       "      <td>1</td>\n",
       "      <td>False</td>\n",
       "      <td>2020-02-20</td>\n",
       "      <td>4.99</td>\n",
       "      <td>7</td>\n",
       "    </tr>\n",
       "  </tbody>\n",
       "</table>\n",
       "</div>"
      ],
      "text/plain": [
       "       user_id  quantity  is_trial_period purchase_date  purchase_amount  week\n",
       "30167  8916008         1            False    2020-02-20             4.99     7\n",
       "1073   9083127         1            False    2020-02-20             4.99     7\n",
       "87374  8911644         1            False    2020-02-20             4.99     7"
      ]
     },
     "execution_count": 17,
     "metadata": {},
     "output_type": "execute_result"
    }
   ],
   "source": [
    "cohort_df['week'] = cohort_df['purchase_date'].dt.isocalendar().week - 1\n",
    "cohort_df.tail(3)"
   ]
  },
  {
   "cell_type": "markdown",
   "id": "a088c71a",
   "metadata": {},
   "source": [
    "#### Будем рассчитывать текущий LTV юзера при помощи накопительного ARPU и когортного анализа"
   ]
  },
  {
   "cell_type": "code",
   "execution_count": 18,
   "id": "0e5fde96",
   "metadata": {},
   "outputs": [
    {
     "name": "stdout",
     "output_type": "stream",
     "text": [
      "Когорта 1: 6624\n",
      "Когорта 2: 8429\n",
      "Когорта 3: 9135\n",
      "Когорта 4: 8186\n",
      "Когорта 5: 8317\n",
      "Когорта 6: 9066\n",
      "Когорта 7: 9038\n",
      "Когорта 8: 4114\n"
     ]
    }
   ],
   "source": [
    "user_ids_list = []\n",
    "n = 0\n",
    "while n != 8:\n",
    "    query = cohort_df[(cohort_df['week'] == n) & (cohort_df['is_trial_period'] == True)] \\\n",
    "                    .groupby('user_id') \\\n",
    "                    .agg({'purchase_amount': 'sum'}) \\\n",
    "                    .sort_values(['purchase_amount'], ascending=False)\n",
    "    \n",
    "    user_ids_list.append(query.index.tolist())\n",
    "    print(f\"Когорта {n+1}: {len(user_ids_list[n])}\")\n",
    "    n += 1"
   ]
  },
  {
   "cell_type": "markdown",
   "id": "8f87fbe5",
   "metadata": {},
   "source": [
    "В первую когорту попадут пользователи, которые оформили пробную подписку с 01.01.2020 по 05.01.2020, таковых было 6624 человек. В первую неделю они совершили покупки, и доход от этих покупок составил 12275.40. ARPU этой когорты 1-й недели составил 12275.40 / 6624 = 1.85 .\n",
    "\n",
    "На следующую неделю некоторые из этих же пользователей совершили платежы на общую сумму 10099.76 . Не важно, какое их количество вернулось в проект и сколько человек заплатили, размер когорты, на который мы будем делить доход, всегда 6624 пользователей.\n",
    "\n",
    "Таким образом уже можно посчитать накопительный ARPU. Он будет равен сумме ARPU 0-й недели (неделя оформления пробной подписки) и 1-й недели. Таким же образом посчитаем оставшиеся недели."
   ]
  },
  {
   "cell_type": "code",
   "execution_count": 19,
   "id": "6b17d3f2",
   "metadata": {},
   "outputs": [
    {
     "data": {
      "text/html": [
       "<div>\n",
       "<style scoped>\n",
       "    .dataframe tbody tr th:only-of-type {\n",
       "        vertical-align: middle;\n",
       "    }\n",
       "\n",
       "    .dataframe tbody tr th {\n",
       "        vertical-align: top;\n",
       "    }\n",
       "\n",
       "    .dataframe thead th {\n",
       "        text-align: right;\n",
       "    }\n",
       "</style>\n",
       "<table border=\"1\" class=\"dataframe\">\n",
       "  <thead>\n",
       "    <tr style=\"text-align: right;\">\n",
       "      <th></th>\n",
       "      <th>revenue</th>\n",
       "      <th>week_ARPU</th>\n",
       "      <th>cumulative_ARPU</th>\n",
       "    </tr>\n",
       "  </thead>\n",
       "  <tbody>\n",
       "    <tr>\n",
       "      <th>0</th>\n",
       "      <td>0.00</td>\n",
       "      <td>0.00</td>\n",
       "      <td>0.00</td>\n",
       "    </tr>\n",
       "    <tr>\n",
       "      <th>1</th>\n",
       "      <td>12275.40</td>\n",
       "      <td>1.85</td>\n",
       "      <td>1.85</td>\n",
       "    </tr>\n",
       "    <tr>\n",
       "      <th>2</th>\n",
       "      <td>10099.76</td>\n",
       "      <td>1.52</td>\n",
       "      <td>3.38</td>\n",
       "    </tr>\n",
       "    <tr>\n",
       "      <th>3</th>\n",
       "      <td>8912.14</td>\n",
       "      <td>1.35</td>\n",
       "      <td>4.72</td>\n",
       "    </tr>\n",
       "  </tbody>\n",
       "</table>\n",
       "</div>"
      ],
      "text/plain": [
       "    revenue  week_ARPU  cumulative_ARPU\n",
       "0      0.00       0.00             0.00\n",
       "1  12275.40       1.85             1.85\n",
       "2  10099.76       1.52             3.38\n",
       "3   8912.14       1.35             4.72"
      ]
     },
     "execution_count": 19,
     "metadata": {},
     "output_type": "execute_result"
    }
   ],
   "source": [
    "n = 1\n",
    "data = {'revenue':[], 'week_ARPU':[], 'cumulative_ARPU':[]}\n",
    "df = pd.DataFrame(data)\n",
    "week_users, revenue, week_ARPU, cumulative_ARPU = [], [], [], []\n",
    "\n",
    "while n != 8:\n",
    "    result = cohort_df[(cohort_df['week'] == n) & \n",
    "                   (cohort_df['is_trial_period'] == False) & \n",
    "                   (cohort_df['user_id'].isin(user_ids_list[0]))] \\\n",
    "         .agg({'user_id': 'nunique', 'purchase_amount': 'sum'})\n",
    "    \n",
    "    n += 1\n",
    "    week_users.append(result[0])\n",
    "    revenue.append(round(result[1], 2))\n",
    "    \n",
    "for i in revenue:\n",
    "    a = (i / len(user_ids_list[0]))\n",
    "    week_ARPU.append(round(a, 2))\n",
    "\n",
    "    \n",
    "df['revenue'] = revenue\n",
    "df['week_ARPU'] = week_ARPU\n",
    "top_row = pd.DataFrame({'revenue':[0],'week_ARPU':[0],'cumulative_ARPU':[0]})\n",
    "df = pd.concat([top_row, df]).reset_index(drop = True)\n",
    "revenue.insert(0, 0)\n",
    "\n",
    "def nums_cumulative_sum(nums_list):\n",
    "    return [math.fsum(nums_list[:i+1]) for i in range(len(nums_list))]\n",
    "\n",
    "cumulative_sum = nums_cumulative_sum(revenue)\n",
    "\n",
    "for i in cumulative_sum:\n",
    "    b = (i / len(user_ids_list[0]))\n",
    "    cumulative_ARPU.append(round(b, 2))\n",
    "\n",
    "df['cumulative_ARPU'] = cumulative_ARPU\n",
    "\n",
    "cohort1_df = df\n",
    "cohort1_df.head(4)"
   ]
  },
  {
   "cell_type": "markdown",
   "id": "b4cf8673",
   "metadata": {},
   "source": [
    "#### Используя этот метод, производим расчеты для всех когорт"
   ]
  },
  {
   "cell_type": "code",
   "execution_count": 20,
   "id": "f37922a5",
   "metadata": {},
   "outputs": [
    {
     "data": {
      "text/html": [
       "<div>\n",
       "<style scoped>\n",
       "    .dataframe tbody tr th:only-of-type {\n",
       "        vertical-align: middle;\n",
       "    }\n",
       "\n",
       "    .dataframe tbody tr th {\n",
       "        vertical-align: top;\n",
       "    }\n",
       "\n",
       "    .dataframe thead th {\n",
       "        text-align: right;\n",
       "    }\n",
       "</style>\n",
       "<table border=\"1\" class=\"dataframe\">\n",
       "  <thead>\n",
       "    <tr style=\"text-align: right;\">\n",
       "      <th></th>\n",
       "      <th>cohort</th>\n",
       "      <th>week</th>\n",
       "      <th>revenue</th>\n",
       "      <th>week_ARPU</th>\n",
       "      <th>cumulative_ARPU</th>\n",
       "    </tr>\n",
       "  </thead>\n",
       "  <tbody>\n",
       "    <tr>\n",
       "      <th>54</th>\n",
       "      <td>7.0</td>\n",
       "      <td>6.0</td>\n",
       "      <td>0.00</td>\n",
       "      <td>0.00</td>\n",
       "      <td>0.00</td>\n",
       "    </tr>\n",
       "    <tr>\n",
       "      <th>55</th>\n",
       "      <td>7.0</td>\n",
       "      <td>7.0</td>\n",
       "      <td>7030.91</td>\n",
       "      <td>0.78</td>\n",
       "      <td>0.78</td>\n",
       "    </tr>\n",
       "  </tbody>\n",
       "</table>\n",
       "</div>"
      ],
      "text/plain": [
       "    cohort  week  revenue  week_ARPU  cumulative_ARPU\n",
       "54     7.0   6.0     0.00       0.00             0.00\n",
       "55     7.0   7.0  7030.91       0.78             0.78"
      ]
     },
     "execution_count": 20,
     "metadata": {},
     "output_type": "execute_result"
    }
   ],
   "source": [
    "data = {'cohort':[], 'week':[], 'revenue':[], 'week_ARPU':[], 'cumulative_ARPU':[]}\n",
    "data_frame = pd.DataFrame(data)\n",
    "\n",
    "def nums_cumulative_sum(nums_list):\n",
    "        return [math.fsum(nums_list[:i+1]) for i in range(len(nums_list))]\n",
    "\n",
    "cohort = 0\n",
    "while cohort != 7:\n",
    "    data = {'week':[], 'revenue':[], 'week_ARPU':[], 'cumulative_ARPU':[]}\n",
    "    week_users, revenue, week_ARPU, cumulative_ARPU, week = [], [], [], [], []\n",
    "    df = pd.DataFrame(data)\n",
    "    w = 1\n",
    "    while w != 8:\n",
    "        result = cohort_df[(cohort_df['week'] == w) & \n",
    "                           (cohort_df['is_trial_period'] == False) & \n",
    "                           (cohort_df['user_id'].isin(user_ids_list[cohort]))] \\\n",
    "        .agg({'user_id': 'nunique', 'purchase_amount': 'sum'})\n",
    "    \n",
    "        week.append(w)\n",
    "        w += 1\n",
    "        week_users.append(result[0])\n",
    "        revenue.append(round(result[1], 2))\n",
    "    \n",
    "    for i in revenue:\n",
    "        a = (i / len(user_ids_list[cohort]))\n",
    "        week_ARPU.append(round(a, 2))\n",
    "\n",
    "    df['week'] = week\n",
    "    df['revenue'] = revenue\n",
    "    df['week_ARPU'] = week_ARPU\n",
    "    top_row = pd.DataFrame({'week':[0],'revenue':[0],'week_ARPU':[0],'cumulative_ARPU':[0]})\n",
    "    df = pd.concat([top_row, df]).reset_index(drop = True)\n",
    "    revenue.insert(0, 0)\n",
    "\n",
    "    cumulative_sum = nums_cumulative_sum(revenue)\n",
    "\n",
    "    for i in cumulative_sum:\n",
    "        b = (i / len(user_ids_list[cohort]))\n",
    "        cumulative_ARPU.append(round(b, 2))\n",
    "\n",
    "    df['cumulative_ARPU'] = cumulative_ARPU\n",
    "    df['cohort'] = cohort + 1\n",
    "    cohort += 1\n",
    "    \n",
    "    cohorta_df = df\n",
    "    data_frame = pd.concat([data_frame, cohorta_df], ignore_index=True)\n",
    "\n",
    "data_frame.tail(2)"
   ]
  },
  {
   "cell_type": "code",
   "execution_count": 21,
   "id": "683853f2",
   "metadata": {},
   "outputs": [
    {
     "data": {
      "text/html": [
       "<div>\n",
       "<style scoped>\n",
       "    .dataframe tbody tr th:only-of-type {\n",
       "        vertical-align: middle;\n",
       "    }\n",
       "\n",
       "    .dataframe tbody tr th {\n",
       "        vertical-align: top;\n",
       "    }\n",
       "\n",
       "    .dataframe thead th {\n",
       "        text-align: right;\n",
       "    }\n",
       "</style>\n",
       "<table border=\"1\" class=\"dataframe\">\n",
       "  <thead>\n",
       "    <tr style=\"text-align: right;\">\n",
       "      <th></th>\n",
       "      <th>cohort</th>\n",
       "      <th>week</th>\n",
       "      <th>revenue</th>\n",
       "      <th>week_ARPU</th>\n",
       "      <th>cumulative_ARPU</th>\n",
       "    </tr>\n",
       "  </thead>\n",
       "  <tbody>\n",
       "    <tr>\n",
       "      <th>8</th>\n",
       "      <td>2.0</td>\n",
       "      <td>0.0</td>\n",
       "      <td>0.00</td>\n",
       "      <td>0.00</td>\n",
       "      <td>0.00</td>\n",
       "    </tr>\n",
       "    <tr>\n",
       "      <th>9</th>\n",
       "      <td>2.0</td>\n",
       "      <td>1.0</td>\n",
       "      <td>14.97</td>\n",
       "      <td>0.00</td>\n",
       "      <td>0.00</td>\n",
       "    </tr>\n",
       "    <tr>\n",
       "      <th>10</th>\n",
       "      <td>2.0</td>\n",
       "      <td>2.0</td>\n",
       "      <td>14540.86</td>\n",
       "      <td>1.73</td>\n",
       "      <td>1.73</td>\n",
       "    </tr>\n",
       "    <tr>\n",
       "      <th>11</th>\n",
       "      <td>2.0</td>\n",
       "      <td>3.0</td>\n",
       "      <td>11946.06</td>\n",
       "      <td>1.42</td>\n",
       "      <td>3.14</td>\n",
       "    </tr>\n",
       "    <tr>\n",
       "      <th>12</th>\n",
       "      <td>2.0</td>\n",
       "      <td>4.0</td>\n",
       "      <td>10404.15</td>\n",
       "      <td>1.23</td>\n",
       "      <td>4.38</td>\n",
       "    </tr>\n",
       "    <tr>\n",
       "      <th>13</th>\n",
       "      <td>2.0</td>\n",
       "      <td>5.0</td>\n",
       "      <td>9301.36</td>\n",
       "      <td>1.10</td>\n",
       "      <td>5.48</td>\n",
       "    </tr>\n",
       "    <tr>\n",
       "      <th>14</th>\n",
       "      <td>2.0</td>\n",
       "      <td>6.0</td>\n",
       "      <td>8443.08</td>\n",
       "      <td>1.00</td>\n",
       "      <td>6.48</td>\n",
       "    </tr>\n",
       "    <tr>\n",
       "      <th>15</th>\n",
       "      <td>2.0</td>\n",
       "      <td>7.0</td>\n",
       "      <td>3483.02</td>\n",
       "      <td>0.41</td>\n",
       "      <td>6.90</td>\n",
       "    </tr>\n",
       "  </tbody>\n",
       "</table>\n",
       "</div>"
      ],
      "text/plain": [
       "    cohort  week   revenue  week_ARPU  cumulative_ARPU\n",
       "8      2.0   0.0      0.00       0.00             0.00\n",
       "9      2.0   1.0     14.97       0.00             0.00\n",
       "10     2.0   2.0  14540.86       1.73             1.73\n",
       "11     2.0   3.0  11946.06       1.42             3.14\n",
       "12     2.0   4.0  10404.15       1.23             4.38\n",
       "13     2.0   5.0   9301.36       1.10             5.48\n",
       "14     2.0   6.0   8443.08       1.00             6.48\n",
       "15     2.0   7.0   3483.02       0.41             6.90"
      ]
     },
     "execution_count": 21,
     "metadata": {},
     "output_type": "execute_result"
    }
   ],
   "source": [
    "data_frame[data_frame['cohort'] == 2]"
   ]
  },
  {
   "cell_type": "code",
   "execution_count": 22,
   "id": "f602e335",
   "metadata": {},
   "outputs": [],
   "source": [
    "pivot_table = pd.pivot_table(data_frame, values='cumulative_ARPU', index=['cohort'], columns=['week'])"
   ]
  },
  {
   "cell_type": "code",
   "execution_count": 23,
   "id": "6eba8dff",
   "metadata": {},
   "outputs": [
    {
     "data": {
      "text/html": [
       "<style type=\"text/css\">\n",
       "#T_e4e71_row0_col0, #T_e4e71_row1_col0, #T_e4e71_row1_col1, #T_e4e71_row2_col0, #T_e4e71_row2_col1, #T_e4e71_row2_col2, #T_e4e71_row3_col0, #T_e4e71_row3_col1, #T_e4e71_row3_col2, #T_e4e71_row3_col3, #T_e4e71_row4_col0, #T_e4e71_row4_col1, #T_e4e71_row4_col2, #T_e4e71_row4_col3, #T_e4e71_row4_col4, #T_e4e71_row5_col0, #T_e4e71_row5_col1, #T_e4e71_row5_col2, #T_e4e71_row5_col3, #T_e4e71_row5_col4, #T_e4e71_row5_col5, #T_e4e71_row6_col0, #T_e4e71_row6_col1, #T_e4e71_row6_col2, #T_e4e71_row6_col3, #T_e4e71_row6_col4, #T_e4e71_row6_col5, #T_e4e71_row6_col6 {\n",
       "  background-color: #fff7fb;\n",
       "  color: #000000;\n",
       "}\n",
       "#T_e4e71_row0_col1 {\n",
       "  background-color: #d7d6e9;\n",
       "  color: #000000;\n",
       "}\n",
       "#T_e4e71_row0_col2 {\n",
       "  background-color: #9ab8d8;\n",
       "  color: #000000;\n",
       "}\n",
       "#T_e4e71_row0_col3 {\n",
       "  background-color: #529bc7;\n",
       "  color: #f1f1f1;\n",
       "}\n",
       "#T_e4e71_row0_col4 {\n",
       "  background-color: #1379b5;\n",
       "  color: #f1f1f1;\n",
       "}\n",
       "#T_e4e71_row0_col5, #T_e4e71_row4_col6 {\n",
       "  background-color: #045e94;\n",
       "  color: #f1f1f1;\n",
       "}\n",
       "#T_e4e71_row0_col6 {\n",
       "  background-color: #023f64;\n",
       "  color: #f1f1f1;\n",
       "}\n",
       "#T_e4e71_row0_col7, #T_e4e71_row1_col7, #T_e4e71_row2_col7, #T_e4e71_row3_col7, #T_e4e71_row4_col7, #T_e4e71_row5_col7, #T_e4e71_row6_col7 {\n",
       "  background-color: #023858;\n",
       "  color: #f1f1f1;\n",
       "}\n",
       "#T_e4e71_row1_col2 {\n",
       "  background-color: #d0d1e6;\n",
       "  color: #000000;\n",
       "}\n",
       "#T_e4e71_row1_col3 {\n",
       "  background-color: #86b0d3;\n",
       "  color: #000000;\n",
       "}\n",
       "#T_e4e71_row1_col4 {\n",
       "  background-color: #328dbf;\n",
       "  color: #f1f1f1;\n",
       "}\n",
       "#T_e4e71_row1_col5 {\n",
       "  background-color: #0568a3;\n",
       "  color: #f1f1f1;\n",
       "}\n",
       "#T_e4e71_row1_col6 {\n",
       "  background-color: #034871;\n",
       "  color: #f1f1f1;\n",
       "}\n",
       "#T_e4e71_row2_col3 {\n",
       "  background-color: #c1cae2;\n",
       "  color: #000000;\n",
       "}\n",
       "#T_e4e71_row2_col4 {\n",
       "  background-color: #63a2cb;\n",
       "  color: #f1f1f1;\n",
       "}\n",
       "#T_e4e71_row2_col5 {\n",
       "  background-color: #0872b1;\n",
       "  color: #f1f1f1;\n",
       "}\n",
       "#T_e4e71_row2_col6 {\n",
       "  background-color: #034d79;\n",
       "  color: #f1f1f1;\n",
       "}\n",
       "#T_e4e71_row3_col4 {\n",
       "  background-color: #a8bedc;\n",
       "  color: #000000;\n",
       "}\n",
       "#T_e4e71_row3_col5 {\n",
       "  background-color: #2a88bc;\n",
       "  color: #f1f1f1;\n",
       "}\n",
       "#T_e4e71_row3_col6 {\n",
       "  background-color: #045585;\n",
       "  color: #f1f1f1;\n",
       "}\n",
       "#T_e4e71_row4_col5 {\n",
       "  background-color: #7dacd1;\n",
       "  color: #f1f1f1;\n",
       "}\n",
       "#T_e4e71_row5_col6 {\n",
       "  background-color: #0d75b3;\n",
       "  color: #f1f1f1;\n",
       "}\n",
       "</style>\n",
       "<table id=\"T_e4e71\">\n",
       "  <thead>\n",
       "    <tr>\n",
       "      <th class=\"index_name level0\" >week</th>\n",
       "      <th id=\"T_e4e71_level0_col0\" class=\"col_heading level0 col0\" >0.000000</th>\n",
       "      <th id=\"T_e4e71_level0_col1\" class=\"col_heading level0 col1\" >1.000000</th>\n",
       "      <th id=\"T_e4e71_level0_col2\" class=\"col_heading level0 col2\" >2.000000</th>\n",
       "      <th id=\"T_e4e71_level0_col3\" class=\"col_heading level0 col3\" >3.000000</th>\n",
       "      <th id=\"T_e4e71_level0_col4\" class=\"col_heading level0 col4\" >4.000000</th>\n",
       "      <th id=\"T_e4e71_level0_col5\" class=\"col_heading level0 col5\" >5.000000</th>\n",
       "      <th id=\"T_e4e71_level0_col6\" class=\"col_heading level0 col6\" >6.000000</th>\n",
       "      <th id=\"T_e4e71_level0_col7\" class=\"col_heading level0 col7\" >7.000000</th>\n",
       "    </tr>\n",
       "    <tr>\n",
       "      <th class=\"index_name level0\" >cohort</th>\n",
       "      <th class=\"blank col0\" >&nbsp;</th>\n",
       "      <th class=\"blank col1\" >&nbsp;</th>\n",
       "      <th class=\"blank col2\" >&nbsp;</th>\n",
       "      <th class=\"blank col3\" >&nbsp;</th>\n",
       "      <th class=\"blank col4\" >&nbsp;</th>\n",
       "      <th class=\"blank col5\" >&nbsp;</th>\n",
       "      <th class=\"blank col6\" >&nbsp;</th>\n",
       "      <th class=\"blank col7\" >&nbsp;</th>\n",
       "    </tr>\n",
       "  </thead>\n",
       "  <tbody>\n",
       "    <tr>\n",
       "      <th id=\"T_e4e71_level0_row0\" class=\"row_heading level0 row0\" >1.000000</th>\n",
       "      <td id=\"T_e4e71_row0_col0\" class=\"data row0 col0\" >0.000000</td>\n",
       "      <td id=\"T_e4e71_row0_col1\" class=\"data row0 col1\" >1.850000</td>\n",
       "      <td id=\"T_e4e71_row0_col2\" class=\"data row0 col2\" >3.380000</td>\n",
       "      <td id=\"T_e4e71_row0_col3\" class=\"data row0 col3\" >4.720000</td>\n",
       "      <td id=\"T_e4e71_row0_col4\" class=\"data row0 col4\" >5.950000</td>\n",
       "      <td id=\"T_e4e71_row0_col5\" class=\"data row0 col5\" >7.070000</td>\n",
       "      <td id=\"T_e4e71_row0_col6\" class=\"data row0 col6\" >8.080000</td>\n",
       "      <td id=\"T_e4e71_row0_col7\" class=\"data row0 col7\" >8.330000</td>\n",
       "    </tr>\n",
       "    <tr>\n",
       "      <th id=\"T_e4e71_level0_row1\" class=\"row_heading level0 row1\" >2.000000</th>\n",
       "      <td id=\"T_e4e71_row1_col0\" class=\"data row1 col0\" >0.000000</td>\n",
       "      <td id=\"T_e4e71_row1_col1\" class=\"data row1 col1\" >0.000000</td>\n",
       "      <td id=\"T_e4e71_row1_col2\" class=\"data row1 col2\" >1.730000</td>\n",
       "      <td id=\"T_e4e71_row1_col3\" class=\"data row1 col3\" >3.140000</td>\n",
       "      <td id=\"T_e4e71_row1_col4\" class=\"data row1 col4\" >4.380000</td>\n",
       "      <td id=\"T_e4e71_row1_col5\" class=\"data row1 col5\" >5.480000</td>\n",
       "      <td id=\"T_e4e71_row1_col6\" class=\"data row1 col6\" >6.480000</td>\n",
       "      <td id=\"T_e4e71_row1_col7\" class=\"data row1 col7\" >6.900000</td>\n",
       "    </tr>\n",
       "    <tr>\n",
       "      <th id=\"T_e4e71_level0_row2\" class=\"row_heading level0 row2\" >3.000000</th>\n",
       "      <td id=\"T_e4e71_row2_col0\" class=\"data row2 col0\" >0.000000</td>\n",
       "      <td id=\"T_e4e71_row2_col1\" class=\"data row2 col1\" >0.000000</td>\n",
       "      <td id=\"T_e4e71_row2_col2\" class=\"data row2 col2\" >0.000000</td>\n",
       "      <td id=\"T_e4e71_row2_col3\" class=\"data row2 col3\" >1.690000</td>\n",
       "      <td id=\"T_e4e71_row2_col4\" class=\"data row2 col4\" >3.050000</td>\n",
       "      <td id=\"T_e4e71_row2_col5\" class=\"data row2 col5\" >4.240000</td>\n",
       "      <td id=\"T_e4e71_row2_col6\" class=\"data row2 col6\" >5.290000</td>\n",
       "      <td id=\"T_e4e71_row2_col7\" class=\"data row2 col7\" >5.740000</td>\n",
       "    </tr>\n",
       "    <tr>\n",
       "      <th id=\"T_e4e71_level0_row3\" class=\"row_heading level0 row3\" >4.000000</th>\n",
       "      <td id=\"T_e4e71_row3_col0\" class=\"data row3 col0\" >0.000000</td>\n",
       "      <td id=\"T_e4e71_row3_col1\" class=\"data row3 col1\" >0.000000</td>\n",
       "      <td id=\"T_e4e71_row3_col2\" class=\"data row3 col2\" >0.000000</td>\n",
       "      <td id=\"T_e4e71_row3_col3\" class=\"data row3 col3\" >0.000000</td>\n",
       "      <td id=\"T_e4e71_row3_col4\" class=\"data row3 col4\" >1.600000</td>\n",
       "      <td id=\"T_e4e71_row3_col5\" class=\"data row3 col5\" >2.830000</td>\n",
       "      <td id=\"T_e4e71_row3_col6\" class=\"data row3 col6\" >3.870000</td>\n",
       "      <td id=\"T_e4e71_row3_col7\" class=\"data row3 col7\" >4.330000</td>\n",
       "    </tr>\n",
       "    <tr>\n",
       "      <th id=\"T_e4e71_level0_row4\" class=\"row_heading level0 row4\" >5.000000</th>\n",
       "      <td id=\"T_e4e71_row4_col0\" class=\"data row4 col0\" >0.000000</td>\n",
       "      <td id=\"T_e4e71_row4_col1\" class=\"data row4 col1\" >0.000000</td>\n",
       "      <td id=\"T_e4e71_row4_col2\" class=\"data row4 col2\" >0.000000</td>\n",
       "      <td id=\"T_e4e71_row4_col3\" class=\"data row4 col3\" >0.000000</td>\n",
       "      <td id=\"T_e4e71_row4_col4\" class=\"data row4 col4\" >0.000000</td>\n",
       "      <td id=\"T_e4e71_row4_col5\" class=\"data row4 col5\" >1.590000</td>\n",
       "      <td id=\"T_e4e71_row4_col6\" class=\"data row4 col6\" >2.830000</td>\n",
       "      <td id=\"T_e4e71_row4_col7\" class=\"data row4 col7\" >3.330000</td>\n",
       "    </tr>\n",
       "    <tr>\n",
       "      <th id=\"T_e4e71_level0_row5\" class=\"row_heading level0 row5\" >6.000000</th>\n",
       "      <td id=\"T_e4e71_row5_col0\" class=\"data row5 col0\" >0.000000</td>\n",
       "      <td id=\"T_e4e71_row5_col1\" class=\"data row5 col1\" >0.000000</td>\n",
       "      <td id=\"T_e4e71_row5_col2\" class=\"data row5 col2\" >0.000000</td>\n",
       "      <td id=\"T_e4e71_row5_col3\" class=\"data row5 col3\" >0.000000</td>\n",
       "      <td id=\"T_e4e71_row5_col4\" class=\"data row5 col4\" >0.000000</td>\n",
       "      <td id=\"T_e4e71_row5_col5\" class=\"data row5 col5\" >0.000000</td>\n",
       "      <td id=\"T_e4e71_row5_col6\" class=\"data row5 col6\" >1.570000</td>\n",
       "      <td id=\"T_e4e71_row5_col7\" class=\"data row5 col7\" >2.150000</td>\n",
       "    </tr>\n",
       "    <tr>\n",
       "      <th id=\"T_e4e71_level0_row6\" class=\"row_heading level0 row6\" >7.000000</th>\n",
       "      <td id=\"T_e4e71_row6_col0\" class=\"data row6 col0\" >0.000000</td>\n",
       "      <td id=\"T_e4e71_row6_col1\" class=\"data row6 col1\" >0.000000</td>\n",
       "      <td id=\"T_e4e71_row6_col2\" class=\"data row6 col2\" >0.000000</td>\n",
       "      <td id=\"T_e4e71_row6_col3\" class=\"data row6 col3\" >0.000000</td>\n",
       "      <td id=\"T_e4e71_row6_col4\" class=\"data row6 col4\" >0.000000</td>\n",
       "      <td id=\"T_e4e71_row6_col5\" class=\"data row6 col5\" >0.000000</td>\n",
       "      <td id=\"T_e4e71_row6_col6\" class=\"data row6 col6\" >0.000000</td>\n",
       "      <td id=\"T_e4e71_row6_col7\" class=\"data row6 col7\" >0.780000</td>\n",
       "    </tr>\n",
       "  </tbody>\n",
       "</table>\n"
      ],
      "text/plain": [
       "<pandas.io.formats.style.Styler at 0x7ff1a6319760>"
      ]
     },
     "execution_count": 23,
     "metadata": {},
     "output_type": "execute_result"
    }
   ],
   "source": [
    "pivot_table.style.background_gradient(axis=1)"
   ]
  },
  {
   "cell_type": "code",
   "execution_count": 24,
   "id": "19ee74d4",
   "metadata": {},
   "outputs": [
    {
     "data": {
      "text/plain": [
       "4.51"
      ]
     },
     "execution_count": 24,
     "metadata": {},
     "output_type": "execute_result"
    }
   ],
   "source": [
    "ltv = round(pivot_table[7].mean(), 2)\n",
    "ltv"
   ]
  },
  {
   "cell_type": "markdown",
   "id": "e236d465",
   "metadata": {},
   "source": [
    "### Таким образом, текущий LTV юзера составляет  $4.51"
   ]
  }
 ],
 "metadata": {
  "kernelspec": {
   "display_name": "Python 3 (ipykernel)",
   "language": "python",
   "name": "python3"
  },
  "language_info": {
   "codemirror_mode": {
    "name": "ipython",
    "version": 3
   },
   "file_extension": ".py",
   "mimetype": "text/x-python",
   "name": "python",
   "nbconvert_exporter": "python",
   "pygments_lexer": "ipython3",
   "version": "3.9.7"
  }
 },
 "nbformat": 4,
 "nbformat_minor": 5
}
